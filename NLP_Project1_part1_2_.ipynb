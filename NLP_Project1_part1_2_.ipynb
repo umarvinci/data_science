{
 "cells": [
  {
   "cell_type": "code",
   "execution_count": 1,
   "id": "heard-combining",
   "metadata": {},
   "outputs": [
    {
     "name": "stderr",
     "output_type": "stream",
     "text": [
      "[nltk_data] Downloading package stopwords to\n",
      "[nltk_data]     C:\\Users\\komal\\AppData\\Roaming\\nltk_data...\n",
      "[nltk_data]   Package stopwords is already up-to-date!\n"
     ]
    }
   ],
   "source": [
    "#Importing the necessary libraries\n",
    "import matplotlib.pyplot as plt \n",
    "import numpy as np \n",
    "import pandas as pd\n",
    "from mpl_toolkits.mplot3d import Axes3D\n",
    "from sklearn.preprocessing import StandardScaler\n",
    "from pandas_profiling import ProfileReport\n",
    "\n",
    "from sklearn.model_selection import train_test_split\n",
    "from sklearn.feature_extraction.text import CountVectorizer, TfidfVectorizer\n",
    "from sklearn.naive_bayes import MultinomialNB\n",
    "from sklearn.linear_model import LogisticRegression\n",
    "from sklearn.multiclass import OneVsRestClassifier\n",
    "from sklearn.preprocessing import MultiLabelBinarizer\n",
    "from sklearn import metrics\n",
    "from sklearn.metrics import accuracy_score,recall_score,precision_score,f1_score,average_precision_score\n",
    "\n",
    "from sklearn.linear_model import LogisticRegression\n",
    "from sklearn.discriminant_analysis import LinearDiscriminantAnalysis\n",
    "from sklearn.svm import LinearSVC\n",
    "from sklearn.naive_bayes import MultinomialNB\n",
    "from sklearn.metrics import accuracy_score\n",
    "from sklearn.metrics import f1_score\n",
    "from sklearn.metrics import average_precision_score\n",
    "from sklearn.metrics import recall_score\n",
    "import seaborn as sns\n",
    "sns.set(style=\"ticks\", color_codes=True)\n",
    "import re\n",
    "import nltk\n",
    "nltk.download('stopwords')\n",
    "from nltk.corpus import stopwords\n",
    "from bs4 import BeautifulSoup"
   ]
  },
  {
   "cell_type": "markdown",
   "id": "interested-operations",
   "metadata": {},
   "source": [
    "# Steps and tasks"
   ]
  },
  {
   "cell_type": "markdown",
   "id": "medium-process",
   "metadata": {},
   "source": [
    "## Importing and analysing the data"
   ]
  },
  {
   "cell_type": "markdown",
   "id": "bored-flavor",
   "metadata": {},
   "source": [
    "* I am importing the blog data and considering the sample for less run time"
   ]
  },
  {
   "cell_type": "code",
   "execution_count": 361,
   "id": "dated-activation",
   "metadata": {},
   "outputs": [],
   "source": [
    "#Importing the data\n",
    "blog_data_main = pd.read_csv(\"D:/01_Systematic_Folders/01_AIML_course/01_Final_projects/01_NLP/Project/Project1/blogtext.csv\")"
   ]
  },
  {
   "cell_type": "code",
   "execution_count": 362,
   "id": "biblical-bouquet",
   "metadata": {},
   "outputs": [],
   "source": [
    "blog_data=blog_data_main.iloc[0:5000]"
   ]
  },
  {
   "cell_type": "code",
   "execution_count": 363,
   "id": "annoying-destiny",
   "metadata": {},
   "outputs": [
    {
     "data": {
      "text/html": [
       "<div>\n",
       "<style scoped>\n",
       "    .dataframe tbody tr th:only-of-type {\n",
       "        vertical-align: middle;\n",
       "    }\n",
       "\n",
       "    .dataframe tbody tr th {\n",
       "        vertical-align: top;\n",
       "    }\n",
       "\n",
       "    .dataframe thead th {\n",
       "        text-align: right;\n",
       "    }\n",
       "</style>\n",
       "<table border=\"1\" class=\"dataframe\">\n",
       "  <thead>\n",
       "    <tr style=\"text-align: right;\">\n",
       "      <th></th>\n",
       "      <th>id</th>\n",
       "      <th>gender</th>\n",
       "      <th>age</th>\n",
       "      <th>topic</th>\n",
       "      <th>sign</th>\n",
       "      <th>date</th>\n",
       "      <th>text</th>\n",
       "    </tr>\n",
       "  </thead>\n",
       "  <tbody>\n",
       "    <tr>\n",
       "      <th>0</th>\n",
       "      <td>2059027</td>\n",
       "      <td>male</td>\n",
       "      <td>15</td>\n",
       "      <td>Student</td>\n",
       "      <td>Leo</td>\n",
       "      <td>14,May,2004</td>\n",
       "      <td>Info has been found (+/- 100 pages,...</td>\n",
       "    </tr>\n",
       "    <tr>\n",
       "      <th>1</th>\n",
       "      <td>2059027</td>\n",
       "      <td>male</td>\n",
       "      <td>15</td>\n",
       "      <td>Student</td>\n",
       "      <td>Leo</td>\n",
       "      <td>13,May,2004</td>\n",
       "      <td>These are the team members:   Drewe...</td>\n",
       "    </tr>\n",
       "    <tr>\n",
       "      <th>2</th>\n",
       "      <td>2059027</td>\n",
       "      <td>male</td>\n",
       "      <td>15</td>\n",
       "      <td>Student</td>\n",
       "      <td>Leo</td>\n",
       "      <td>12,May,2004</td>\n",
       "      <td>In het kader van kernfusie op aarde...</td>\n",
       "    </tr>\n",
       "    <tr>\n",
       "      <th>3</th>\n",
       "      <td>2059027</td>\n",
       "      <td>male</td>\n",
       "      <td>15</td>\n",
       "      <td>Student</td>\n",
       "      <td>Leo</td>\n",
       "      <td>12,May,2004</td>\n",
       "      <td>testing!!!  testing!!!</td>\n",
       "    </tr>\n",
       "    <tr>\n",
       "      <th>4</th>\n",
       "      <td>3581210</td>\n",
       "      <td>male</td>\n",
       "      <td>33</td>\n",
       "      <td>InvestmentBanking</td>\n",
       "      <td>Aquarius</td>\n",
       "      <td>11,June,2004</td>\n",
       "      <td>Thanks to Yahoo!'s Toolbar I can ...</td>\n",
       "    </tr>\n",
       "  </tbody>\n",
       "</table>\n",
       "</div>"
      ],
      "text/plain": [
       "        id gender  age              topic      sign          date  \\\n",
       "0  2059027   male   15            Student       Leo   14,May,2004   \n",
       "1  2059027   male   15            Student       Leo   13,May,2004   \n",
       "2  2059027   male   15            Student       Leo   12,May,2004   \n",
       "3  2059027   male   15            Student       Leo   12,May,2004   \n",
       "4  3581210   male   33  InvestmentBanking  Aquarius  11,June,2004   \n",
       "\n",
       "                                                text  \n",
       "0             Info has been found (+/- 100 pages,...  \n",
       "1             These are the team members:   Drewe...  \n",
       "2             In het kader van kernfusie op aarde...  \n",
       "3                   testing!!!  testing!!!            \n",
       "4               Thanks to Yahoo!'s Toolbar I can ...  "
      ]
     },
     "execution_count": 363,
     "metadata": {},
     "output_type": "execute_result"
    }
   ],
   "source": [
    "blog_data.head()"
   ]
  },
  {
   "cell_type": "code",
   "execution_count": 364,
   "id": "minus-miniature",
   "metadata": {},
   "outputs": [
    {
     "data": {
      "text/plain": [
       "id        5000\n",
       "gender    5000\n",
       "age       5000\n",
       "topic     5000\n",
       "sign      5000\n",
       "date      5000\n",
       "text      5000\n",
       "dtype: int64"
      ]
     },
     "execution_count": 364,
     "metadata": {},
     "output_type": "execute_result"
    }
   ],
   "source": [
    "blog_data.count()"
   ]
  },
  {
   "cell_type": "code",
   "execution_count": 365,
   "id": "occupational-julian",
   "metadata": {},
   "outputs": [
    {
     "data": {
      "text/plain": [
       "id         int64\n",
       "gender    object\n",
       "age        int64\n",
       "topic     object\n",
       "sign      object\n",
       "date      object\n",
       "text      object\n",
       "dtype: object"
      ]
     },
     "execution_count": 365,
     "metadata": {},
     "output_type": "execute_result"
    }
   ],
   "source": [
    "blog_data.dtypes"
   ]
  },
  {
   "cell_type": "markdown",
   "id": "intelligent-chambers",
   "metadata": {},
   "source": [
    "## Exploratory data analysis"
   ]
  },
  {
   "cell_type": "code",
   "execution_count": 366,
   "id": "solved-springfield",
   "metadata": {},
   "outputs": [
    {
     "data": {
      "text/plain": [
       "<AxesSubplot:>"
      ]
     },
     "execution_count": 366,
     "metadata": {},
     "output_type": "execute_result"
    },
    {
     "data": {
      "image/png": "[encoded data removed]",
      "text/plain": [
       "<Figure size 432x288 with 1 Axes>"
      ]
     },
     "metadata": {},
     "output_type": "display_data"
    }
   ],
   "source": [
    "blog_data['gender'].value_counts(normalize=True).plot(kind = 'barh')"
   ]
  },
  {
   "cell_type": "code",
   "execution_count": 367,
   "id": "correct-complement",
   "metadata": {},
   "outputs": [
    {
     "data": {
      "image/png": "[encoded data removed]",
      "text/plain": [
       "<Figure size 432x288 with 1 Axes>"
      ]
     },
     "metadata": {},
     "output_type": "display_data"
    }
   ],
   "source": [
    "p=blog_data['topic'].value_counts(normalize=True).plot(kind='bar')"
   ]
  },
  {
   "cell_type": "code",
   "execution_count": 368,
   "id": "tracked-chassis",
   "metadata": {},
   "outputs": [
    {
     "data": {
      "text/plain": [
       "<AxesSubplot:>"
      ]
     },
     "execution_count": 368,
     "metadata": {},
     "output_type": "execute_result"
    },
    {
     "data": {
      "image/png": "[encoded data removed]",
      "text/plain": [
       "<Figure size 432x288 with 1 Axes>"
      ]
     },
     "metadata": {},
     "output_type": "display_data"
    }
   ],
   "source": [
    "blog_data['sign'].value_counts(normalize=True).plot(kind = 'barh')"
   ]
  },
  {
   "cell_type": "code",
   "execution_count": 369,
   "id": "portuguese-translation",
   "metadata": {},
   "outputs": [
    {
     "data": {
      "text/plain": [
       "<AxesSubplot:>"
      ]
     },
     "execution_count": 369,
     "metadata": {},
     "output_type": "execute_result"
    },
    {
     "data": {
      "image/png": "[encoded data removed]",
      "text/plain": [
       "<Figure size 432x288 with 1 Axes>"
      ]
     },
     "metadata": {},
     "output_type": "display_data"
    }
   ],
   "source": [
    "blog_data['age'].value_counts(normalize=True).plot(kind = 'barh')"
   ]
  },
  {
   "cell_type": "markdown",
   "id": "neutral-oxide",
   "metadata": {},
   "source": [
    "### Performing the binning on age variable on the basis of percentage distribution"
   ]
  },
  {
   "cell_type": "code",
   "execution_count": 370,
   "id": "thrown-madness",
   "metadata": {},
   "outputs": [
    {
     "name": "stderr",
     "output_type": "stream",
     "text": [
      "C:\\ProgramData\\Anaconda3\\lib\\site-packages\\ipykernel_launcher.py:2: SettingWithCopyWarning: \n",
      "A value is trying to be set on a copy of a slice from a DataFrame.\n",
      "Try using .loc[row_indexer,col_indexer] = value instead\n",
      "\n",
      "See the caveats in the documentation: https://pandas.pydata.org/pandas-docs/stable/user_guide/indexing.html#returning-a-view-versus-a-copy\n",
      "  \n"
     ]
    }
   ],
   "source": [
    "bins = [0,10,11,20,21,30,31,40,50]\n",
    "blog_data['binned_age_range'] = pd.cut(blog_data['age'], bins)"
   ]
  },
  {
   "cell_type": "code",
   "execution_count": 371,
   "id": "medieval-relation",
   "metadata": {},
   "outputs": [
    {
     "name": "stderr",
     "output_type": "stream",
     "text": [
      "C:\\ProgramData\\Anaconda3\\lib\\site-packages\\ipykernel_launcher.py:1: SettingWithCopyWarning: \n",
      "A value is trying to be set on a copy of a slice from a DataFrame.\n",
      "Try using .loc[row_indexer,col_indexer] = value instead\n",
      "\n",
      "See the caveats in the documentation: https://pandas.pydata.org/pandas-docs/stable/user_guide/indexing.html#returning-a-view-versus-a-copy\n",
      "  \"\"\"Entry point for launching an IPython kernel.\n"
     ]
    }
   ],
   "source": [
    "blog_data['binned_age_range'] = blog_data['binned_age_range'].astype(\"str\")"
   ]
  },
  {
   "cell_type": "code",
   "execution_count": 372,
   "id": "wrapped-tennessee",
   "metadata": {},
   "outputs": [
    {
     "data": {
      "text/html": [
       "<div>\n",
       "<style scoped>\n",
       "    .dataframe tbody tr th:only-of-type {\n",
       "        vertical-align: middle;\n",
       "    }\n",
       "\n",
       "    .dataframe tbody tr th {\n",
       "        vertical-align: top;\n",
       "    }\n",
       "\n",
       "    .dataframe thead th {\n",
       "        text-align: right;\n",
       "    }\n",
       "</style>\n",
       "<table border=\"1\" class=\"dataframe\">\n",
       "  <thead>\n",
       "    <tr style=\"text-align: right;\">\n",
       "      <th></th>\n",
       "      <th>id</th>\n",
       "      <th>gender</th>\n",
       "      <th>age</th>\n",
       "      <th>topic</th>\n",
       "      <th>sign</th>\n",
       "      <th>date</th>\n",
       "      <th>text</th>\n",
       "      <th>binned_age_range</th>\n",
       "    </tr>\n",
       "  </thead>\n",
       "  <tbody>\n",
       "    <tr>\n",
       "      <th>0</th>\n",
       "      <td>2059027</td>\n",
       "      <td>male</td>\n",
       "      <td>15</td>\n",
       "      <td>Student</td>\n",
       "      <td>Leo</td>\n",
       "      <td>14,May,2004</td>\n",
       "      <td>Info has been found (+/- 100 pages,...</td>\n",
       "      <td>(11, 20]</td>\n",
       "    </tr>\n",
       "    <tr>\n",
       "      <th>1</th>\n",
       "      <td>2059027</td>\n",
       "      <td>male</td>\n",
       "      <td>15</td>\n",
       "      <td>Student</td>\n",
       "      <td>Leo</td>\n",
       "      <td>13,May,2004</td>\n",
       "      <td>These are the team members:   Drewe...</td>\n",
       "      <td>(11, 20]</td>\n",
       "    </tr>\n",
       "    <tr>\n",
       "      <th>2</th>\n",
       "      <td>2059027</td>\n",
       "      <td>male</td>\n",
       "      <td>15</td>\n",
       "      <td>Student</td>\n",
       "      <td>Leo</td>\n",
       "      <td>12,May,2004</td>\n",
       "      <td>In het kader van kernfusie op aarde...</td>\n",
       "      <td>(11, 20]</td>\n",
       "    </tr>\n",
       "    <tr>\n",
       "      <th>3</th>\n",
       "      <td>2059027</td>\n",
       "      <td>male</td>\n",
       "      <td>15</td>\n",
       "      <td>Student</td>\n",
       "      <td>Leo</td>\n",
       "      <td>12,May,2004</td>\n",
       "      <td>testing!!!  testing!!!</td>\n",
       "      <td>(11, 20]</td>\n",
       "    </tr>\n",
       "    <tr>\n",
       "      <th>4</th>\n",
       "      <td>3581210</td>\n",
       "      <td>male</td>\n",
       "      <td>33</td>\n",
       "      <td>InvestmentBanking</td>\n",
       "      <td>Aquarius</td>\n",
       "      <td>11,June,2004</td>\n",
       "      <td>Thanks to Yahoo!'s Toolbar I can ...</td>\n",
       "      <td>(31, 40]</td>\n",
       "    </tr>\n",
       "    <tr>\n",
       "      <th>...</th>\n",
       "      <td>...</td>\n",
       "      <td>...</td>\n",
       "      <td>...</td>\n",
       "      <td>...</td>\n",
       "      <td>...</td>\n",
       "      <td>...</td>\n",
       "      <td>...</td>\n",
       "      <td>...</td>\n",
       "    </tr>\n",
       "    <tr>\n",
       "      <th>4995</th>\n",
       "      <td>1103575</td>\n",
       "      <td>female</td>\n",
       "      <td>17</td>\n",
       "      <td>indUnk</td>\n",
       "      <td>Scorpio</td>\n",
       "      <td>27,August,2003</td>\n",
       "      <td>So... I had another one of those dreams...</td>\n",
       "      <td>(11, 20]</td>\n",
       "    </tr>\n",
       "    <tr>\n",
       "      <th>4996</th>\n",
       "      <td>1103575</td>\n",
       "      <td>female</td>\n",
       "      <td>17</td>\n",
       "      <td>indUnk</td>\n",
       "      <td>Scorpio</td>\n",
       "      <td>27,August,2003</td>\n",
       "      <td>mmm... strawberry tea for breakfast. To...</td>\n",
       "      <td>(11, 20]</td>\n",
       "    </tr>\n",
       "    <tr>\n",
       "      <th>4997</th>\n",
       "      <td>1103575</td>\n",
       "      <td>female</td>\n",
       "      <td>17</td>\n",
       "      <td>indUnk</td>\n",
       "      <td>Scorpio</td>\n",
       "      <td>27,August,2003</td>\n",
       "      <td>Yay for a new layout!!  Yeah, I know, I...</td>\n",
       "      <td>(11, 20]</td>\n",
       "    </tr>\n",
       "    <tr>\n",
       "      <th>4998</th>\n",
       "      <td>1103575</td>\n",
       "      <td>female</td>\n",
       "      <td>17</td>\n",
       "      <td>indUnk</td>\n",
       "      <td>Scorpio</td>\n",
       "      <td>26,August,2003</td>\n",
       "      <td>Ok, so I lied... Fed up isn't playing F...</td>\n",
       "      <td>(11, 20]</td>\n",
       "    </tr>\n",
       "    <tr>\n",
       "      <th>4999</th>\n",
       "      <td>1103575</td>\n",
       "      <td>female</td>\n",
       "      <td>17</td>\n",
       "      <td>indUnk</td>\n",
       "      <td>Scorpio</td>\n",
       "      <td>26,August,2003</td>\n",
       "      <td>well, today I went to church and talked...</td>\n",
       "      <td>(11, 20]</td>\n",
       "    </tr>\n",
       "  </tbody>\n",
       "</table>\n",
       "<p>5000 rows × 8 columns</p>\n",
       "</div>"
      ],
      "text/plain": [
       "           id  gender  age              topic      sign            date  \\\n",
       "0     2059027    male   15            Student       Leo     14,May,2004   \n",
       "1     2059027    male   15            Student       Leo     13,May,2004   \n",
       "2     2059027    male   15            Student       Leo     12,May,2004   \n",
       "3     2059027    male   15            Student       Leo     12,May,2004   \n",
       "4     3581210    male   33  InvestmentBanking  Aquarius    11,June,2004   \n",
       "...       ...     ...  ...                ...       ...             ...   \n",
       "4995  1103575  female   17             indUnk   Scorpio  27,August,2003   \n",
       "4996  1103575  female   17             indUnk   Scorpio  27,August,2003   \n",
       "4997  1103575  female   17             indUnk   Scorpio  27,August,2003   \n",
       "4998  1103575  female   17             indUnk   Scorpio  26,August,2003   \n",
       "4999  1103575  female   17             indUnk   Scorpio  26,August,2003   \n",
       "\n",
       "                                                   text binned_age_range  \n",
       "0                Info has been found (+/- 100 pages,...         (11, 20]  \n",
       "1                These are the team members:   Drewe...         (11, 20]  \n",
       "2                In het kader van kernfusie op aarde...         (11, 20]  \n",
       "3                      testing!!!  testing!!!                   (11, 20]  \n",
       "4                  Thanks to Yahoo!'s Toolbar I can ...         (31, 40]  \n",
       "...                                                 ...              ...  \n",
       "4995         So... I had another one of those dreams...         (11, 20]  \n",
       "4996         mmm... strawberry tea for breakfast. To...         (11, 20]  \n",
       "4997         Yay for a new layout!!  Yeah, I know, I...         (11, 20]  \n",
       "4998         Ok, so I lied... Fed up isn't playing F...         (11, 20]  \n",
       "4999         well, today I went to church and talked...         (11, 20]  \n",
       "\n",
       "[5000 rows x 8 columns]"
      ]
     },
     "execution_count": 372,
     "metadata": {},
     "output_type": "execute_result"
    }
   ],
   "source": [
    "blog_data"
   ]
  },
  {
   "cell_type": "code",
   "execution_count": 373,
   "id": "invisible-substitute",
   "metadata": {},
   "outputs": [
    {
     "name": "stderr",
     "output_type": "stream",
     "text": [
      "C:\\ProgramData\\Anaconda3\\lib\\site-packages\\ipykernel_launcher.py:1: FutureWarning: The default value of regex will change from True to False in a future version. In addition, single character regular expressions will*not* be treated as literal strings when regex=True.\n",
      "  \"\"\"Entry point for launching an IPython kernel.\n",
      "C:\\ProgramData\\Anaconda3\\lib\\site-packages\\ipykernel_launcher.py:1: SettingWithCopyWarning: \n",
      "A value is trying to be set on a copy of a slice from a DataFrame.\n",
      "Try using .loc[row_indexer,col_indexer] = value instead\n",
      "\n",
      "See the caveats in the documentation: https://pandas.pydata.org/pandas-docs/stable/user_guide/indexing.html#returning-a-view-versus-a-copy\n",
      "  \"\"\"Entry point for launching an IPython kernel.\n"
     ]
    }
   ],
   "source": [
    "blog_data['binned_age_range']=blog_data['binned_age_range'].str.replace(\"(\",\"BtW \") \n"
   ]
  },
  {
   "cell_type": "code",
   "execution_count": 374,
   "id": "driven-consultancy",
   "metadata": {},
   "outputs": [
    {
     "name": "stderr",
     "output_type": "stream",
     "text": [
      "C:\\ProgramData\\Anaconda3\\lib\\site-packages\\ipykernel_launcher.py:1: FutureWarning: The default value of regex will change from True to False in a future version. In addition, single character regular expressions will*not* be treated as literal strings when regex=True.\n",
      "  \"\"\"Entry point for launching an IPython kernel.\n",
      "C:\\ProgramData\\Anaconda3\\lib\\site-packages\\ipykernel_launcher.py:1: SettingWithCopyWarning: \n",
      "A value is trying to be set on a copy of a slice from a DataFrame.\n",
      "Try using .loc[row_indexer,col_indexer] = value instead\n",
      "\n",
      "See the caveats in the documentation: https://pandas.pydata.org/pandas-docs/stable/user_guide/indexing.html#returning-a-view-versus-a-copy\n",
      "  \"\"\"Entry point for launching an IPython kernel.\n"
     ]
    }
   ],
   "source": [
    "blog_data['binned_age_range']=blog_data['binned_age_range'].str.replace(\"]\",\"\") "
   ]
  },
  {
   "cell_type": "code",
   "execution_count": 375,
   "id": "naval-wallet",
   "metadata": {},
   "outputs": [
    {
     "name": "stderr",
     "output_type": "stream",
     "text": [
      "C:\\ProgramData\\Anaconda3\\lib\\site-packages\\ipykernel_launcher.py:1: SettingWithCopyWarning: \n",
      "A value is trying to be set on a copy of a slice from a DataFrame.\n",
      "Try using .loc[row_indexer,col_indexer] = value instead\n",
      "\n",
      "See the caveats in the documentation: https://pandas.pydata.org/pandas-docs/stable/user_guide/indexing.html#returning-a-view-versus-a-copy\n",
      "  \"\"\"Entry point for launching an IPython kernel.\n"
     ]
    }
   ],
   "source": [
    "blog_data['binned_age']=blog_data['binned_age_range'].str.replace(\",\",\" AND \") "
   ]
  },
  {
   "cell_type": "code",
   "execution_count": 376,
   "id": "disabled-borough",
   "metadata": {},
   "outputs": [
    {
     "data": {
      "text/html": [
       "<div>\n",
       "<style scoped>\n",
       "    .dataframe tbody tr th:only-of-type {\n",
       "        vertical-align: middle;\n",
       "    }\n",
       "\n",
       "    .dataframe tbody tr th {\n",
       "        vertical-align: top;\n",
       "    }\n",
       "\n",
       "    .dataframe thead th {\n",
       "        text-align: right;\n",
       "    }\n",
       "</style>\n",
       "<table border=\"1\" class=\"dataframe\">\n",
       "  <thead>\n",
       "    <tr style=\"text-align: right;\">\n",
       "      <th></th>\n",
       "      <th>id</th>\n",
       "      <th>gender</th>\n",
       "      <th>age</th>\n",
       "      <th>topic</th>\n",
       "      <th>sign</th>\n",
       "      <th>date</th>\n",
       "      <th>text</th>\n",
       "      <th>binned_age_range</th>\n",
       "      <th>binned_age</th>\n",
       "    </tr>\n",
       "  </thead>\n",
       "  <tbody>\n",
       "    <tr>\n",
       "      <th>0</th>\n",
       "      <td>2059027</td>\n",
       "      <td>male</td>\n",
       "      <td>15</td>\n",
       "      <td>Student</td>\n",
       "      <td>Leo</td>\n",
       "      <td>14,May,2004</td>\n",
       "      <td>Info has been found (+/- 100 pages,...</td>\n",
       "      <td>BtW 11, 20</td>\n",
       "      <td>BtW 11 AND  20</td>\n",
       "    </tr>\n",
       "    <tr>\n",
       "      <th>1</th>\n",
       "      <td>2059027</td>\n",
       "      <td>male</td>\n",
       "      <td>15</td>\n",
       "      <td>Student</td>\n",
       "      <td>Leo</td>\n",
       "      <td>13,May,2004</td>\n",
       "      <td>These are the team members:   Drewe...</td>\n",
       "      <td>BtW 11, 20</td>\n",
       "      <td>BtW 11 AND  20</td>\n",
       "    </tr>\n",
       "    <tr>\n",
       "      <th>2</th>\n",
       "      <td>2059027</td>\n",
       "      <td>male</td>\n",
       "      <td>15</td>\n",
       "      <td>Student</td>\n",
       "      <td>Leo</td>\n",
       "      <td>12,May,2004</td>\n",
       "      <td>In het kader van kernfusie op aarde...</td>\n",
       "      <td>BtW 11, 20</td>\n",
       "      <td>BtW 11 AND  20</td>\n",
       "    </tr>\n",
       "    <tr>\n",
       "      <th>3</th>\n",
       "      <td>2059027</td>\n",
       "      <td>male</td>\n",
       "      <td>15</td>\n",
       "      <td>Student</td>\n",
       "      <td>Leo</td>\n",
       "      <td>12,May,2004</td>\n",
       "      <td>testing!!!  testing!!!</td>\n",
       "      <td>BtW 11, 20</td>\n",
       "      <td>BtW 11 AND  20</td>\n",
       "    </tr>\n",
       "    <tr>\n",
       "      <th>4</th>\n",
       "      <td>3581210</td>\n",
       "      <td>male</td>\n",
       "      <td>33</td>\n",
       "      <td>InvestmentBanking</td>\n",
       "      <td>Aquarius</td>\n",
       "      <td>11,June,2004</td>\n",
       "      <td>Thanks to Yahoo!'s Toolbar I can ...</td>\n",
       "      <td>BtW 31, 40</td>\n",
       "      <td>BtW 31 AND  40</td>\n",
       "    </tr>\n",
       "  </tbody>\n",
       "</table>\n",
       "</div>"
      ],
      "text/plain": [
       "        id gender  age              topic      sign          date  \\\n",
       "0  2059027   male   15            Student       Leo   14,May,2004   \n",
       "1  2059027   male   15            Student       Leo   13,May,2004   \n",
       "2  2059027   male   15            Student       Leo   12,May,2004   \n",
       "3  2059027   male   15            Student       Leo   12,May,2004   \n",
       "4  3581210   male   33  InvestmentBanking  Aquarius  11,June,2004   \n",
       "\n",
       "                                                text binned_age_range  \\\n",
       "0             Info has been found (+/- 100 pages,...       BtW 11, 20   \n",
       "1             These are the team members:   Drewe...       BtW 11, 20   \n",
       "2             In het kader van kernfusie op aarde...       BtW 11, 20   \n",
       "3                   testing!!!  testing!!!                 BtW 11, 20   \n",
       "4               Thanks to Yahoo!'s Toolbar I can ...       BtW 31, 40   \n",
       "\n",
       "       binned_age  \n",
       "0  BtW 11 AND  20  \n",
       "1  BtW 11 AND  20  \n",
       "2  BtW 11 AND  20  \n",
       "3  BtW 11 AND  20  \n",
       "4  BtW 31 AND  40  "
      ]
     },
     "execution_count": 376,
     "metadata": {},
     "output_type": "execute_result"
    }
   ],
   "source": [
    "blog_data.head()"
   ]
  },
  {
   "cell_type": "markdown",
   "id": "steady-contact",
   "metadata": {},
   "source": [
    "### Combining the sun sign on the basis of qualities - into four groups : Fire, Earth , Water and Air signs"
   ]
  },
  {
   "cell_type": "code",
   "execution_count": 377,
   "id": "psychological-northeast",
   "metadata": {},
   "outputs": [],
   "source": [
    "# Fire Signs: Aries, Leo, Sagittarius                   \n",
    "# Earth Signs: Taurus, Virgo, Capricorn\n",
    "# Air Signs: Gemini, Libra, Aquarius\n",
    "# Water Signs: Cancer, Scorpio, Pisces"
   ]
  },
  {
   "cell_type": "code",
   "execution_count": 378,
   "id": "novel-wedding",
   "metadata": {},
   "outputs": [],
   "source": [
    "def label_sun_sign (sun_sign):\n",
    "    if sun_sign['sign'] in ['Aries', 'Leo', 'Sagittarius']:\n",
    "        return 'Fire_Signs'\n",
    "    if sun_sign['sign'] in ['Taurus', 'Virgo', 'Capricorn']:\n",
    "        return 'Earth_Signs'\n",
    "    if sun_sign['sign'] in ['Gemini', 'Libra', 'Aquarius']:\n",
    "        return 'Air_Signs'\n",
    "    if sun_sign['sign'] in ['Cancer', 'Scorpio', 'Pisces']:\n",
    "        return 'Water_Signs'\n",
    "    return 'etc'"
   ]
  },
  {
   "cell_type": "code",
   "execution_count": 379,
   "id": "recovered-selection",
   "metadata": {},
   "outputs": [
    {
     "name": "stderr",
     "output_type": "stream",
     "text": [
      "C:\\ProgramData\\Anaconda3\\lib\\site-packages\\ipykernel_launcher.py:1: SettingWithCopyWarning: \n",
      "A value is trying to be set on a copy of a slice from a DataFrame.\n",
      "Try using .loc[row_indexer,col_indexer] = value instead\n",
      "\n",
      "See the caveats in the documentation: https://pandas.pydata.org/pandas-docs/stable/user_guide/indexing.html#returning-a-view-versus-a-copy\n",
      "  \"\"\"Entry point for launching an IPython kernel.\n"
     ]
    }
   ],
   "source": [
    "blog_data['sun_sign'] = blog_data.apply(lambda sun_sign: label_sun_sign(sun_sign), axis=1)"
   ]
  },
  {
   "cell_type": "code",
   "execution_count": 380,
   "id": "fundamental-cycle",
   "metadata": {},
   "outputs": [
    {
     "data": {
      "text/html": [
       "<div>\n",
       "<style scoped>\n",
       "    .dataframe tbody tr th:only-of-type {\n",
       "        vertical-align: middle;\n",
       "    }\n",
       "\n",
       "    .dataframe tbody tr th {\n",
       "        vertical-align: top;\n",
       "    }\n",
       "\n",
       "    .dataframe thead th {\n",
       "        text-align: right;\n",
       "    }\n",
       "</style>\n",
       "<table border=\"1\" class=\"dataframe\">\n",
       "  <thead>\n",
       "    <tr style=\"text-align: right;\">\n",
       "      <th></th>\n",
       "      <th>id</th>\n",
       "      <th>gender</th>\n",
       "      <th>age</th>\n",
       "      <th>topic</th>\n",
       "      <th>sign</th>\n",
       "      <th>date</th>\n",
       "      <th>text</th>\n",
       "      <th>binned_age_range</th>\n",
       "      <th>binned_age</th>\n",
       "      <th>sun_sign</th>\n",
       "    </tr>\n",
       "  </thead>\n",
       "  <tbody>\n",
       "    <tr>\n",
       "      <th>0</th>\n",
       "      <td>2059027</td>\n",
       "      <td>male</td>\n",
       "      <td>15</td>\n",
       "      <td>Student</td>\n",
       "      <td>Leo</td>\n",
       "      <td>14,May,2004</td>\n",
       "      <td>Info has been found (+/- 100 pages,...</td>\n",
       "      <td>BtW 11, 20</td>\n",
       "      <td>BtW 11 AND  20</td>\n",
       "      <td>Fire_Signs</td>\n",
       "    </tr>\n",
       "    <tr>\n",
       "      <th>1</th>\n",
       "      <td>2059027</td>\n",
       "      <td>male</td>\n",
       "      <td>15</td>\n",
       "      <td>Student</td>\n",
       "      <td>Leo</td>\n",
       "      <td>13,May,2004</td>\n",
       "      <td>These are the team members:   Drewe...</td>\n",
       "      <td>BtW 11, 20</td>\n",
       "      <td>BtW 11 AND  20</td>\n",
       "      <td>Fire_Signs</td>\n",
       "    </tr>\n",
       "    <tr>\n",
       "      <th>2</th>\n",
       "      <td>2059027</td>\n",
       "      <td>male</td>\n",
       "      <td>15</td>\n",
       "      <td>Student</td>\n",
       "      <td>Leo</td>\n",
       "      <td>12,May,2004</td>\n",
       "      <td>In het kader van kernfusie op aarde...</td>\n",
       "      <td>BtW 11, 20</td>\n",
       "      <td>BtW 11 AND  20</td>\n",
       "      <td>Fire_Signs</td>\n",
       "    </tr>\n",
       "    <tr>\n",
       "      <th>3</th>\n",
       "      <td>2059027</td>\n",
       "      <td>male</td>\n",
       "      <td>15</td>\n",
       "      <td>Student</td>\n",
       "      <td>Leo</td>\n",
       "      <td>12,May,2004</td>\n",
       "      <td>testing!!!  testing!!!</td>\n",
       "      <td>BtW 11, 20</td>\n",
       "      <td>BtW 11 AND  20</td>\n",
       "      <td>Fire_Signs</td>\n",
       "    </tr>\n",
       "    <tr>\n",
       "      <th>4</th>\n",
       "      <td>3581210</td>\n",
       "      <td>male</td>\n",
       "      <td>33</td>\n",
       "      <td>InvestmentBanking</td>\n",
       "      <td>Aquarius</td>\n",
       "      <td>11,June,2004</td>\n",
       "      <td>Thanks to Yahoo!'s Toolbar I can ...</td>\n",
       "      <td>BtW 31, 40</td>\n",
       "      <td>BtW 31 AND  40</td>\n",
       "      <td>Air_Signs</td>\n",
       "    </tr>\n",
       "  </tbody>\n",
       "</table>\n",
       "</div>"
      ],
      "text/plain": [
       "        id gender  age              topic      sign          date  \\\n",
       "0  2059027   male   15            Student       Leo   14,May,2004   \n",
       "1  2059027   male   15            Student       Leo   13,May,2004   \n",
       "2  2059027   male   15            Student       Leo   12,May,2004   \n",
       "3  2059027   male   15            Student       Leo   12,May,2004   \n",
       "4  3581210   male   33  InvestmentBanking  Aquarius  11,June,2004   \n",
       "\n",
       "                                                text binned_age_range  \\\n",
       "0             Info has been found (+/- 100 pages,...       BtW 11, 20   \n",
       "1             These are the team members:   Drewe...       BtW 11, 20   \n",
       "2             In het kader van kernfusie op aarde...       BtW 11, 20   \n",
       "3                   testing!!!  testing!!!                 BtW 11, 20   \n",
       "4               Thanks to Yahoo!'s Toolbar I can ...       BtW 31, 40   \n",
       "\n",
       "       binned_age    sun_sign  \n",
       "0  BtW 11 AND  20  Fire_Signs  \n",
       "1  BtW 11 AND  20  Fire_Signs  \n",
       "2  BtW 11 AND  20  Fire_Signs  \n",
       "3  BtW 11 AND  20  Fire_Signs  \n",
       "4  BtW 31 AND  40   Air_Signs  "
      ]
     },
     "execution_count": 380,
     "metadata": {},
     "output_type": "execute_result"
    }
   ],
   "source": [
    "blog_data.head()"
   ]
  },
  {
   "cell_type": "markdown",
   "id": "bored-mustang",
   "metadata": {},
   "source": [
    "## Distribution of the attributes across bloggers"
   ]
  },
  {
   "cell_type": "code",
   "execution_count": 381,
   "id": "through-video",
   "metadata": {
    "scrolled": false
   },
   "outputs": [
    {
     "data": {
      "text/plain": [
       "<Figure size 720x360 with 0 Axes>"
      ]
     },
     "metadata": {},
     "output_type": "display_data"
    },
    {
     "data": {
      "image/png": "[encoded data removed]",
      "text/plain": [
       "<Figure size 360x360 with 1 Axes>"
      ]
     },
     "metadata": {},
     "output_type": "display_data"
    },
    {
     "data": {
      "text/plain": [
       "<Figure size 720x360 with 0 Axes>"
      ]
     },
     "metadata": {},
     "output_type": "display_data"
    },
    {
     "data": {
      "image/png": "[encoded data removed]",
      "text/plain": [
       "<Figure size 360x360 with 1 Axes>"
      ]
     },
     "metadata": {},
     "output_type": "display_data"
    },
    {
     "data": {
      "text/plain": [
       "<Figure size 720x360 with 0 Axes>"
      ]
     },
     "metadata": {},
     "output_type": "display_data"
    },
    {
     "data": {
      "image/png": "[encoded data removed]",
      "text/plain": [
       "<Figure size 360x360 with 1 Axes>"
      ]
     },
     "metadata": {},
     "output_type": "display_data"
    },
    {
     "data": {
      "text/plain": [
       "<Figure size 720x360 with 0 Axes>"
      ]
     },
     "metadata": {},
     "output_type": "display_data"
    },
    {
     "data": {
      "image/png": "[encoded data removed]",
      "text/plain": [
       "<Figure size 360x360 with 1 Axes>"
      ]
     },
     "metadata": {},
     "output_type": "display_data"
    }
   ],
   "source": [
    "var_list=['binned_age','gender','sign','topic']\n",
    "\n",
    "for var in var_list:\n",
    "    df_1=pd.DataFrame(blog_data.groupby(var).size()).rename(columns={0:\"#_bloggers\"}).reset_index()\n",
    "    df_2=df_1.sort_values(by='#_bloggers', ascending=False)\n",
    "    plt.figure(figsize=(10,5))\n",
    "    g=sns.catplot(x=var, y='#_bloggers', kind=\"bar\",data=df_2)\n",
    "    plt.title('Frequency Distribution of '+var)\n",
    "    g.set_xticklabels(rotation=30)\n",
    "    plt.show()"
   ]
  },
  {
   "cell_type": "markdown",
   "id": "promising-coalition",
   "metadata": {},
   "source": [
    "* Bloggers betweern 31-40 are more ; males are more ; aries as sun_sign are more ; technology as a subject is more"
   ]
  },
  {
   "cell_type": "markdown",
   "id": "immediate-decimal",
   "metadata": {},
   "source": [
    "## Performing data pre-processing"
   ]
  },
  {
   "cell_type": "markdown",
   "id": "eastern-boulder",
   "metadata": {},
   "source": [
    "### Data cleaning by removing unwanted character ,stop words etc, convert to lower case"
   ]
  },
  {
   "cell_type": "code",
   "execution_count": 383,
   "id": "south-maria",
   "metadata": {},
   "outputs": [],
   "source": [
    "def cleaning_text_column(pre_text):\n",
    "#     Removing HTML tags\n",
    "    after_html_text = BeautifulSoup(pre_text, 'lxml').get_text() \n",
    "    \n",
    "#  Remove non-alphabetic charecters \n",
    "    letters_only = re.sub(\"[^a-zA-Z]\", \" \", after_html_text) \n",
    "    \n",
    "#  Convert to lower case \n",
    "    words = letters_only.lower().split()                           \n",
    "    \n",
    "#  creating stop words\n",
    "    stops = set(stopwords.words(\"english\"))                  \n",
    "\n",
    "#  Removing stop words\n",
    "    after_stop_words = [w for w in words if not w in stops]   \n",
    "    \n",
    "# Join the words separated by space \n",
    "    return( \" \".join( after_stop_words ))"
   ]
  },
  {
   "cell_type": "code",
   "execution_count": 384,
   "id": "reserved-terry",
   "metadata": {},
   "outputs": [
    {
     "name": "stderr",
     "output_type": "stream",
     "text": [
      "C:\\ProgramData\\Anaconda3\\lib\\site-packages\\ipykernel_launcher.py:1: SettingWithCopyWarning: \n",
      "A value is trying to be set on a copy of a slice from a DataFrame.\n",
      "Try using .loc[row_indexer,col_indexer] = value instead\n",
      "\n",
      "See the caveats in the documentation: https://pandas.pydata.org/pandas-docs/stable/user_guide/indexing.html#returning-a-view-versus-a-copy\n",
      "  \"\"\"Entry point for launching an IPython kernel.\n"
     ]
    }
   ],
   "source": [
    "blog_data['cleaned_text']=blog_data.text.apply(cleaning_text_column)"
   ]
  },
  {
   "cell_type": "code",
   "execution_count": 386,
   "id": "awful-calculation",
   "metadata": {},
   "outputs": [
    {
     "name": "stderr",
     "output_type": "stream",
     "text": [
      "C:\\ProgramData\\Anaconda3\\lib\\site-packages\\ipykernel_launcher.py:1: SettingWithCopyWarning: \n",
      "A value is trying to be set on a copy of a slice from a DataFrame.\n",
      "Try using .loc[row_indexer,col_indexer] = value instead\n",
      "\n",
      "See the caveats in the documentation: https://pandas.pydata.org/pandas-docs/stable/user_guide/indexing.html#returning-a-view-versus-a-copy\n",
      "  \"\"\"Entry point for launching an IPython kernel.\n"
     ]
    }
   ],
   "source": [
    "blog_data['cleaned_text_ len']=blog_data.cleaned_text.apply(len)"
   ]
  },
  {
   "cell_type": "markdown",
   "id": "excited-richardson",
   "metadata": {},
   "source": [
    "## Creating the label merger"
   ]
  },
  {
   "cell_type": "code",
   "execution_count": 388,
   "id": "caring-benjamin",
   "metadata": {},
   "outputs": [
    {
     "name": "stderr",
     "output_type": "stream",
     "text": [
      "C:\\ProgramData\\Anaconda3\\lib\\site-packages\\ipykernel_launcher.py:1: SettingWithCopyWarning: \n",
      "A value is trying to be set on a copy of a slice from a DataFrame.\n",
      "Try using .loc[row_indexer,col_indexer] = value instead\n",
      "\n",
      "See the caveats in the documentation: https://pandas.pydata.org/pandas-docs/stable/user_guide/indexing.html#returning-a-view-versus-a-copy\n",
      "  \"\"\"Entry point for launching an IPython kernel.\n",
      "C:\\ProgramData\\Anaconda3\\lib\\site-packages\\ipykernel_launcher.py:8: SettingWithCopyWarning: \n",
      "A value is trying to be set on a copy of a slice from a DataFrame\n",
      "\n",
      "See the caveats in the documentation: https://pandas.pydata.org/pandas-docs/stable/user_guide/indexing.html#returning-a-view-versus-a-copy\n",
      "  \n",
      "C:\\ProgramData\\Anaconda3\\lib\\site-packages\\IPython\\core\\interactiveshell.py:3427: SettingWithCopyWarning: \n",
      "A value is trying to be set on a copy of a slice from a DataFrame\n",
      "\n",
      "See the caveats in the documentation: https://pandas.pydata.org/pandas-docs/stable/user_guide/indexing.html#returning-a-view-versus-a-copy\n",
      "  exec(code_obj, self.user_global_ns, self.user_ns)\n"
     ]
    }
   ],
   "source": [
    "blog_data['label']=' '\n",
    "for values in range(0,blog_data.shape[0]):\n",
    "    blog_label=[]\n",
    "    blog_label.append(blog_data['gender'][values])\n",
    "    blog_label.append(blog_data['binned_age'][values])\n",
    "    blog_label.append(blog_data['topic'][values])\n",
    "    blog_label.append(blog_data['sun_sign'][values])\n",
    "    blog_data['label'][values]=blog_label"
   ]
  },
  {
   "cell_type": "code",
   "execution_count": 390,
   "id": "declared-monster",
   "metadata": {},
   "outputs": [],
   "source": [
    "## dropping all columns and retaining only cleaned_text and labels column\n",
    "blog_df=blog_data.drop(['id','gender','age','topic','sign','date','text'],axis=1)"
   ]
  },
  {
   "cell_type": "code",
   "execution_count": 391,
   "id": "unable-admission",
   "metadata": {},
   "outputs": [],
   "source": [
    "X = blog_df.cleaned_text\n",
    "y = blog_df.label"
   ]
  },
  {
   "cell_type": "code",
   "execution_count": 392,
   "id": "accomplished-malpractice",
   "metadata": {},
   "outputs": [
    {
     "data": {
      "text/plain": [
       "0       info found pages mb pdf files wait untill team...\n",
       "1       team members drewes van der laag urllink mail ...\n",
       "2       het kader van kernfusie op aarde maak je eigen...\n",
       "3                                         testing testing\n",
       "4       thanks yahoo toolbar capture urls popups means...\n",
       "                              ...                        \n",
       "4995    another one dreams last night except time leas...\n",
       "4996    mmm strawberry tea breakfast tomorrow think de...\n",
       "4997    yay new layout yeah know need get complicated ...\n",
       "4998    ok lied fed playing friday night underdog cons...\n",
       "4999    well today went church talked music director t...\n",
       "Name: cleaned_text, Length: 5000, dtype: object"
      ]
     },
     "execution_count": 392,
     "metadata": {},
     "output_type": "execute_result"
    }
   ],
   "source": [
    "X"
   ]
  },
  {
   "cell_type": "code",
   "execution_count": 393,
   "id": "sexual-shannon",
   "metadata": {},
   "outputs": [
    {
     "data": {
      "text/plain": [
       "0             [male, BtW 11 AND  20, Student, Fire_Signs]\n",
       "1             [male, BtW 11 AND  20, Student, Fire_Signs]\n",
       "2             [male, BtW 11 AND  20, Student, Fire_Signs]\n",
       "3             [male, BtW 11 AND  20, Student, Fire_Signs]\n",
       "4       [male, BtW 31 AND  40, InvestmentBanking, Air_...\n",
       "                              ...                        \n",
       "4995        [female, BtW 11 AND  20, indUnk, Water_Signs]\n",
       "4996        [female, BtW 11 AND  20, indUnk, Water_Signs]\n",
       "4997        [female, BtW 11 AND  20, indUnk, Water_Signs]\n",
       "4998        [female, BtW 11 AND  20, indUnk, Water_Signs]\n",
       "4999        [female, BtW 11 AND  20, indUnk, Water_Signs]\n",
       "Name: label, Length: 5000, dtype: object"
      ]
     },
     "execution_count": 393,
     "metadata": {},
     "output_type": "execute_result"
    }
   ],
   "source": [
    "y"
   ]
  },
  {
   "cell_type": "code",
   "execution_count": 394,
   "id": "banned-declaration",
   "metadata": {},
   "outputs": [],
   "source": [
    "# split dataset into training and test set \n",
    "\n",
    "X_train, X_test, y_train, y_test = train_test_split(blog_df['cleaned_text'], y, test_size=0.3, random_state=7)\n"
   ]
  },
  {
   "cell_type": "code",
   "execution_count": 395,
   "id": "bored-affairs",
   "metadata": {},
   "outputs": [],
   "source": [
    "from sklearn.preprocessing import MultiLabelBinarizer"
   ]
  },
  {
   "cell_type": "markdown",
   "id": "ecological-hometown",
   "metadata": {},
   "source": [
    "## Transform the labels"
   ]
  },
  {
   "cell_type": "code",
   "execution_count": 396,
   "id": "infinite-plane",
   "metadata": {},
   "outputs": [],
   "source": [
    "multilabel_binarizer = MultiLabelBinarizer()\n",
    "y_train_mlb=multilabel_binarizer.fit_transform(y_train)\n",
    "y_test_mlb=multilabel_binarizer.transform(y_test)"
   ]
  },
  {
   "cell_type": "code",
   "execution_count": 397,
   "id": "absolute-czech",
   "metadata": {},
   "outputs": [
    {
     "data": {
      "text/plain": [
       "array([[0, 1, 0, ..., 0, 0, 1],\n",
       "       [0, 0, 0, ..., 0, 0, 1],\n",
       "       [0, 0, 0, ..., 0, 0, 1],\n",
       "       ...,\n",
       "       [0, 1, 0, ..., 1, 0, 0],\n",
       "       [0, 1, 0, ..., 1, 0, 0],\n",
       "       [0, 0, 0, ..., 1, 1, 0]])"
      ]
     },
     "execution_count": 397,
     "metadata": {},
     "output_type": "execute_result"
    }
   ],
   "source": [
    "y_train_mlb"
   ]
  },
  {
   "cell_type": "code",
   "execution_count": 398,
   "id": "olive-trunk",
   "metadata": {},
   "outputs": [
    {
     "name": "stdout",
     "output_type": "stream",
     "text": [
      "(3500,)\n",
      "(1500,)\n",
      "(3500, 30)\n",
      "(1500, 30)\n"
     ]
    }
   ],
   "source": [
    "print(X_train.shape)\n",
    "print(X_test.shape)\n",
    "print(y_train_mlb.shape)\n",
    "print(y_test_mlb.shape)"
   ]
  },
  {
   "cell_type": "code",
   "execution_count": 399,
   "id": "solar-intervention",
   "metadata": {},
   "outputs": [
    {
     "data": {
      "text/plain": [
       "array([0, 1, 0, 0, 0, 1, 0, 0, 0, 0, 0, 0, 0, 0, 0, 0, 0, 0, 0, 0, 0, 0,\n",
       "       1, 0, 0, 0, 0, 0, 0, 1])"
      ]
     },
     "execution_count": 399,
     "metadata": {},
     "output_type": "execute_result"
    }
   ],
   "source": [
    "y_train_mlb[0]"
   ]
  },
  {
   "cell_type": "code",
   "execution_count": 400,
   "id": "dimensional-fourth",
   "metadata": {},
   "outputs": [
    {
     "data": {
      "text/plain": [
       "pandas.core.series.Series"
      ]
     },
     "execution_count": 400,
     "metadata": {},
     "output_type": "execute_result"
    }
   ],
   "source": [
    "type(X_train)"
   ]
  },
  {
   "cell_type": "code",
   "execution_count": 401,
   "id": "ranking-nudist",
   "metadata": {},
   "outputs": [
    {
     "data": {
      "text/plain": [
       "['male', 'BtW 31 AND  40', 'Technology', 'Fire_Signs']"
      ]
     },
     "execution_count": 401,
     "metadata": {},
     "output_type": "execute_result"
    }
   ],
   "source": [
    "y_train.iloc[1]"
   ]
  },
  {
   "cell_type": "code",
   "execution_count": 402,
   "id": "demonstrated-appraisal",
   "metadata": {},
   "outputs": [
    {
     "data": {
      "text/plain": [
       "('BtW 31 AND  40', 'Fire_Signs', 'Technology', 'male')"
      ]
     },
     "execution_count": 402,
     "metadata": {},
     "output_type": "execute_result"
    }
   ],
   "source": [
    "multilabel_binarizer.inverse_transform(y_train_mlb)[1]"
   ]
  },
  {
   "cell_type": "code",
   "execution_count": 403,
   "id": "pharmaceutical-spray",
   "metadata": {},
   "outputs": [],
   "source": [
    "# instantiate the vectorizer\n",
    "# creating bag of words which include 1-grams and 2-gram\n",
    "vect = CountVectorizer(ngram_range=(1, 2))"
   ]
  },
  {
   "cell_type": "code",
   "execution_count": 404,
   "id": "joined-investigator",
   "metadata": {},
   "outputs": [],
   "source": [
    "# learn training data vocabulary, then use it to create a document-term matrix\n",
    "vect.fit(X_train)\n",
    "X_train_dtm = vect.transform(X_train)\n"
   ]
  },
  {
   "cell_type": "code",
   "execution_count": 405,
   "id": "linear-knitting",
   "metadata": {},
   "outputs": [
    {
     "data": {
      "text/plain": [
       "<3500x242035 sparse matrix of type '<class 'numpy.int64'>'\n",
       "\twith 459803 stored elements in Compressed Sparse Row format>"
      ]
     },
     "execution_count": 405,
     "metadata": {},
     "output_type": "execute_result"
    }
   ],
   "source": [
    "# examine & print the document-term matrix\n",
    "X_train_dtm"
   ]
  },
  {
   "cell_type": "code",
   "execution_count": 407,
   "id": "narrow-airfare",
   "metadata": {},
   "outputs": [],
   "source": [
    "X_test_dtm = vect.transform(X_test)"
   ]
  },
  {
   "cell_type": "code",
   "execution_count": 409,
   "id": "comparative-medication",
   "metadata": {},
   "outputs": [
    {
     "data": {
      "text/plain": [
       "['aa',\n",
       " 'aa amazing',\n",
       " 'aa compared',\n",
       " 'aaa',\n",
       " 'aaa come',\n",
       " 'aaa someone',\n",
       " 'aaa tow',\n",
       " 'aaa travel',\n",
       " 'aaaaaaaaah',\n",
       " 'aaaaaaah']"
      ]
     },
     "execution_count": 409,
     "metadata": {},
     "output_type": "execute_result"
    }
   ],
   "source": [
    "vect.get_feature_names()[:10]"
   ]
  },
  {
   "cell_type": "code",
   "execution_count": 410,
   "id": "green-editing",
   "metadata": {},
   "outputs": [],
   "source": [
    "# Creating a dictionary to get the count of every label i.e. the key will be label name and value will be the total count of the label. "
   ]
  },
  {
   "cell_type": "code",
   "execution_count": 411,
   "id": "assisted-calvin",
   "metadata": {},
   "outputs": [],
   "source": [
    "label_counts=dict()\n",
    "\n",
    "for labels in blog_df.label.values:\n",
    "    for label in labels:\n",
    "        if label in label_counts:\n",
    "            label_counts[str(label)]+=1\n",
    "        else:\n",
    "            label_counts[str(label)]=1"
   ]
  },
  {
   "cell_type": "code",
   "execution_count": 412,
   "id": "heard-harvey",
   "metadata": {},
   "outputs": [
    {
     "data": {
      "text/plain": [
       "{'male': 3294,\n",
       " 'BtW 11 AND  20': 907,\n",
       " 'Student': 569,\n",
       " 'Fire_Signs': 3377,\n",
       " 'BtW 31 AND  40': 3106,\n",
       " 'InvestmentBanking': 70,\n",
       " 'Air_Signs': 829,\n",
       " 'female': 1706,\n",
       " 'indUnk': 1381,\n",
       " 'BtW 21 AND  30': 940,\n",
       " 'Earth_Signs': 225,\n",
       " 'Non-Profit': 47,\n",
       " 'Water_Signs': 569,\n",
       " 'Banking': 16,\n",
       " 'Education': 118,\n",
       " 'BtW 40 AND  50': 47,\n",
       " 'Engineering': 119,\n",
       " 'Science': 33,\n",
       " 'Communications-Media': 61,\n",
       " 'BusinessServices': 87,\n",
       " 'Sports-Recreation': 75,\n",
       " 'Arts': 31,\n",
       " 'Internet': 20,\n",
       " 'Museums-Libraries': 2,\n",
       " 'Accounting': 2,\n",
       " 'Technology': 2332,\n",
       " 'Law': 3,\n",
       " 'Consulting': 16,\n",
       " 'Automotive': 14,\n",
       " 'Religion': 4}"
      ]
     },
     "execution_count": 412,
     "metadata": {},
     "output_type": "execute_result"
    }
   ],
   "source": [
    "label_counts"
   ]
  },
  {
   "cell_type": "markdown",
   "id": "dedicated-rocket",
   "metadata": {},
   "source": [
    "### Choosing a classifier"
   ]
  },
  {
   "cell_type": "code",
   "execution_count": 413,
   "id": "indirect-tonight",
   "metadata": {},
   "outputs": [],
   "source": [
    "# Using the One-vs-Rest approach, which is implemented in OneVsRestClassifier class.  As a basic classifier using LogisticRegression . "
   ]
  },
  {
   "cell_type": "code",
   "execution_count": 415,
   "id": "different-disorder",
   "metadata": {},
   "outputs": [],
   "source": [
    "from sklearn.multiclass import OneVsRestClassifier\n",
    "from sklearn.linear_model import LogisticRegression"
   ]
  },
  {
   "cell_type": "code",
   "execution_count": 414,
   "id": "republican-pizza",
   "metadata": {},
   "outputs": [],
   "source": [
    "# Fit the classifier, make predictions and get the accuracy"
   ]
  },
  {
   "cell_type": "code",
   "execution_count": 416,
   "id": "consecutive-record",
   "metadata": {},
   "outputs": [
    {
     "data": {
      "text/plain": [
       "OneVsRestClassifier(estimator=LogisticRegression())"
      ]
     },
     "execution_count": 416,
     "metadata": {},
     "output_type": "execute_result"
    }
   ],
   "source": [
    "model=LogisticRegression(solver='lbfgs', max_iter=100)\n",
    "model=OneVsRestClassifier(model)\n",
    "model.fit(X_train_dtm,y_train_mlb)"
   ]
  },
  {
   "cell_type": "code",
   "execution_count": 417,
   "id": "exterior-monkey",
   "metadata": {},
   "outputs": [],
   "source": [
    "Ypred=model.predict(X_test_dtm)"
   ]
  },
  {
   "cell_type": "code",
   "execution_count": 418,
   "id": "moderate-sleeve",
   "metadata": {
    "scrolled": true
   },
   "outputs": [
    {
     "data": {
      "text/plain": [
       "array([[0, 0, 0, ..., 0, 0, 1],\n",
       "       [0, 0, 0, ..., 0, 0, 1],\n",
       "       [0, 0, 0, ..., 0, 0, 1],\n",
       "       ...,\n",
       "       [0, 0, 0, ..., 0, 0, 1],\n",
       "       [0, 0, 0, ..., 0, 0, 1],\n",
       "       [0, 0, 0, ..., 1, 1, 0]])"
      ]
     },
     "execution_count": 418,
     "metadata": {},
     "output_type": "execute_result"
    }
   ],
   "source": [
    "Ypred"
   ]
  },
  {
   "cell_type": "code",
   "execution_count": 419,
   "id": "supreme-newark",
   "metadata": {
    "scrolled": true
   },
   "outputs": [
    {
     "data": {
      "text/plain": [
       "array([[0, 0, 0, ..., 0, 0, 1],\n",
       "       [0, 0, 0, ..., 0, 0, 1],\n",
       "       [0, 0, 0, ..., 0, 0, 1],\n",
       "       ...,\n",
       "       [0, 0, 0, ..., 0, 0, 1],\n",
       "       [0, 0, 0, ..., 0, 0, 1],\n",
       "       [0, 0, 0, ..., 1, 1, 0]])"
      ]
     },
     "execution_count": 419,
     "metadata": {},
     "output_type": "execute_result"
    }
   ],
   "source": [
    "y_test_mlb"
   ]
  },
  {
   "cell_type": "code",
   "execution_count": 421,
   "id": "distinguished-stamp",
   "metadata": {},
   "outputs": [],
   "source": [
    "# Micro-average method,\n",
    "# sum the individual true positives, false positives, and false negatives of the system for different sets \n",
    "\n",
    "def score_micro_method(y_test_mlb, Ypred):\n",
    "    print('******************************************************************************')\n",
    "    print('Scores based on micro method')\n",
    "    print('Accuracy score: ', accuracy_score(y_test_mlb, Ypred))\n",
    "    print('F1 score', f1_score(y_test_mlb, Ypred, average='micro'))\n",
    "    print('Average precision score', average_precision_score(y_test_mlb, Ypred, average='micro'))\n",
    "    print('Average recall score', recall_score(y_test_mlb, Ypred, average='micro'))\n",
    "    print('******************************************************************************')\n",
    "    \n",
    "\n",
    "# Macro-average Method\n",
    "# Average of the precision and recall of the system on different sets   \n",
    "def score_macro_method(y_test_mlb, Ypred):\n",
    "    print('******************************************************************************')\n",
    "    print('Scores based on macro method')\n",
    "    print('Accuracy score: ', accuracy_score(y_test_mlb, Ypred))\n",
    "    print('F1 score: ', f1_score(y_test_mlb, Ypred, average='macro'))\n",
    "    print('Average recall score : ', recall_score(y_test_mlb, Ypred, average='macro'))\n",
    "    print('******************************************************************************')\n",
    "    \n",
    "def score_weighted_method(y_test_mlb, Ypred):\n",
    "    print('******************************************************************************')\n",
    "    print('Scores based on weighted method')\n",
    "    print('Accuracy score: ', accuracy_score(y_test_mlb, Ypred))\n",
    "    print('F1 score: ', f1_score(y_test_mlb, Ypred, average='weighted'))\n",
    "    print('Average precision score: ', average_precision_score(y_test_mlb, Ypred, average='weighted'))\n",
    "    print('Average recall score: ', recall_score(y_test_mlb, Ypred, average='weighted'))\n",
    "    print('******************************************************************************')"
   ]
  },
  {
   "cell_type": "code",
   "execution_count": 422,
   "id": "naughty-mayor",
   "metadata": {},
   "outputs": [
    {
     "name": "stdout",
     "output_type": "stream",
     "text": [
      "******************************************************************************\n",
      "Scores based on micro method\n",
      "Accuracy score:  0.5333333333333333\n",
      "F1 score 0.7665812947098826\n",
      "Average precision score 0.6266440394931847\n",
      "Average recall score 0.7233333333333334\n",
      "******************************************************************************\n",
      "******************************************************************************\n",
      "Scores based on macro method\n",
      "Accuracy score:  0.5333333333333333\n",
      "F1 score:  0.33274389164751766\n",
      "Average recall score :  0.28368566264255674\n",
      "******************************************************************************\n",
      "******************************************************************************\n",
      "Scores based on weighted method\n",
      "Accuracy score:  0.5333333333333333\n",
      "F1 score:  0.7351403827185807\n",
      "Average precision score:  0.6602284527089454\n",
      "Average recall score:  0.7233333333333334\n",
      "******************************************************************************\n"
     ]
    }
   ],
   "source": [
    "score_micro_method(y_test_mlb,Ypred)\n",
    "score_macro_method(y_test_mlb,Ypred)\n",
    "score_weighted_method(y_test_mlb,Ypred)"
   ]
  },
  {
   "cell_type": "markdown",
   "id": "according-domestic",
   "metadata": {},
   "source": [
    "### Testing the best text classifier."
   ]
  },
  {
   "cell_type": "code",
   "execution_count": 429,
   "id": "photographic-cliff",
   "metadata": {},
   "outputs": [],
   "source": [
    "\n",
    "def Train_diff_model(X_train, y_train, X_valid=None, y_valid=None, C=1.0, model='lr'):\n",
    "    if model=='lr':\n",
    "        model = LogisticRegression(C=C, penalty='l1', dual=False, solver='liblinear')\n",
    "        model = OneVsRestClassifier(model)\n",
    "        model.fit(X_train, y_train)\n",
    "    \n",
    "    elif model=='svm':\n",
    "        model = LinearSVC(C=C, penalty='l1', dual=False, loss='squared_hinge')\n",
    "        model = OneVsRestClassifier(model)\n",
    "        model.fit(X_train, y_train)\n",
    "    \n",
    "    \n",
    "    elif model=='nbayes':\n",
    "        model = MultinomialNB(alpha=1.0)\n",
    "        model = OneVsRestClassifier(model)\n",
    "        model.fit(X_train, y_train)\n",
    "    return model"
   ]
  },
  {
   "cell_type": "code",
   "execution_count": 430,
   "id": "nervous-investing",
   "metadata": {},
   "outputs": [
    {
     "name": "stdout",
     "output_type": "stream",
     "text": [
      "-----------------------------------------------------------------------------\n",
      "Model name :  lr\n",
      "-----------------------------------------------------------------------------\n",
      "**Score metrics of the model :  OneVsRestClassifier(estimator=LogisticRegression(penalty='l1',\n",
      "                                                 solver='liblinear'))\n",
      "\n",
      "******************************************************************************\n",
      "******************************************************************************\n",
      "Scores based on micro method\n",
      "Accuracy score:  0.5166666666666667\n",
      "F1 score 0.7729200934983983\n",
      "Average precision score 0.632442827118237\n",
      "Average recall score 0.744\n",
      "******************************************************************************\n",
      "******************************************************************************\n",
      "******************************************************************************\n",
      "Scores based on macro method\n",
      "Accuracy score:  0.5166666666666667\n",
      "F1 score:  0.4254438040002453\n",
      "Average recall score :  0.37084286568092156\n",
      "******************************************************************************\n",
      "******************************************************************************\n",
      "******************************************************************************\n",
      "Scores based on weighted method\n",
      "Accuracy score:  0.5166666666666667\n",
      "F1 score:  0.7555656339554077\n",
      "Average precision score:  0.6729211760917433\n",
      "Average recall score:  0.744\n",
      "******************************************************************************\n",
      "-----------------------------------------------------------------------------\n",
      "Model name :  svm\n"
     ]
    },
    {
     "name": "stderr",
     "output_type": "stream",
     "text": [
      "C:\\ProgramData\\Anaconda3\\lib\\site-packages\\sklearn\\svm\\_base.py:977: ConvergenceWarning: Liblinear failed to converge, increase the number of iterations.\n",
      "  \"the number of iterations.\", ConvergenceWarning)\n",
      "C:\\ProgramData\\Anaconda3\\lib\\site-packages\\sklearn\\svm\\_base.py:977: ConvergenceWarning: Liblinear failed to converge, increase the number of iterations.\n",
      "  \"the number of iterations.\", ConvergenceWarning)\n"
     ]
    },
    {
     "name": "stdout",
     "output_type": "stream",
     "text": [
      "-----------------------------------------------------------------------------\n",
      "**Score metrics of the model :  OneVsRestClassifier(estimator=LinearSVC(dual=False, penalty='l1'))\n",
      "\n",
      "******************************************************************************\n",
      "******************************************************************************\n",
      "Scores based on micro method\n",
      "Accuracy score:  0.5\n",
      "F1 score 0.7718667009337787\n",
      "Average precision score 0.6294683295140725\n",
      "Average recall score 0.7508333333333334\n",
      "******************************************************************************\n",
      "******************************************************************************\n",
      "******************************************************************************\n",
      "Scores based on macro method\n",
      "Accuracy score:  0.5\n",
      "F1 score:  0.459244279927318\n",
      "Average recall score :  0.41674173200340636\n",
      "******************************************************************************\n",
      "******************************************************************************\n",
      "******************************************************************************\n",
      "Scores based on weighted method\n",
      "Accuracy score:  0.5\n",
      "F1 score:  0.7577503467179845\n",
      "Average precision score:  0.6719587400548411\n",
      "Average recall score:  0.7508333333333334\n",
      "******************************************************************************\n",
      "-----------------------------------------------------------------------------\n",
      "Model name :  nbayes\n",
      "-----------------------------------------------------------------------------\n",
      "**Score metrics of the model :  OneVsRestClassifier(estimator=MultinomialNB())\n",
      "\n",
      "******************************************************************************\n",
      "******************************************************************************\n",
      "Scores based on micro method\n",
      "Accuracy score:  0.21333333333333335\n",
      "F1 score 0.6552444630171332\n",
      "Average precision score 0.5225141719547094\n",
      "Average recall score 0.5226666666666666\n",
      "******************************************************************************\n",
      "******************************************************************************\n",
      "******************************************************************************\n",
      "Scores based on macro method\n",
      "Accuracy score:  0.21333333333333335\n",
      "F1 score:  0.18745589831645607\n",
      "Average recall score :  0.1525320188350303\n",
      "******************************************************************************\n",
      "******************************************************************************\n",
      "******************************************************************************\n",
      "Scores based on weighted method\n",
      "Accuracy score:  0.21333333333333335\n",
      "F1 score:  0.6005873711313017\n",
      "Average precision score:  0.622144780733241\n",
      "Average recall score:  0.5226666666666666\n",
      "******************************************************************************\n"
     ]
    }
   ],
   "source": [
    "models = ['lr','svm','nbayes']\n",
    "for model in models:\n",
    "    print('-----------------------------------------------------------------------------')\n",
    "    print(\"Model name : \",model)\n",
    "    model = Train_diff_model(X_train_dtm,y_train_mlb,model=model)\n",
    "    model.fit(X_train_dtm,y_train_mlb)\n",
    "    Ypred=model.predict(X_test_dtm)\n",
    "    print('-----------------------------------------------------------------------------')\n",
    "   \n",
    "    print(f\"**Score metrics of the model :  {model}\\n\")\n",
    "    \n",
    "    print('******************************************************************************')\n",
    "    score_micro_method(y_test_mlb,Ypred)\n",
    "\n",
    "   \n",
    "    print('******************************************************************************')\n",
    "    score_macro_method(y_test_mlb,Ypred)\n",
    "   \n",
    "\n",
    "    print('******************************************************************************')\n",
    "    score_weighted_method(y_test_mlb,Ypred)\n",
    "\n",
    "    "
   ]
  },
  {
   "cell_type": "code",
   "execution_count": null,
   "id": "parental-ridge",
   "metadata": {},
   "outputs": [],
   "source": [
    "## True vs predicted labels for any 5 entries from the dataset"
   ]
  },
  {
   "cell_type": "code",
   "execution_count": 424,
   "id": "fifth-poetry",
   "metadata": {},
   "outputs": [],
   "source": [
    "preds = Ypred[:5]\n",
    "actuals = y_test_mlb[:5]"
   ]
  },
  {
   "cell_type": "code",
   "execution_count": 425,
   "id": "interested-explanation",
   "metadata": {},
   "outputs": [
    {
     "data": {
      "text/plain": [
       "[('BtW 31 AND  40', 'Fire_Signs', 'Technology', 'male'),\n",
       " ('BtW 21 AND  30', 'BusinessServices', 'Water_Signs', 'male'),\n",
       " ('BtW 31 AND  40', 'Fire_Signs', 'Technology', 'male'),\n",
       " ('BtW 31 AND  40', 'Fire_Signs', 'female', 'indUnk'),\n",
       " ('BtW 31 AND  40', 'Fire_Signs', 'Technology', 'male')]"
      ]
     },
     "execution_count": 425,
     "metadata": {},
     "output_type": "execute_result"
    }
   ],
   "source": [
    "Actual = multilabel_binarizer.inverse_transform(actuals)\n",
    "Actual"
   ]
  },
  {
   "cell_type": "code",
   "execution_count": 426,
   "id": "handy-connectivity",
   "metadata": {},
   "outputs": [
    {
     "data": {
      "text/plain": [
       "[('BtW 31 AND  40', 'Fire_Signs', 'Technology', 'male'),\n",
       " ('BtW 21 AND  30', 'BusinessServices', 'Water_Signs', 'male'),\n",
       " ('BtW 31 AND  40', 'Fire_Signs', 'Technology', 'male'),\n",
       " ('BtW 31 AND  40', 'Fire_Signs', 'female', 'indUnk'),\n",
       " ('BtW 31 AND  40', 'Fire_Signs', 'Technology', 'male')]"
      ]
     },
     "execution_count": 426,
     "metadata": {},
     "output_type": "execute_result"
    }
   ],
   "source": [
    "pred = multilabel_binarizer.inverse_transform(preds)\n",
    "pred"
   ]
  },
  {
   "cell_type": "code",
   "execution_count": 427,
   "id": "prescribed-characteristic",
   "metadata": {},
   "outputs": [
    {
     "name": "stdout",
     "output_type": "stream",
     "text": [
      "[211, 467, 1296, 819, 1290]\n",
      "('BtW 11 AND  20', 'Water_Signs', 'indUnk', 'male')\n",
      "('BtW 31 AND  40', 'Fire_Signs', 'Technology', 'male')\n",
      "('BtW 21 AND  30', 'Water_Signs', 'female', 'indUnk')\n",
      "('Air_Signs', 'BtW 31 AND  40', 'female')\n",
      "('BtW 11 AND  20', 'Water_Signs', 'female', 'indUnk')\n",
      "('Air_Signs', 'BtW 11 AND  20', 'BtW 21 AND  30', 'female')\n",
      "('BtW 31 AND  40', 'Fire_Signs', 'Technology', 'male')\n",
      "('BtW 31 AND  40', 'Fire_Signs', 'Technology', 'male')\n",
      "('BtW 31 AND  40', 'Fire_Signs', 'Technology', 'male')\n",
      "('BtW 31 AND  40', 'Fire_Signs', 'Technology', 'male')\n"
     ]
    }
   ],
   "source": [
    "import random\n",
    "random_num=[]\n",
    "for i in range(5):\n",
    "    random_num.append(random.randint(1,len(Ypred)))\n",
    "   \n",
    "print(random_num)\n",
    "\n",
    "for i in random_num:  \n",
    "    print(multilabel_binarizer.inverse_transform(y_test_mlb)[i])\n",
    "    print(multilabel_binarizer.inverse_transform(Ypred)[i])\n",
    "    "
   ]
  },
  {
   "cell_type": "code",
   "execution_count": 428,
   "id": "parental-victor",
   "metadata": {
    "scrolled": true
   },
   "outputs": [
    {
     "name": "stdout",
     "output_type": "stream",
     "text": [
      "True labels:\tBtW 31 AND  40,Fire_Signs,Technology,male\n",
      "Predicted labels:\tBtW 31 AND  40,Fire_Signs,Technology,male\n",
      "\n",
      "\n",
      "True labels:\tBtW 21 AND  30,BusinessServices,Water_Signs,male\n",
      "Predicted labels:\tBtW 21 AND  30,BusinessServices,Water_Signs,male\n",
      "\n",
      "\n",
      "True labels:\tBtW 31 AND  40,Fire_Signs,Technology,male\n",
      "Predicted labels:\tBtW 31 AND  40,Fire_Signs,Technology,male\n",
      "\n",
      "\n",
      "True labels:\tBtW 31 AND  40,Fire_Signs,female,indUnk\n",
      "Predicted labels:\tBtW 31 AND  40,Fire_Signs,female,indUnk\n",
      "\n",
      "\n",
      "True labels:\tBtW 31 AND  40,Fire_Signs,Technology,male\n",
      "Predicted labels:\tBtW 31 AND  40,Fire_Signs,Technology,male\n",
      "\n",
      "\n"
     ]
    }
   ],
   "source": [
    "Ypred_inversed = multilabel_binarizer.inverse_transform(Ypred)\n",
    "y_test_inversed = multilabel_binarizer.inverse_transform(y_test_mlb)\n",
    "for i in range(5):\n",
    "    print('True labels:\\t{}\\nPredicted labels:\\t{}\\n\\n'.format(\n",
    "        ','.join(y_test_inversed[i]),\n",
    "        ','.join(Ypred_inversed[i])\n",
    "    ))"
   ]
  },
  {
   "cell_type": "markdown",
   "id": "characteristic-graphics",
   "metadata": {},
   "source": [
    "* F1 Score might be a better measure to use if we need to seek a balance between Precision and Recall \n",
    "* Micro- and macro-averages (for whatever metric) will compute slightly different things, and thus their interpretation differs.\n",
    "* A macro-average will compute the metric independently for each class and then take the average (hence treating all classes equally)\n",
    "* whereas a micro-average will aggregate the contributions of all classes to compute the average metric. In a multi-class classification setup, micro-average is preferable if you suspect there might be class imbalance \n",
    "\n",
    "* If we compare F1 score of all the models Logistic, SVM,nbayes then logisticis performing best with F1 score 0.772"
   ]
  },
  {
   "cell_type": "markdown",
   "id": "wanted-being",
   "metadata": {},
   "source": [
    "# Part 2"
   ]
  },
  {
   "cell_type": "code",
   "execution_count": null,
   "id": "recovered-lawrence",
   "metadata": {},
   "outputs": [],
   "source": [
    "#Necessary libraries for part 2"
   ]
  },
  {
   "cell_type": "code",
   "execution_count": 14,
   "id": "personal-metadata",
   "metadata": {},
   "outputs": [
    {
     "name": "stderr",
     "output_type": "stream",
     "text": [
      "[nltk_data] Downloading package punkt to\n",
      "[nltk_data]     C:\\Users\\komal\\AppData\\Roaming\\nltk_data...\n",
      "[nltk_data]   Package punkt is already up-to-date!\n",
      "[nltk_data] Downloading package wordnet to\n",
      "[nltk_data]     C:\\Users\\komal\\AppData\\Roaming\\nltk_data...\n",
      "[nltk_data]   Package wordnet is already up-to-date!\n"
     ]
    }
   ],
   "source": [
    "import nltk\n",
    "nltk.download('punkt')\n",
    "nltk.download('wordnet')\n",
    "from nltk.stem import WordNetLemmatizer\n",
    "lemmatizer = WordNetLemmatizer()\n",
    "import json\n",
    "import pickle\n",
    "\n",
    "import numpy as np\n",
    "from keras.models import Sequential\n",
    "from keras.layers import Dense, Activation, Dropout\n",
    "from keras.optimizers import SGD\n",
    "import random"
   ]
  },
  {
   "cell_type": "code",
   "execution_count": 15,
   "id": "charming-tournament",
   "metadata": {},
   "outputs": [],
   "source": [
    "words=[]\n",
    "classes = []\n",
    "documents = []\n",
    "ignore_words = ['?', '!','=','~']\n",
    "data_file = open('D:/01_Systematic_Folders/01_AIML_course/01_Final_projects/01_NLP/Project/Project1/GL Bot.json').read()\n",
    "cust_intent = json.loads(data_file)"
   ]
  },
  {
   "cell_type": "code",
   "execution_count": 16,
   "id": "honest-reaction",
   "metadata": {},
   "outputs": [
    {
     "data": {
      "text/plain": [
       "{'intents': [{'tag': 'Intro',\n",
       "   'patterns': ['hi',\n",
       "    'how are you',\n",
       "    'is anyone there',\n",
       "    'hello',\n",
       "    'whats up',\n",
       "    'hey',\n",
       "    'yo',\n",
       "    'listen',\n",
       "    'please help me',\n",
       "    'i am learner from',\n",
       "    'i belong to',\n",
       "    'aiml batch',\n",
       "    'aifl batch',\n",
       "    'i am from',\n",
       "    'my pm is',\n",
       "    'blended',\n",
       "    'online',\n",
       "    'i am from',\n",
       "    'hey ya',\n",
       "    'talking to you for first time'],\n",
       "   'responses': ['Hello! how can i help you ?'],\n",
       "   'context_set': ''},\n",
       "  {'tag': 'Exit',\n",
       "   'patterns': ['thank you',\n",
       "    'thanks',\n",
       "    'cya',\n",
       "    'see you',\n",
       "    'later',\n",
       "    'see you later',\n",
       "    'goodbye',\n",
       "    'i am leaving',\n",
       "    'have a Good day',\n",
       "    'you helped me',\n",
       "    'thanks a lot',\n",
       "    'thanks a ton',\n",
       "    'you are the best',\n",
       "    'great help',\n",
       "    'too good',\n",
       "    'you are a good learning buddy'],\n",
       "   'responses': ['I hope I was able to assist you, Good Bye'],\n",
       "   'context_set': ''},\n",
       "  {'tag': 'Olympus',\n",
       "   'patterns': ['olympus',\n",
       "    'explain me how olympus works',\n",
       "    'I am not able to understand olympus',\n",
       "    'olympus window not working',\n",
       "    'no access to olympus',\n",
       "    'unable to see link in olympus',\n",
       "    'no link visible on olympus',\n",
       "    'whom to contact for olympus',\n",
       "    'lot of problem with olympus',\n",
       "    'olypus is not a good tool',\n",
       "    'lot of problems with olympus',\n",
       "    'how to use olympus',\n",
       "    'teach me olympus'],\n",
       "   'responses': ['Link: Olympus wiki'],\n",
       "   'context_set': ''},\n",
       "  {'tag': 'SL',\n",
       "   'patterns': ['i am not able to understand svm',\n",
       "    'explain me how machine learning works',\n",
       "    'i am not able to understand naive bayes',\n",
       "    'i am not able to understand logistic regression',\n",
       "    'i am not able to understand ensemble techb=niques',\n",
       "    'i am not able to understand knn',\n",
       "    'i am not able to understand knn imputer',\n",
       "    'i am not able to understand cross validation',\n",
       "    'i am not able to understand boosting',\n",
       "    'i am not able to understand random forest',\n",
       "    'i am not able to understand ada boosting',\n",
       "    'i am not able to understand gradient boosting',\n",
       "    'machine learning',\n",
       "    'ML',\n",
       "    'SL',\n",
       "    'supervised learning',\n",
       "    'knn',\n",
       "    'logistic regression',\n",
       "    'regression',\n",
       "    'classification',\n",
       "    'naive bayes',\n",
       "    'nb',\n",
       "    'ensemble techniques',\n",
       "    'bagging',\n",
       "    'boosting',\n",
       "    'ada boosting',\n",
       "    'ada',\n",
       "    'gradient boosting',\n",
       "    'hyper parameters'],\n",
       "   'responses': ['Link: Machine Learning wiki '],\n",
       "   'context_set': ''},\n",
       "  {'tag': 'NN',\n",
       "   'patterns': ['what is deep learning',\n",
       "    'unable to understand deep learning',\n",
       "    'explain me how deep learning works',\n",
       "    'i am not able to understand deep learning',\n",
       "    'not able to understand neural nets',\n",
       "    'very diffult to understand neural nets',\n",
       "    'unable to understand neural nets',\n",
       "    'ann',\n",
       "    'artificial intelligence',\n",
       "    'artificial neural networks',\n",
       "    'weights',\n",
       "    'activation function',\n",
       "    'hidden layers',\n",
       "    'softmax',\n",
       "    'sigmoid',\n",
       "    'relu',\n",
       "    'otimizer',\n",
       "    'forward propagation',\n",
       "    'backward propagation',\n",
       "    'epochs',\n",
       "    'epoch',\n",
       "    'what is an epoch',\n",
       "    'adam',\n",
       "    'sgd'],\n",
       "   'responses': ['Link: Neural Nets wiki'],\n",
       "   'context_set': ''},\n",
       "  {'tag': 'Bot',\n",
       "   'patterns': ['what is your name',\n",
       "    'who are you',\n",
       "    'name please',\n",
       "    'when are your hours of opertions',\n",
       "    'what are your working hours',\n",
       "    'hours of operation',\n",
       "    'working hours',\n",
       "    'hours'],\n",
       "   'responses': ['I am your virtual learning assistant'],\n",
       "   'context_set': ''},\n",
       "  {'tag': 'Profane',\n",
       "   'patterns': ['what the hell',\n",
       "    'bloody stupid bot',\n",
       "    'do you think you are very smart',\n",
       "    'screw you',\n",
       "    'i hate you',\n",
       "    'you are stupid',\n",
       "    'jerk',\n",
       "    'you are a joke',\n",
       "    'useless piece of shit'],\n",
       "   'responses': ['Please use respectful words'],\n",
       "   'context_set': ''},\n",
       "  {'tag': 'Ticket',\n",
       "   'patterns': ['my problem is not solved',\n",
       "    'you did not help me',\n",
       "    'not a good solution',\n",
       "    'bad solution',\n",
       "    'not good solution',\n",
       "    'no help',\n",
       "    'wasted my time',\n",
       "    'useless bot',\n",
       "    'create a ticket'],\n",
       "   'responses': ['Tarnsferring the request to your PM'],\n",
       "   'context_set': ''}]}"
      ]
     },
     "execution_count": 16,
     "metadata": {},
     "output_type": "execute_result"
    }
   ],
   "source": [
    "cust_intent"
   ]
  },
  {
   "cell_type": "code",
   "execution_count": 17,
   "id": "vertical-carnival",
   "metadata": {
    "scrolled": false
   },
   "outputs": [],
   "source": [
    "for intent in cust_intent['intents']:\n",
    "    for pattern in intent['patterns']:\n",
    "\n",
    "        # take each word and tokenize it\n",
    "        w = nltk.word_tokenize(pattern)\n",
    "        words.extend(w)\n",
    "        # adding documents\n",
    "        documents.append((w, intent['tag']))\n",
    "\n",
    "        # adding classes to our class list\n",
    "        if intent['tag'] not in classes:\n",
    "            classes.append(intent['tag'])"
   ]
  },
  {
   "cell_type": "code",
   "execution_count": 18,
   "id": "collaborative-acting",
   "metadata": {},
   "outputs": [
    {
     "name": "stdout",
     "output_type": "stream",
     "text": [
      "128 documents\n",
      "8 classes ['Bot', 'Exit', 'Intro', 'NN', 'Olympus', 'Profane', 'SL', 'Ticket']\n",
      "158 unique lemmatized words ['a', 'able', 'access', 'activation', 'ada', 'adam', 'aifl', 'aiml', 'am', 'an', 'ann', 'anyone', 'are', 'artificial', 'backward', 'bad', 'bagging', 'batch', 'bayes', 'belong', 'best', 'blended', 'bloody', 'boosting', 'bot', 'buddy', 'classification', 'contact', 'create', 'cross', 'cya', 'day', 'deep', 'did', 'diffult', 'do', 'ensemble', 'epoch', 'explain', 'first', 'for', 'forest', 'forward', 'from', 'function', 'good', 'goodbye', 'gradient', 'great', 'hate', 'have', 'hell', 'hello', 'help', 'helped', 'hey', 'hi', 'hidden', 'hour', 'how', 'hyper', 'i', 'imputer', 'in', 'intelligence', 'is', 'jerk', 'joke', 'knn', 'later', 'layer', 'learner', 'learning', 'leaving', 'link', 'listen', 'logistic', 'lot', 'machine', 'me', 'ml', 'my', 'naive', 'name', 'nb', 'net', 'network', 'neural', 'no', 'not', 'of', 'olympus', 'olypus', 'on', 'online', 'operation', 'opertions', 'otimizer', 'parameter', 'piece', 'please', 'pm', 'problem', 'propagation', 'random', 'regression', 'relu', 'screw', 'see', 'sgd', 'shit', 'sigmoid', 'sl', 'smart', 'softmax', 'solution', 'solved', 'stupid', 'supervised', 'svm', 'talking', 'teach', 'techb=niques', 'technique', 'thank', 'thanks', 'the', 'there', 'think', 'ticket', 'time', 'to', 'ton', 'too', 'tool', 'unable', 'understand', 'up', 'use', 'useless', 'validation', 'very', 'visible', 'wasted', 'weight', 'what', 'whats', 'when', 'who', 'whom', 'window', 'with', 'work', 'working', 'ya', 'yo', 'you', 'your']\n"
     ]
    }
   ],
   "source": [
    "words = [lemmatizer.lemmatize(w.lower()) for w in words if w not in ignore_words]\n",
    "words = sorted(list(set(words)))\n",
    "\n",
    "classes = sorted(list(set(classes)))\n",
    "\n",
    "print (len(documents), \"documents\")\n",
    "\n",
    "print (len(classes), \"classes\", classes)\n",
    "\n",
    "print (len(words), \"unique lemmatized words\", words)\n",
    "\n",
    "\n",
    "pickle.dump(words,open('words.pkl','wb'))\n",
    "pickle.dump(classes,open('classes.pkl','wb'))"
   ]
  },
  {
   "cell_type": "code",
   "execution_count": 19,
   "id": "going-brass",
   "metadata": {},
   "outputs": [],
   "source": [
    "# Building the Deep Learning Model"
   ]
  },
  {
   "cell_type": "code",
   "execution_count": 20,
   "id": "naked-interim",
   "metadata": {},
   "outputs": [
    {
     "name": "stdout",
     "output_type": "stream",
     "text": [
      "Training data created\n"
     ]
    },
    {
     "name": "stderr",
     "output_type": "stream",
     "text": [
      "C:\\ProgramData\\Anaconda3\\lib\\site-packages\\ipykernel_launcher.py:22: VisibleDeprecationWarning: Creating an ndarray from ragged nested sequences (which is a list-or-tuple of lists-or-tuples-or ndarrays with different lengths or shapes) is deprecated. If you meant to do this, you must specify 'dtype=object' when creating the ndarray\n"
     ]
    }
   ],
   "source": [
    "# initializing training data\n",
    "training = []\n",
    "output_empty = [0] * len(classes)\n",
    "for doc in documents:\n",
    "    # initializing bag of words\n",
    "    bag = []\n",
    "    # list of tokenized words for the pattern\n",
    "    pattern_words = doc[0]\n",
    "    # lemmatize each word - create base word, in attempt to represent related words\n",
    "    pattern_words = [lemmatizer.lemmatize(word.lower()) for word in pattern_words]\n",
    "    # create our bag of words array with 1, if word match found in current pattern\n",
    "    for w in words:\n",
    "        bag.append(1) if w in pattern_words else bag.append(0)\n",
    "\n",
    "    # output is a '0' for each tag and '1' for current tag (for each pattern)\n",
    "    output_row = list(output_empty)\n",
    "    output_row[classes.index(doc[1])] = 1\n",
    "\n",
    "    training.append([bag, output_row])\n",
    "# shuffle our features and turn into np.array\n",
    "random.shuffle(training)\n",
    "training = np.array(training)\n",
    "# create train and test lists. X - patterns, Y - intents\n",
    "train_x = list(training[:,0])\n",
    "train_y = list(training[:,1])\n",
    "print(\"Training data created\")"
   ]
  },
  {
   "cell_type": "code",
   "execution_count": 21,
   "id": "medical-limitation",
   "metadata": {},
   "outputs": [
    {
     "name": "stdout",
     "output_type": "stream",
     "text": [
      "Epoch 1/200\n",
      "26/26 [==============================] - 0s 1ms/step - loss: 2.1355 - accuracy: 0.1480\n",
      "Epoch 2/200\n",
      "26/26 [==============================] - 0s 1ms/step - loss: 1.9351 - accuracy: 0.2512\n",
      "Epoch 3/200\n",
      "26/26 [==============================] - 0s 484us/step - loss: 1.8046 - accuracy: 0.3577\n",
      "Epoch 4/200\n",
      "26/26 [==============================] - 0s 644us/step - loss: 1.7533 - accuracy: 0.3512\n",
      "Epoch 5/200\n",
      "26/26 [==============================] - 0s 2ms/step - loss: 1.6580 - accuracy: 0.3948\n",
      "Epoch 6/200\n",
      "26/26 [==============================] - 0s 1ms/step - loss: 1.6159 - accuracy: 0.4333\n",
      "Epoch 7/200\n",
      "26/26 [==============================] - 0s 995us/step - loss: 1.4913 - accuracy: 0.4239\n",
      "Epoch 8/200\n",
      "26/26 [==============================] - 0s 1ms/step - loss: 1.3721 - accuracy: 0.5495\n",
      "Epoch 9/200\n",
      "26/26 [==============================] - 0s 1ms/step - loss: 1.1688 - accuracy: 0.6467\n",
      "Epoch 10/200\n",
      "26/26 [==============================] - 0s 1ms/step - loss: 1.1033 - accuracy: 0.6900\n",
      "Epoch 11/200\n",
      "26/26 [==============================] - 0s 1ms/step - loss: 0.9798 - accuracy: 0.6902\n",
      "Epoch 12/200\n",
      "26/26 [==============================] - 0s 2ms/step - loss: 0.9332 - accuracy: 0.7059\n",
      "Epoch 13/200\n",
      "26/26 [==============================] - 0s 1ms/step - loss: 0.8083 - accuracy: 0.7599\n",
      "Epoch 14/200\n",
      "26/26 [==============================] - 0s 1ms/step - loss: 0.5755 - accuracy: 0.8584\n",
      "Epoch 15/200\n",
      "26/26 [==============================] - 0s 1ms/step - loss: 0.5925 - accuracy: 0.8390\n",
      "Epoch 16/200\n",
      "26/26 [==============================] - 0s 381us/step - loss: 0.5052 - accuracy: 0.9058\n",
      "Epoch 17/200\n",
      "26/26 [==============================] - 0s 1ms/step - loss: 0.5526 - accuracy: 0.8250\n",
      "Epoch 18/200\n",
      "26/26 [==============================] - 0s 1ms/step - loss: 0.4852 - accuracy: 0.8503\n",
      "Epoch 19/200\n",
      "26/26 [==============================] - 0s 1ms/step - loss: 0.4304 - accuracy: 0.8758\n",
      "Epoch 20/200\n",
      "26/26 [==============================] - 0s 1ms/step - loss: 0.4842 - accuracy: 0.8718\n",
      "Epoch 21/200\n",
      "26/26 [==============================] - 0s 914us/step - loss: 0.3195 - accuracy: 0.9205\n",
      "Epoch 22/200\n",
      "26/26 [==============================] - 0s 1ms/step - loss: 0.1975 - accuracy: 0.9435\n",
      "Epoch 23/200\n",
      "26/26 [==============================] - 0s 1ms/step - loss: 0.2606 - accuracy: 0.9428\n",
      "Epoch 24/200\n",
      "26/26 [==============================] - 0s 522us/step - loss: 0.2058 - accuracy: 0.9604\n",
      "Epoch 25/200\n",
      "26/26 [==============================] - 0s 2ms/step - loss: 0.2660 - accuracy: 0.9001\n",
      "Epoch 26/200\n",
      "26/26 [==============================] - 0s 573us/step - loss: 0.1805 - accuracy: 0.9829\n",
      "Epoch 27/200\n",
      "26/26 [==============================] - 0s 1ms/step - loss: 0.3198 - accuracy: 0.8961\n",
      "Epoch 28/200\n",
      "26/26 [==============================] - 0s 1ms/step - loss: 0.2157 - accuracy: 0.9431\n",
      "Epoch 29/200\n",
      "26/26 [==============================] - 0s 1ms/step - loss: 0.1575 - accuracy: 0.9871\n",
      "Epoch 30/200\n",
      "26/26 [==============================] - 0s 1ms/step - loss: 0.1722 - accuracy: 0.9559\n",
      "Epoch 31/200\n",
      "26/26 [==============================] - 0s 1ms/step - loss: 0.1641 - accuracy: 0.9779\n",
      "Epoch 32/200\n",
      "26/26 [==============================] - 0s 952us/step - loss: 0.1575 - accuracy: 0.9605\n",
      "Epoch 33/200\n",
      "26/26 [==============================] - 0s 1ms/step - loss: 0.1991 - accuracy: 0.9155\n",
      "Epoch 34/200\n",
      "26/26 [==============================] - 0s 1ms/step - loss: 0.1991 - accuracy: 0.9412\n",
      "Epoch 35/200\n",
      "26/26 [==============================] - 0s 1ms/step - loss: 0.1610 - accuracy: 0.9836\n",
      "Epoch 36/200\n",
      "26/26 [==============================] - 0s 1ms/step - loss: 0.1941 - accuracy: 0.9337\n",
      "Epoch 37/200\n",
      "26/26 [==============================] - 0s 997us/step - loss: 0.1010 - accuracy: 0.9780\n",
      "Epoch 38/200\n",
      "26/26 [==============================] - 0s 1ms/step - loss: 0.0850 - accuracy: 0.9965\n",
      "Epoch 39/200\n",
      "26/26 [==============================] - 0s 1ms/step - loss: 0.0796 - accuracy: 0.9912\n",
      "Epoch 40/200\n",
      "26/26 [==============================] - 0s 1ms/step - loss: 0.0602 - accuracy: 0.9944\n",
      "Epoch 41/200\n",
      "26/26 [==============================] - 0s 1ms/step - loss: 0.1100 - accuracy: 0.9755\n",
      "Epoch 42/200\n",
      "26/26 [==============================] - 0s 1ms/step - loss: 0.1115 - accuracy: 0.9708\n",
      "Epoch 43/200\n",
      "26/26 [==============================] - 0s 1ms/step - loss: 0.0773 - accuracy: 0.9919\n",
      "Epoch 44/200\n",
      "26/26 [==============================] - 0s 2ms/step - loss: 0.0976 - accuracy: 0.9827\n",
      "Epoch 45/200\n",
      "26/26 [==============================] - 0s 1ms/step - loss: 0.0398 - accuracy: 1.0000\n",
      "Epoch 46/200\n",
      "26/26 [==============================] - 0s 1ms/step - loss: 0.1347 - accuracy: 0.9565\n",
      "Epoch 47/200\n",
      "26/26 [==============================] - 0s 1ms/step - loss: 0.0768 - accuracy: 0.9881\n",
      "Epoch 48/200\n",
      "26/26 [==============================] - 0s 997us/step - loss: 0.0588 - accuracy: 1.0000\n",
      "Epoch 49/200\n",
      "26/26 [==============================] - 0s 1ms/step - loss: 0.0856 - accuracy: 0.9798\n",
      "Epoch 50/200\n",
      "26/26 [==============================] - 0s 1ms/step - loss: 0.0828 - accuracy: 0.9712\n",
      "Epoch 51/200\n",
      "26/26 [==============================] - 0s 1ms/step - loss: 0.0343 - accuracy: 1.0000\n",
      "Epoch 52/200\n",
      "26/26 [==============================] - 0s 1ms/step - loss: 0.0571 - accuracy: 0.9870\n",
      "Epoch 53/200\n",
      "26/26 [==============================] - 0s 1ms/step - loss: 0.0524 - accuracy: 0.9700\n",
      "Epoch 54/200\n",
      "26/26 [==============================] - 0s 959us/step - loss: 0.0377 - accuracy: 1.0000\n",
      "Epoch 55/200\n",
      "26/26 [==============================] - 0s 564us/step - loss: 0.0727 - accuracy: 0.9768\n",
      "Epoch 56/200\n",
      "26/26 [==============================] - 0s 1ms/step - loss: 0.0337 - accuracy: 0.9988\n",
      "Epoch 57/200\n",
      "26/26 [==============================] - 0s 1ms/step - loss: 0.0505 - accuracy: 0.9899\n",
      "Epoch 58/200\n",
      "26/26 [==============================] - 0s 1ms/step - loss: 0.0353 - accuracy: 0.9847\n",
      "Epoch 59/200\n",
      "26/26 [==============================] - 0s 599us/step - loss: 0.0589 - accuracy: 0.9884\n",
      "Epoch 60/200\n",
      "26/26 [==============================] - 0s 589us/step - loss: 0.0399 - accuracy: 1.0000\n",
      "Epoch 61/200\n",
      "26/26 [==============================] - 0s 986us/step - loss: 0.0516 - accuracy: 0.9925\n",
      "Epoch 62/200\n",
      "26/26 [==============================] - 0s 1ms/step - loss: 0.0232 - accuracy: 0.9985\n",
      "Epoch 63/200\n",
      "26/26 [==============================] - 0s 760us/step - loss: 0.0349 - accuracy: 0.9947\n",
      "Epoch 64/200\n",
      "26/26 [==============================] - 0s 929us/step - loss: 0.0378 - accuracy: 0.9982\n",
      "Epoch 65/200\n",
      "26/26 [==============================] - 0s 551us/step - loss: 0.1020 - accuracy: 0.9559\n",
      "Epoch 66/200\n",
      "26/26 [==============================] - 0s 1ms/step - loss: 0.0323 - accuracy: 0.9941\n",
      "Epoch 67/200\n",
      "26/26 [==============================] - 0s 1ms/step - loss: 0.0546 - accuracy: 0.9757\n",
      "Epoch 68/200\n",
      "26/26 [==============================] - 0s 991us/step - loss: 0.0319 - accuracy: 0.9966\n",
      "Epoch 69/200\n",
      "26/26 [==============================] - 0s 960us/step - loss: 0.0341 - accuracy: 1.0000\n",
      "Epoch 70/200\n",
      "26/26 [==============================] - 0s 324us/step - loss: 0.0242 - accuracy: 0.9966\n",
      "Epoch 71/200\n",
      "26/26 [==============================] - 0s 637us/step - loss: 0.0196 - accuracy: 1.0000\n",
      "Epoch 72/200\n",
      "26/26 [==============================] - 0s 1ms/step - loss: 0.0294 - accuracy: 0.9988\n",
      "Epoch 73/200\n",
      "26/26 [==============================] - 0s 1ms/step - loss: 0.0197 - accuracy: 0.9966\n",
      "Epoch 74/200\n",
      "26/26 [==============================] - 0s 1ms/step - loss: 0.0264 - accuracy: 1.0000\n",
      "Epoch 75/200\n",
      "26/26 [==============================] - 0s 1ms/step - loss: 0.0155 - accuracy: 1.0000\n",
      "Epoch 76/200\n",
      "26/26 [==============================] - 0s 1ms/step - loss: 0.0312 - accuracy: 0.9935\n",
      "Epoch 77/200\n",
      "26/26 [==============================] - 0s 1ms/step - loss: 0.0187 - accuracy: 0.9966\n",
      "Epoch 78/200\n",
      "26/26 [==============================] - 0s 561us/step - loss: 0.0308 - accuracy: 0.9947\n",
      "Epoch 79/200\n",
      "26/26 [==============================] - 0s 1ms/step - loss: 0.0597 - accuracy: 0.9660\n",
      "Epoch 80/200\n",
      "26/26 [==============================] - 0s 1ms/step - loss: 0.0543 - accuracy: 0.9693\n",
      "Epoch 81/200\n",
      "26/26 [==============================] - 0s 1ms/step - loss: 0.0184 - accuracy: 0.9994\n",
      "Epoch 82/200\n",
      "26/26 [==============================] - 0s 1ms/step - loss: 0.0257 - accuracy: 0.9904\n",
      "Epoch 83/200\n",
      "26/26 [==============================] - 0s 1ms/step - loss: 0.0167 - accuracy: 1.0000\n",
      "Epoch 84/200\n",
      "26/26 [==============================] - 0s 1ms/step - loss: 0.0356 - accuracy: 0.9856\n",
      "Epoch 85/200\n",
      "26/26 [==============================] - 0s 1ms/step - loss: 0.0223 - accuracy: 0.9966\n",
      "Epoch 86/200\n",
      "26/26 [==============================] - 0s 824us/step - loss: 0.0252 - accuracy: 1.0000\n",
      "Epoch 87/200\n",
      "26/26 [==============================] - 0s 886us/step - loss: 0.0201 - accuracy: 0.9959\n",
      "Epoch 88/200\n",
      "26/26 [==============================] - 0s 481us/step - loss: 0.0177 - accuracy: 1.0000\n",
      "Epoch 89/200\n",
      "26/26 [==============================] - 0s 1ms/step - loss: 0.0173 - accuracy: 1.0000\n",
      "Epoch 90/200\n",
      "26/26 [==============================] - 0s 1ms/step - loss: 0.0236 - accuracy: 1.0000\n",
      "Epoch 91/200\n",
      "26/26 [==============================] - 0s 1ms/step - loss: 0.0123 - accuracy: 1.0000\n",
      "Epoch 92/200\n",
      "26/26 [==============================] - 0s 1ms/step - loss: 0.0254 - accuracy: 1.0000\n",
      "Epoch 93/200\n",
      "26/26 [==============================] - 0s 1ms/step - loss: 0.0434 - accuracy: 0.9727\n",
      "Epoch 94/200\n",
      "26/26 [==============================] - 0s 1ms/step - loss: 0.0128 - accuracy: 1.0000\n",
      "Epoch 95/200\n",
      "26/26 [==============================] - 0s 440us/step - loss: 0.0122 - accuracy: 0.9966\n",
      "Epoch 96/200\n",
      "26/26 [==============================] - 0s 1ms/step - loss: 0.0197 - accuracy: 1.0000\n",
      "Epoch 97/200\n",
      "26/26 [==============================] - 0s 1ms/step - loss: 0.0133 - accuracy: 1.0000\n",
      "Epoch 98/200\n",
      "26/26 [==============================] - 0s 1ms/step - loss: 0.0423 - accuracy: 0.9786\n",
      "Epoch 99/200\n",
      "26/26 [==============================] - 0s 321us/step - loss: 0.0294 - accuracy: 0.9946\n",
      "Epoch 100/200\n",
      "26/26 [==============================] - 0s 679us/step - loss: 0.0118 - accuracy: 0.9963\n",
      "Epoch 101/200\n",
      "26/26 [==============================] - 0s 1ms/step - loss: 0.0312 - accuracy: 0.9786\n",
      "Epoch 102/200\n",
      "26/26 [==============================] - 0s 1ms/step - loss: 0.0123 - accuracy: 1.0000\n",
      "Epoch 103/200\n",
      "26/26 [==============================] - 0s 1ms/step - loss: 0.0113 - accuracy: 1.0000\n",
      "Epoch 104/200\n",
      "26/26 [==============================] - 0s 482us/step - loss: 0.0841 - accuracy: 0.9575\n",
      "Epoch 105/200\n",
      "26/26 [==============================] - 0s 1ms/step - loss: 0.0241 - accuracy: 0.9923\n",
      "Epoch 106/200\n",
      "26/26 [==============================] - 0s 1ms/step - loss: 0.0233 - accuracy: 0.9970\n",
      "Epoch 107/200\n",
      "26/26 [==============================] - 0s 1ms/step - loss: 0.0156 - accuracy: 1.0000\n",
      "Epoch 108/200\n",
      "26/26 [==============================] - 0s 1ms/step - loss: 0.0188 - accuracy: 1.0000\n",
      "Epoch 109/200\n",
      "26/26 [==============================] - 0s 687us/step - loss: 0.0149 - accuracy: 1.0000\n",
      "Epoch 110/200\n",
      "26/26 [==============================] - 0s 719us/step - loss: 0.0542 - accuracy: 0.9689\n",
      "Epoch 111/200\n",
      "26/26 [==============================] - 0s 1ms/step - loss: 0.0098 - accuracy: 1.0000\n",
      "Epoch 112/200\n",
      "26/26 [==============================] - 0s 833us/step - loss: 0.0727 - accuracy: 0.9695\n",
      "Epoch 113/200\n",
      "26/26 [==============================] - 0s 857us/step - loss: 0.0085 - accuracy: 1.0000\n",
      "Epoch 114/200\n",
      "26/26 [==============================] - 0s 979us/step - loss: 0.0373 - accuracy: 0.9919\n",
      "Epoch 115/200\n",
      "26/26 [==============================] - 0s 889us/step - loss: 0.0138 - accuracy: 1.0000\n",
      "Epoch 116/200\n",
      "26/26 [==============================] - 0s 911us/step - loss: 0.0197 - accuracy: 0.9988\n",
      "Epoch 117/200\n",
      "26/26 [==============================] - 0s 443us/step - loss: 0.0188 - accuracy: 1.0000\n",
      "Epoch 118/200\n",
      "26/26 [==============================] - 0s 626us/step - loss: 0.0282 - accuracy: 1.0000\n",
      "Epoch 119/200\n",
      "26/26 [==============================] - 0s 1ms/step - loss: 0.0607 - accuracy: 0.9786\n",
      "Epoch 120/200\n",
      "26/26 [==============================] - 0s 1ms/step - loss: 0.0142 - accuracy: 1.0000\n",
      "Epoch 121/200\n",
      "26/26 [==============================] - 0s 1ms/step - loss: 0.0314 - accuracy: 1.0000\n",
      "Epoch 122/200\n",
      "26/26 [==============================] - 0s 925us/step - loss: 0.0054 - accuracy: 1.0000\n",
      "Epoch 123/200\n",
      "26/26 [==============================] - 0s 481us/step - loss: 0.0169 - accuracy: 1.0000\n",
      "Epoch 124/200\n",
      "26/26 [==============================] - 0s 1ms/step - loss: 0.0272 - accuracy: 0.9847\n",
      "Epoch 125/200\n",
      "26/26 [==============================] - 0s 768us/step - loss: 0.0054 - accuracy: 1.0000\n",
      "Epoch 126/200\n",
      "26/26 [==============================] - 0s 1ms/step - loss: 0.0143 - accuracy: 0.9921\n",
      "Epoch 127/200\n",
      "26/26 [==============================] - 0s 401us/step - loss: 0.0151 - accuracy: 0.9985\n",
      "Epoch 128/200\n",
      "26/26 [==============================] - 0s 1ms/step - loss: 0.0302 - accuracy: 0.9823\n",
      "Epoch 129/200\n",
      "26/26 [==============================] - 0s 1ms/step - loss: 0.0277 - accuracy: 0.9866\n",
      "Epoch 130/200\n",
      "26/26 [==============================] - 0s 899us/step - loss: 0.0132 - accuracy: 1.0000\n",
      "Epoch 131/200\n",
      "26/26 [==============================] - 0s 937us/step - loss: 0.0283 - accuracy: 1.0000\n",
      "Epoch 132/200\n",
      "26/26 [==============================] - 0s 953us/step - loss: 0.0144 - accuracy: 1.0000\n",
      "Epoch 133/200\n",
      "26/26 [==============================] - 0s 994us/step - loss: 0.0195 - accuracy: 1.0000\n",
      "Epoch 134/200\n",
      "26/26 [==============================] - 0s 935us/step - loss: 0.0096 - accuracy: 1.0000\n",
      "Epoch 135/200\n",
      "26/26 [==============================] - 0s 1ms/step - loss: 0.0123 - accuracy: 1.0000\n",
      "Epoch 136/200\n",
      "26/26 [==============================] - 0s 887us/step - loss: 0.0200 - accuracy: 1.0000\n",
      "Epoch 137/200\n",
      "26/26 [==============================] - 0s 997us/step - loss: 0.0146 - accuracy: 1.0000\n",
      "Epoch 138/200\n",
      "26/26 [==============================] - 0s 1ms/step - loss: 0.0152 - accuracy: 0.9913\n",
      "Epoch 139/200\n",
      "26/26 [==============================] - 0s 722us/step - loss: 0.0059 - accuracy: 1.0000\n",
      "Epoch 140/200\n",
      "26/26 [==============================] - 0s 1ms/step - loss: 0.0325 - accuracy: 0.9881\n",
      "Epoch 141/200\n",
      "26/26 [==============================] - 0s 1ms/step - loss: 0.0123 - accuracy: 1.0000\n",
      "Epoch 142/200\n",
      "26/26 [==============================] - 0s 482us/step - loss: 0.0062 - accuracy: 1.0000\n",
      "Epoch 143/200\n",
      "26/26 [==============================] - 0s 1ms/step - loss: 0.0382 - accuracy: 0.9940\n",
      "Epoch 144/200\n",
      "26/26 [==============================] - 0s 1ms/step - loss: 0.0138 - accuracy: 1.0000\n",
      "Epoch 145/200\n",
      "26/26 [==============================] - 0s 1ms/step - loss: 0.0059 - accuracy: 1.0000\n",
      "Epoch 146/200\n",
      "26/26 [==============================] - 0s 1ms/step - loss: 0.0199 - accuracy: 1.0000\n",
      "Epoch 147/200\n",
      "26/26 [==============================] - 0s 916us/step - loss: 0.0070 - accuracy: 1.0000\n",
      "Epoch 148/200\n",
      "26/26 [==============================] - 0s 1ms/step - loss: 0.0217 - accuracy: 0.9893\n",
      "Epoch 149/200\n",
      "26/26 [==============================] - 0s 2ms/step - loss: 0.0082 - accuracy: 1.0000\n",
      "Epoch 150/200\n",
      "26/26 [==============================] - 0s 1ms/step - loss: 0.0158 - accuracy: 1.0000\n",
      "Epoch 151/200\n",
      "26/26 [==============================] - 0s 1ms/step - loss: 0.0067 - accuracy: 1.0000\n",
      "Epoch 152/200\n",
      "26/26 [==============================] - 0s 978us/step - loss: 0.0270 - accuracy: 1.0000\n",
      "Epoch 153/200\n",
      "26/26 [==============================] - 0s 977us/step - loss: 0.0211 - accuracy: 1.0000\n",
      "Epoch 154/200\n",
      "26/26 [==============================] - 0s 1ms/step - loss: 0.0057 - accuracy: 1.0000\n",
      "Epoch 155/200\n",
      "26/26 [==============================] - 0s 1ms/step - loss: 0.0261 - accuracy: 1.0000\n",
      "Epoch 156/200\n",
      "26/26 [==============================] - 0s 1ms/step - loss: 0.0168 - accuracy: 0.9952\n",
      "Epoch 157/200\n",
      "26/26 [==============================] - 0s 453us/step - loss: 0.0061 - accuracy: 1.0000\n",
      "Epoch 158/200\n",
      "26/26 [==============================] - 0s 1ms/step - loss: 0.0123 - accuracy: 0.9970\n",
      "Epoch 159/200\n",
      "26/26 [==============================] - 0s 960us/step - loss: 0.0092 - accuracy: 0.9988\n",
      "Epoch 160/200\n",
      "26/26 [==============================] - 0s 1ms/step - loss: 0.0090 - accuracy: 1.0000\n",
      "Epoch 161/200\n",
      "26/26 [==============================] - 0s 1ms/step - loss: 0.0216 - accuracy: 0.9935\n",
      "Epoch 162/200\n",
      "26/26 [==============================] - 0s 862us/step - loss: 0.0077 - accuracy: 1.0000\n",
      "Epoch 163/200\n",
      "26/26 [==============================] - 0s 1ms/step - loss: 0.0104 - accuracy: 1.0000\n",
      "Epoch 164/200\n",
      "26/26 [==============================] - 0s 734us/step - loss: 0.0170 - accuracy: 0.9866\n",
      "Epoch 165/200\n",
      "26/26 [==============================] - 0s 1ms/step - loss: 0.0260 - accuracy: 0.9868\n",
      "Epoch 166/200\n",
      "26/26 [==============================] - 0s 1ms/step - loss: 0.0393 - accuracy: 0.9825\n",
      "Epoch 167/200\n",
      "26/26 [==============================] - 0s 932us/step - loss: 0.0367 - accuracy: 0.9847\n",
      "Epoch 168/200\n",
      "26/26 [==============================] - 0s 1ms/step - loss: 0.0055 - accuracy: 1.0000\n",
      "Epoch 169/200\n",
      "26/26 [==============================] - 0s 601us/step - loss: 0.0047 - accuracy: 1.0000\n",
      "Epoch 170/200\n",
      "26/26 [==============================] - 0s 1ms/step - loss: 0.0344 - accuracy: 1.0000\n",
      "Epoch 171/200\n",
      "26/26 [==============================] - 0s 1ms/step - loss: 0.0055 - accuracy: 1.0000\n",
      "Epoch 172/200\n",
      "26/26 [==============================] - 0s 966us/step - loss: 0.0038 - accuracy: 1.0000\n",
      "Epoch 173/200\n",
      "26/26 [==============================] - 0s 958us/step - loss: 0.0096 - accuracy: 1.0000\n",
      "Epoch 174/200\n",
      "26/26 [==============================] - 0s 917us/step - loss: 0.0093 - accuracy: 1.0000\n",
      "Epoch 175/200\n",
      "26/26 [==============================] - 0s 561us/step - loss: 0.0097 - accuracy: 0.9994\n",
      "Epoch 176/200\n",
      "26/26 [==============================] - 0s 1ms/step - loss: 0.0156 - accuracy: 0.9970\n",
      "Epoch 177/200\n",
      "26/26 [==============================] - 0s 1ms/step - loss: 0.0268 - accuracy: 1.0000\n",
      "Epoch 178/200\n",
      "26/26 [==============================] - 0s 979us/step - loss: 0.0160 - accuracy: 1.0000\n",
      "Epoch 179/200\n",
      "26/26 [==============================] - 0s 883us/step - loss: 0.0029 - accuracy: 1.0000\n",
      "Epoch 180/200\n",
      "26/26 [==============================] - 0s 971us/step - loss: 0.0119 - accuracy: 1.0000\n",
      "Epoch 181/200\n",
      "26/26 [==============================] - 0s 522us/step - loss: 0.0119 - accuracy: 1.0000\n",
      "Epoch 182/200\n",
      "26/26 [==============================] - 0s 1ms/step - loss: 0.0100 - accuracy: 1.0000\n",
      "Epoch 183/200\n",
      "26/26 [==============================] - 0s 1ms/step - loss: 0.0074 - accuracy: 1.0000\n",
      "Epoch 184/200\n",
      "26/26 [==============================] - 0s 1ms/step - loss: 0.0187 - accuracy: 1.0000\n",
      "Epoch 185/200\n",
      "26/26 [==============================] - 0s 1ms/step - loss: 0.0238 - accuracy: 0.9893\n",
      "Epoch 186/200\n",
      "26/26 [==============================] - 0s 1ms/step - loss: 0.0116 - accuracy: 0.9947\n",
      "Epoch 187/200\n",
      "26/26 [==============================] - 0s 1ms/step - loss: 0.0117 - accuracy: 1.0000\n",
      "Epoch 188/200\n",
      "26/26 [==============================] - 0s 1ms/step - loss: 0.0124 - accuracy: 1.0000\n",
      "Epoch 189/200\n",
      "26/26 [==============================] - 0s 1ms/step - loss: 0.0131 - accuracy: 0.9921\n",
      "Epoch 190/200\n",
      "26/26 [==============================] - 0s 1ms/step - loss: 0.0204 - accuracy: 1.0000\n",
      "Epoch 191/200\n",
      "26/26 [==============================] - 0s 958us/step - loss: 0.0072 - accuracy: 1.0000\n",
      "Epoch 192/200\n",
      "26/26 [==============================] - 0s 976us/step - loss: 0.0102 - accuracy: 0.9913\n",
      "Epoch 193/200\n",
      "26/26 [==============================] - 0s 890us/step - loss: 0.0014 - accuracy: 1.0000\n",
      "Epoch 194/200\n",
      "26/26 [==============================] - 0s 954us/step - loss: 0.0111 - accuracy: 1.0000\n",
      "Epoch 195/200\n",
      "26/26 [==============================] - 0s 919us/step - loss: 0.0036 - accuracy: 1.0000\n",
      "Epoch 196/200\n",
      "26/26 [==============================] - 0s 931us/step - loss: 0.0276 - accuracy: 0.9793\n",
      "Epoch 197/200\n",
      "26/26 [==============================] - 0s 1ms/step - loss: 0.0045 - accuracy: 1.0000\n",
      "Epoch 198/200\n",
      "26/26 [==============================] - 0s 1ms/step - loss: 0.0206 - accuracy: 1.0000\n",
      "Epoch 199/200\n",
      "26/26 [==============================] - 0s 989us/step - loss: 0.0026 - accuracy: 1.0000\n",
      "Epoch 200/200\n",
      "26/26 [==============================] - 0s 1ms/step - loss: 0.0035 - accuracy: 1.0000\n",
      "model created\n"
     ]
    }
   ],
   "source": [
    "# Create model - 3 layers\n",
    "model = Sequential()\n",
    "# First layer 128 neurons\n",
    "model.add(Dense(128, input_shape=(len(train_x[0]),), activation='relu'))\n",
    "model.add(Dropout(0.5))\n",
    "# second layer 64 neurons\n",
    "model.add(Dense(64, activation='relu'))\n",
    "model.add(Dropout(0.5))\n",
    "# 3rd output layer contains number of neurons\n",
    "model.add(Dense(len(train_y[0]), activation='softmax'))\n",
    "\n",
    "# Compile model. Stochastic gradient descent with Nesterov accelerated gradient gives good results for this model\n",
    "sgd = SGD(lr=0.01, decay=1e-6, momentum=0.9, nesterov=True)\n",
    "model.compile(loss='categorical_crossentropy', optimizer=sgd, metrics=['accuracy'])\n",
    "\n",
    "#fitting and saving the model\n",
    "hist = model.fit(np.array(train_x), np.array(train_y), epochs=200, batch_size=5, verbose=1)\n",
    "model.save('chatbot_model.h5', hist)\n",
    "\n",
    "print(\"model created\")"
   ]
  },
  {
   "cell_type": "code",
   "execution_count": 25,
   "id": "existing-tournament",
   "metadata": {},
   "outputs": [],
   "source": [
    "from keras.models import load_model\n",
    "model = load_model('chatbot_model.h5')\n",
    "import json\n",
    "import random\n",
    "intents = json.loads(open('D:/01_Systematic_Folders/01_AIML_course/01_Final_projects/01_NLP/Project/Project1/GL Bot.json').read())\n",
    "words = pickle.load(open('words.pkl','rb'))\n",
    "classes = pickle.load(open('classes.pkl','rb'))"
   ]
  },
  {
   "cell_type": "code",
   "execution_count": 26,
   "id": "tracked-questionnaire",
   "metadata": {},
   "outputs": [],
   "source": [
    "def sentence_cleaning(sentence):\n",
    "    sentence_words = nltk.word_tokenize(sentence)\n",
    "    sentence_words = [lemmatizer.lemmatize(word.lower()) for word in sentence_words]\n",
    "    return sentence_words\n",
    "\n",
    "# return bag of words array: 0 or 1 for each word in the bag \n",
    "def bow_clean(sentence, words, show_details=True):\n",
    "    # tokenize the pattern\n",
    "    sentence_words = sentence_cleaning(sentence)\n",
    "    # bag of words - matrix of N words, vocabulary matrix\n",
    "    bag = [0]*len(words)\n",
    "    for s in sentence_words:\n",
    "        for i,w in enumerate(words):\n",
    "            if w == s:\n",
    "                # assign 1 if current word is in the vocabulary position\n",
    "                bag[i] = 1\n",
    "                if show_details:\n",
    "                    print (\"bag words: %s\" % w)\n",
    "    return(np.array(bag))\n",
    "\n",
    "def predicting_class(sentence, model):\n",
    "    # filter out predictions below a threshold\n",
    "    p = bow_clean(sentence, words,show_details=False)\n",
    "    res = model.predict(np.array([p]))[0]\n",
    "    ERROR_THRESHOLD = 0.25\n",
    "    results = [[i,r] for i,r in enumerate(res) if r>ERROR_THRESHOLD]\n",
    "    # sort by strength of probability\n",
    "    results.sort(key=lambda x: x[1], reverse=True)\n",
    "    return_list = []\n",
    "    for r in results:\n",
    "        return_list.append({\"intent\": classes[r[0]], \"probability\": str(r[1])})\n",
    "    return return_list\n",
    "\n",
    "def getting_Response(ints, intents_json):\n",
    "    tag = ints[0]['intent']\n",
    "    list_of_intents = intents_json['intents']\n",
    "    for i in list_of_intents:\n",
    "        if(i['tag']== tag):\n",
    "            result = random.choice(i['responses'])\n",
    "            break\n",
    "    return result\n",
    "\n",
    "def chatbot_response(msg):\n",
    "    ints = predicting_class(msg, model)\n",
    "    res = getting_Response(ints, intents)\n",
    "    return res"
   ]
  },
  {
   "cell_type": "code",
   "execution_count": 69,
   "id": "consecutive-somalia",
   "metadata": {},
   "outputs": [],
   "source": [
    "#Creating GUI with tkinter\n",
    "import tkinter\n",
    "from tkinter import *\n",
    "\n",
    "\n",
    "def send():\n",
    "    msg = EntryBox.get(\"1.0\",'end-1c').strip()\n",
    "    EntryBox.delete(\"0.0\",END)\n",
    "\n",
    "    if msg != '':\n",
    "        ChatLog.config(state=NORMAL)\n",
    "        ChatLog.insert(END, \"User: \" + msg + '\\n\\n')\n",
    "        ChatLog.config()\n",
    "\n",
    "        res = chatbot_response(msg)\n",
    "        ChatLog.insert(END, \"Bot: \" + res + '\\n\\n')\n",
    "\n",
    "        ChatLog.config(state=DISABLED)\n",
    "        ChatLog.yview(END)\n",
    "\n",
    "\n",
    "base = Tk()\n",
    "base.title(\"Hi This is Customer support to help you faster\")\n",
    "base.geometry(\"400x500\")\n",
    "\n",
    "\n",
    "#Create Chat window\n",
    "ChatLog = Text(base, bd=0, bg=\"grey\", height=\"10\", width=\"50\" )\n",
    "\n",
    "ChatLog.config(state=DISABLED)\n",
    "\n",
    "#Bind scrollbar to Chat window\n",
    "scrollbar = Scrollbar(base, command=ChatLog.yview)\n",
    "ChatLog['yscrollcommand'] = scrollbar.set\n",
    "\n",
    "#Create Button to send message\n",
    "Send_Button = Button(base,  text=\"Send request\", width=\"12\", height=3,command= send )\n",
    "\n",
    "#Create the box to enter message\n",
    "EntryBox = Text(base, bd=0, bg=\"yellow\",width=\"29\", height=\"5\")\n",
    "\n",
    "#Place all components on the screen\n",
    "scrollbar.place(x=376,y=6, height=386)\n",
    "ChatLog.place(x=6,y=6, height=386, width=370)\n",
    "EntryBox.place(x=128, y=405, height=90, width=265)\n",
    "Send_Button.place(x=6, y=405, height=90)\n",
    "\n",
    "base.mainloop()"
   ]
  },
  {
   "cell_type": "code",
   "execution_count": 70,
   "id": "legendary-woman",
   "metadata": {},
   "outputs": [
    {
     "name": "stdout",
     "output_type": "stream",
     "text": [
      "User: I am not getting good solution for my problem?\n",
      "Bot: Tarnsferring the request to your PM\n"
     ]
    }
   ],
   "source": [
    "message='I am not getting good solution for my problem?'\n",
    "\n",
    "print(\"User:\",message)\n",
    "\n",
    "print(\"Bot:\",chatbot_response(message))"
   ]
  },
  {
   "cell_type": "code",
   "execution_count": 71,
   "id": "stopped-action",
   "metadata": {},
   "outputs": [
    {
     "name": "stdout",
     "output_type": "stream",
     "text": [
      "User: I am not able to understand the details on olympus?\n",
      "Bot: Link: Olympus wiki\n"
     ]
    }
   ],
   "source": [
    "message='I am not able to understand the details on olympus?'\n",
    "\n",
    "print(\"User:\",message)\n",
    "\n",
    "print(\"Bot:\",chatbot_response(message))"
   ]
  },
  {
   "cell_type": "code",
   "execution_count": null,
   "id": "furnished-february",
   "metadata": {},
   "outputs": [],
   "source": []
  },
  {
   "cell_type": "code",
   "execution_count": null,
   "id": "forbidden-potato",
   "metadata": {},
   "outputs": [],
   "source": []
  }
 ],
 "metadata": {
  "kernelspec": {
   "display_name": "Python 3",
   "language": "python",
   "name": "python3"
  },
  "language_info": {
   "codemirror_mode": {
    "name": "ipython",
    "version": 3
   },
   "file_extension": ".py",
   "mimetype": "text/x-python",
   "name": "python",
   "nbconvert_exporter": "python",
   "pygments_lexer": "ipython3",
   "version": "3.7.9"
  }
 },
 "nbformat": 4,
 "nbformat_minor": 5
}
