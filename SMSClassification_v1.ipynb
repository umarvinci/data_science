{
 "cells": [
  {
   "cell_type": "markdown",
   "metadata": {
    "colab_type": "text",
    "id": "FbwHYUXhxaqD"
   },
   "source": [
    "## Problem Statement\n",
    "\n"
   ]
  },
  {
   "cell_type": "markdown",
   "metadata": {
    "colab_type": "text",
    "id": "5QQxgAmWzSye"
   },
   "source": [
    "# Spam SMS Classification using LSTM\n",
    "\n",
    "The SMS spam is a growing problem considering availability of cheap sms packages offered by various telecom service companies. SMS spam filtering is a relatively new task which inherits many issues and solutions from email spam filtering. The SMS Spam Collection is a set of SMS tagged messages that have been collected for SMS Spam research. It contains one set of SMS messages in English of 5,574 messages, tagged according to ham (legitimate) or spam.\n",
    "\n",
    "\n",
    "\n",
    "### Objective:\n",
    "Given a text message and label whether a sms is a spam message, can you train a model using LSTM that allows you to correctly predict a new sms as spam or ham."
   ]
  },
  {
   "cell_type": "markdown",
   "metadata": {
    "colab_type": "text",
    "id": "x_Lom6cXzqn7"
   },
   "source": [
    "## 1. Import Libraries"
   ]
  },
  {
   "cell_type": "markdown",
   "metadata": {
    "colab_type": "text",
    "id": "FZtVstH8zre2"
   },
   "source": [
    "Let us start by mounting the drive"
   ]
  },
  {
   "cell_type": "markdown",
   "metadata": {
    "colab": {
     "base_uri": "https://localhost:8080/",
     "height": 34
    },
    "colab_type": "code",
    "executionInfo": {
     "elapsed": 1165,
     "status": "ok",
     "timestamp": 1600158844186,
     "user": {
      "displayName": "Mansoor Rahimat Khan",
      "photoUrl": "",
      "userId": "09687443316707549268"
     },
     "user_tz": -330
    },
    "id": "jSsg8JHkIh2k",
    "outputId": "23310df7-21b5-4d91-e048-43a99c53fdd2"
   },
   "source": [
    "from google.colab import drive\n",
    "drive.mount('/content/drive')"
   ]
  },
  {
   "cell_type": "markdown",
   "metadata": {
    "colab_type": "text",
    "id": "Gv-tZoFjz2WD"
   },
   "source": [
    "Let us check for the version of installed tensorflow."
   ]
  },
  {
   "cell_type": "code",
   "execution_count": 1,
   "metadata": {
    "colab": {
     "base_uri": "https://localhost:8080/",
     "height": 88
    },
    "colab_type": "code",
    "executionInfo": {
     "elapsed": 3438,
     "status": "ok",
     "timestamp": 1600158846703,
     "user": {
      "displayName": "Mansoor Rahimat Khan",
      "photoUrl": "",
      "userId": "09687443316707549268"
     },
     "user_tz": -330
    },
    "id": "eiuUVBuDzzn9",
    "outputId": "45de5e8f-ebbc-475b-f8c6-0f4360dea414"
   },
   "outputs": [
    {
     "name": "stdout",
     "output_type": "stream",
     "text": [
      "2.3.0\n"
     ]
    }
   ],
   "source": [
    "# used to supress display of warnings\n",
    "import warnings\n",
    "\n",
    "# os is used to provide a way of using operating system dependent functionality\n",
    "# We use it for setting working folder\n",
    "import os\n",
    "\n",
    "# Pandas is used for data manipulation and analysis\n",
    "import pandas as pd \n",
    "\n",
    "# Numpy is used for large, multi-dimensional arrays and matrices, along with mathematical operators on these arrays\n",
    "import numpy as np\n",
    "\n",
    "# Matplotlib is a data visualization library for 2D plots of arrays, built on NumPy arrays \n",
    "# and designed to work with the broader SciPy stack\n",
    "import matplotlib.pyplot as plt\n",
    "%matplotlib inline\n",
    "from matplotlib import pyplot\n",
    "\n",
    "# Seaborn is based on matplotlib, which aids in drawing attractive and informative statistical graphics.\n",
    "import seaborn as sns\n",
    "import tensorflow \n",
    "print(tensorflow.__version__)"
   ]
  },
  {
   "cell_type": "markdown",
   "metadata": {
    "colab_type": "text",
    "id": "fze-aokU0ukH"
   },
   "source": [
    "## 2. Setting Options"
   ]
  },
  {
   "cell_type": "code",
   "execution_count": 2,
   "metadata": {
    "colab": {},
    "colab_type": "code",
    "id": "T3FALggG0xXa"
   },
   "outputs": [],
   "source": [
    "# suppress display of warnings\n",
    "warnings.filterwarnings('ignore')\n",
    "\n",
    "# display all dataframe columns\n",
    "pd.options.display.max_columns = None\n",
    "\n",
    "# to set the limit to 3 decimals\n",
    "pd.options.display.float_format = '{:.7f}'.format\n",
    "\n",
    "# display all dataframe rows\n",
    "pd.options.display.max_rows = None"
   ]
  },
  {
   "cell_type": "markdown",
   "metadata": {
    "colab_type": "text",
    "id": "ZT1P1WdK1vfZ"
   },
   "source": [
    "## 3. Read Data"
   ]
  },
  {
   "cell_type": "code",
   "execution_count": 3,
   "metadata": {
    "colab": {},
    "colab_type": "code",
    "id": "yfl4LbGRJwBu"
   },
   "outputs": [],
   "source": [
    "import os\n",
    "#os.chdir('/content/drive/My Drive/Samsung Internal SSD Reviews/')\n",
    "os.chdir('./')"
   ]
  },
  {
   "cell_type": "code",
   "execution_count": 4,
   "metadata": {},
   "outputs": [
    {
     "data": {
      "text/plain": [
       "{'encoding': 'Windows-1252', 'confidence': 0.7270322499829184, 'language': ''}"
      ]
     },
     "execution_count": 4,
     "metadata": {},
     "output_type": "execute_result"
    }
   ],
   "source": [
    "import chardet\n",
    "with open('spam.csv', 'rb') as rawdata:\n",
    "    result = chardet.detect(rawdata.read(100000))\n",
    "result"
   ]
  },
  {
   "cell_type": "code",
   "execution_count": 5,
   "metadata": {
    "colab": {},
    "colab_type": "code",
    "id": "8yBkgXH3LkBa"
   },
   "outputs": [],
   "source": [
    "dataframe = pd.read_csv('spam.csv', encoding='Windows-1252')"
   ]
  },
  {
   "cell_type": "code",
   "execution_count": 6,
   "metadata": {
    "colab": {
     "base_uri": "https://localhost:8080/",
     "height": 391
    },
    "colab_type": "code",
    "executionInfo": {
     "elapsed": 1310,
     "status": "ok",
     "timestamp": 1600159506446,
     "user": {
      "displayName": "Mansoor Rahimat Khan",
      "photoUrl": "",
      "userId": "09687443316707549268"
     },
     "user_tz": -330
    },
    "id": "Z-qqvkQtMvBU",
    "outputId": "ca1a5a3f-8d42-4a60-d1c1-4116161c97b6"
   },
   "outputs": [
    {
     "data": {
      "text/html": [
       "<div>\n",
       "<style scoped>\n",
       "    .dataframe tbody tr th:only-of-type {\n",
       "        vertical-align: middle;\n",
       "    }\n",
       "\n",
       "    .dataframe tbody tr th {\n",
       "        vertical-align: top;\n",
       "    }\n",
       "\n",
       "    .dataframe thead th {\n",
       "        text-align: right;\n",
       "    }\n",
       "</style>\n",
       "<table border=\"1\" class=\"dataframe\">\n",
       "  <thead>\n",
       "    <tr style=\"text-align: right;\">\n",
       "      <th></th>\n",
       "      <th>v1</th>\n",
       "      <th>v2</th>\n",
       "      <th>Unnamed: 2</th>\n",
       "      <th>Unnamed: 3</th>\n",
       "      <th>Unnamed: 4</th>\n",
       "    </tr>\n",
       "  </thead>\n",
       "  <tbody>\n",
       "    <tr>\n",
       "      <th>0</th>\n",
       "      <td>ham</td>\n",
       "      <td>Go until jurong point, crazy.. Available only ...</td>\n",
       "      <td>NaN</td>\n",
       "      <td>NaN</td>\n",
       "      <td>NaN</td>\n",
       "    </tr>\n",
       "    <tr>\n",
       "      <th>1</th>\n",
       "      <td>ham</td>\n",
       "      <td>Ok lar... Joking wif u oni...</td>\n",
       "      <td>NaN</td>\n",
       "      <td>NaN</td>\n",
       "      <td>NaN</td>\n",
       "    </tr>\n",
       "    <tr>\n",
       "      <th>2</th>\n",
       "      <td>spam</td>\n",
       "      <td>Free entry in 2 a wkly comp to win FA Cup fina...</td>\n",
       "      <td>NaN</td>\n",
       "      <td>NaN</td>\n",
       "      <td>NaN</td>\n",
       "    </tr>\n",
       "    <tr>\n",
       "      <th>3</th>\n",
       "      <td>ham</td>\n",
       "      <td>U dun say so early hor... U c already then say...</td>\n",
       "      <td>NaN</td>\n",
       "      <td>NaN</td>\n",
       "      <td>NaN</td>\n",
       "    </tr>\n",
       "    <tr>\n",
       "      <th>4</th>\n",
       "      <td>ham</td>\n",
       "      <td>Nah I don't think he goes to usf, he lives aro...</td>\n",
       "      <td>NaN</td>\n",
       "      <td>NaN</td>\n",
       "      <td>NaN</td>\n",
       "    </tr>\n",
       "  </tbody>\n",
       "</table>\n",
       "</div>"
      ],
      "text/plain": [
       "     v1                                                 v2 Unnamed: 2  \\\n",
       "0   ham  Go until jurong point, crazy.. Available only ...        NaN   \n",
       "1   ham                      Ok lar... Joking wif u oni...        NaN   \n",
       "2  spam  Free entry in 2 a wkly comp to win FA Cup fina...        NaN   \n",
       "3   ham  U dun say so early hor... U c already then say...        NaN   \n",
       "4   ham  Nah I don't think he goes to usf, he lives aro...        NaN   \n",
       "\n",
       "  Unnamed: 3 Unnamed: 4  \n",
       "0        NaN        NaN  \n",
       "1        NaN        NaN  \n",
       "2        NaN        NaN  \n",
       "3        NaN        NaN  \n",
       "4        NaN        NaN  "
      ]
     },
     "execution_count": 6,
     "metadata": {},
     "output_type": "execute_result"
    }
   ],
   "source": [
    "dataframe.head()"
   ]
  },
  {
   "cell_type": "code",
   "execution_count": 7,
   "metadata": {},
   "outputs": [
    {
     "data": {
      "text/plain": [
       "(5572, 5)"
      ]
     },
     "execution_count": 7,
     "metadata": {},
     "output_type": "execute_result"
    }
   ],
   "source": [
    "dataframe.shape"
   ]
  },
  {
   "cell_type": "markdown",
   "metadata": {
    "colab_type": "text",
    "id": "rED6DbDBKTjM"
   },
   "source": [
    "## 4.  Data Analysis and Preparation"
   ]
  },
  {
   "cell_type": "markdown",
   "metadata": {
    "colab_type": "text",
    "id": "XMv_hXyxJKZK"
   },
   "source": [
    "Create a new dataframe with relevant column only"
   ]
  },
  {
   "cell_type": "code",
   "execution_count": 8,
   "metadata": {
    "colab": {},
    "colab_type": "code",
    "id": "ZBbqLM3t7o8y"
   },
   "outputs": [],
   "source": [
    "data = dataframe[[\"v1\",\"v2\"]]"
   ]
  },
  {
   "cell_type": "code",
   "execution_count": 9,
   "metadata": {
    "colab": {
     "base_uri": "https://localhost:8080/",
     "height": 262
    },
    "colab_type": "code",
    "executionInfo": {
     "elapsed": 1619,
     "status": "ok",
     "timestamp": 1600162043818,
     "user": {
      "displayName": "Mansoor Rahimat Khan",
      "photoUrl": "",
      "userId": "09687443316707549268"
     },
     "user_tz": -330
    },
    "id": "2QwoxzUQMvyU",
    "outputId": "dd681ebf-8480-42ad-c61c-558280bb88cf"
   },
   "outputs": [
    {
     "data": {
      "image/png": "[encoded data removed]",
      "text/plain": [
       "<Figure size 432x288 with 1 Axes>"
      ]
     },
     "metadata": {
      "needs_background": "light"
     },
     "output_type": "display_data"
    }
   ],
   "source": [
    "data['v1'].value_counts().plot(kind = 'bar');"
   ]
  },
  {
   "cell_type": "markdown",
   "metadata": {},
   "source": [
    "Given data is highly unbalanced."
   ]
  },
  {
   "cell_type": "code",
   "execution_count": 10,
   "metadata": {
    "colab": {
     "base_uri": "https://localhost:8080/",
     "height": 204
    },
    "colab_type": "code",
    "executionInfo": {
     "elapsed": 1467,
     "status": "ok",
     "timestamp": 1600159585180,
     "user": {
      "displayName": "Mansoor Rahimat Khan",
      "photoUrl": "",
      "userId": "09687443316707549268"
     },
     "user_tz": -330
    },
    "id": "t7RVYc4PQn_0",
    "outputId": "5d7f7640-7eea-4175-bad9-8879a094708d"
   },
   "outputs": [
    {
     "data": {
      "text/html": [
       "<div>\n",
       "<style scoped>\n",
       "    .dataframe tbody tr th:only-of-type {\n",
       "        vertical-align: middle;\n",
       "    }\n",
       "\n",
       "    .dataframe tbody tr th {\n",
       "        vertical-align: top;\n",
       "    }\n",
       "\n",
       "    .dataframe thead th {\n",
       "        text-align: right;\n",
       "    }\n",
       "</style>\n",
       "<table border=\"1\" class=\"dataframe\">\n",
       "  <thead>\n",
       "    <tr style=\"text-align: right;\">\n",
       "      <th></th>\n",
       "      <th>v1</th>\n",
       "      <th>v2</th>\n",
       "    </tr>\n",
       "  </thead>\n",
       "  <tbody>\n",
       "    <tr>\n",
       "      <th>0</th>\n",
       "      <td>ham</td>\n",
       "      <td>Go until jurong point, crazy.. Available only ...</td>\n",
       "    </tr>\n",
       "    <tr>\n",
       "      <th>1</th>\n",
       "      <td>ham</td>\n",
       "      <td>Ok lar... Joking wif u oni...</td>\n",
       "    </tr>\n",
       "    <tr>\n",
       "      <th>2</th>\n",
       "      <td>spam</td>\n",
       "      <td>Free entry in 2 a wkly comp to win FA Cup fina...</td>\n",
       "    </tr>\n",
       "    <tr>\n",
       "      <th>3</th>\n",
       "      <td>ham</td>\n",
       "      <td>U dun say so early hor... U c already then say...</td>\n",
       "    </tr>\n",
       "    <tr>\n",
       "      <th>4</th>\n",
       "      <td>ham</td>\n",
       "      <td>Nah I don't think he goes to usf, he lives aro...</td>\n",
       "    </tr>\n",
       "  </tbody>\n",
       "</table>\n",
       "</div>"
      ],
      "text/plain": [
       "     v1                                                 v2\n",
       "0   ham  Go until jurong point, crazy.. Available only ...\n",
       "1   ham                      Ok lar... Joking wif u oni...\n",
       "2  spam  Free entry in 2 a wkly comp to win FA Cup fina...\n",
       "3   ham  U dun say so early hor... U c already then say...\n",
       "4   ham  Nah I don't think he goes to usf, he lives aro..."
      ]
     },
     "execution_count": 10,
     "metadata": {},
     "output_type": "execute_result"
    }
   ],
   "source": [
    "data.head()"
   ]
  },
  {
   "cell_type": "code",
   "execution_count": 11,
   "metadata": {},
   "outputs": [
    {
     "data": {
      "text/html": [
       "<div>\n",
       "<style scoped>\n",
       "    .dataframe tbody tr th:only-of-type {\n",
       "        vertical-align: middle;\n",
       "    }\n",
       "\n",
       "    .dataframe tbody tr th {\n",
       "        vertical-align: top;\n",
       "    }\n",
       "\n",
       "    .dataframe thead th {\n",
       "        text-align: right;\n",
       "    }\n",
       "</style>\n",
       "<table border=\"1\" class=\"dataframe\">\n",
       "  <thead>\n",
       "    <tr style=\"text-align: right;\">\n",
       "      <th></th>\n",
       "      <th>v1</th>\n",
       "      <th>v2</th>\n",
       "    </tr>\n",
       "  </thead>\n",
       "  <tbody>\n",
       "    <tr>\n",
       "      <th>count</th>\n",
       "      <td>5572</td>\n",
       "      <td>5572</td>\n",
       "    </tr>\n",
       "    <tr>\n",
       "      <th>unique</th>\n",
       "      <td>2</td>\n",
       "      <td>5169</td>\n",
       "    </tr>\n",
       "    <tr>\n",
       "      <th>top</th>\n",
       "      <td>ham</td>\n",
       "      <td>Sorry, I'll call later</td>\n",
       "    </tr>\n",
       "    <tr>\n",
       "      <th>freq</th>\n",
       "      <td>4825</td>\n",
       "      <td>30</td>\n",
       "    </tr>\n",
       "  </tbody>\n",
       "</table>\n",
       "</div>"
      ],
      "text/plain": [
       "          v1                      v2\n",
       "count   5572                    5572\n",
       "unique     2                    5169\n",
       "top      ham  Sorry, I'll call later\n",
       "freq    4825                      30"
      ]
     },
     "execution_count": 11,
     "metadata": {},
     "output_type": "execute_result"
    }
   ],
   "source": [
    "data.describe()"
   ]
  },
  {
   "cell_type": "markdown",
   "metadata": {
    "colab_type": "text",
    "id": "QLnNIq2iJQBn"
   },
   "source": [
    "Drop NaN values if any"
   ]
  },
  {
   "cell_type": "code",
   "execution_count": 12,
   "metadata": {},
   "outputs": [
    {
     "data": {
      "text/plain": [
       "(5572, 2)"
      ]
     },
     "execution_count": 12,
     "metadata": {},
     "output_type": "execute_result"
    }
   ],
   "source": [
    "data.shape"
   ]
  },
  {
   "cell_type": "code",
   "execution_count": 17,
   "metadata": {},
   "outputs": [
    {
     "name": "stdout",
     "output_type": "stream",
     "text": [
      "ham     4516\n",
      "spam     653\n",
      "Name: v1, dtype: int64\n"
     ]
    }
   ],
   "source": [
    "print(data['v1'].value_counts())"
   ]
  },
  {
   "cell_type": "code",
   "execution_count": 13,
   "metadata": {},
   "outputs": [
    {
     "data": {
      "text/plain": [
       "False"
      ]
     },
     "execution_count": 13,
     "metadata": {},
     "output_type": "execute_result"
    }
   ],
   "source": [
    "data.isnull().values.any()"
   ]
  },
  {
   "cell_type": "code",
   "execution_count": 14,
   "metadata": {},
   "outputs": [
    {
     "data": {
      "text/plain": [
       "<matplotlib.axes._subplots.AxesSubplot at 0x7ff9c83619a0>"
      ]
     },
     "execution_count": 14,
     "metadata": {},
     "output_type": "execute_result"
    },
    {
     "data": {
      "image/png": "[encoded data removed]",
      "text/plain": [
       "<Figure size 432x288 with 1 Axes>"
      ]
     },
     "metadata": {
      "needs_background": "light"
     },
     "output_type": "display_data"
    }
   ],
   "source": [
    "data[data.duplicated()]['v1'].value_counts().plot(kind = 'bar') "
   ]
  },
  {
   "cell_type": "markdown",
   "metadata": {},
   "source": [
    "we can remove dublicate entries"
   ]
  },
  {
   "cell_type": "code",
   "execution_count": 15,
   "metadata": {},
   "outputs": [],
   "source": [
    "data.drop_duplicates(inplace=True)"
   ]
  },
  {
   "cell_type": "code",
   "execution_count": 16,
   "metadata": {},
   "outputs": [
    {
     "data": {
      "text/plain": [
       "(5169, 2)"
      ]
     },
     "execution_count": 16,
     "metadata": {},
     "output_type": "execute_result"
    }
   ],
   "source": [
    "data.shape"
   ]
  },
  {
   "cell_type": "code",
   "execution_count": 18,
   "metadata": {},
   "outputs": [
    {
     "data": {
      "text/plain": [
       "<matplotlib.axes._subplots.AxesSubplot at 0x7ff9c7c86580>"
      ]
     },
     "execution_count": 18,
     "metadata": {},
     "output_type": "execute_result"
    },
    {
     "data": {
      "image/png": "[encoded data removed]",
      "text/plain": [
       "<Figure size 432x288 with 1 Axes>"
      ]
     },
     "metadata": {
      "needs_background": "light"
     },
     "output_type": "display_data"
    }
   ],
   "source": [
    "data['v1'].value_counts().plot(kind = 'bar') "
   ]
  },
  {
   "cell_type": "code",
   "execution_count": 19,
   "metadata": {},
   "outputs": [
    {
     "name": "stdout",
     "output_type": "stream",
     "text": [
      "ham     4516\n",
      "spam     653\n",
      "Name: v1, dtype: int64\n"
     ]
    }
   ],
   "source": [
    "print(data['v1'].value_counts())"
   ]
  },
  {
   "cell_type": "markdown",
   "metadata": {},
   "source": [
    "calculate the length of each review"
   ]
  },
  {
   "cell_type": "code",
   "execution_count": 20,
   "metadata": {},
   "outputs": [],
   "source": [
    "data['len'] = data['v2'].apply(lambda x:len(x.split(\" \")))"
   ]
  },
  {
   "cell_type": "code",
   "execution_count": 21,
   "metadata": {},
   "outputs": [
    {
     "data": {
      "text/html": [
       "<div>\n",
       "<style scoped>\n",
       "    .dataframe tbody tr th:only-of-type {\n",
       "        vertical-align: middle;\n",
       "    }\n",
       "\n",
       "    .dataframe tbody tr th {\n",
       "        vertical-align: top;\n",
       "    }\n",
       "\n",
       "    .dataframe thead th {\n",
       "        text-align: right;\n",
       "    }\n",
       "</style>\n",
       "<table border=\"1\" class=\"dataframe\">\n",
       "  <thead>\n",
       "    <tr style=\"text-align: right;\">\n",
       "      <th></th>\n",
       "      <th>v1</th>\n",
       "      <th>v2</th>\n",
       "      <th>len</th>\n",
       "    </tr>\n",
       "  </thead>\n",
       "  <tbody>\n",
       "    <tr>\n",
       "      <th>0</th>\n",
       "      <td>ham</td>\n",
       "      <td>Go until jurong point, crazy.. Available only ...</td>\n",
       "      <td>20</td>\n",
       "    </tr>\n",
       "    <tr>\n",
       "      <th>1</th>\n",
       "      <td>ham</td>\n",
       "      <td>Ok lar... Joking wif u oni...</td>\n",
       "      <td>6</td>\n",
       "    </tr>\n",
       "    <tr>\n",
       "      <th>2</th>\n",
       "      <td>spam</td>\n",
       "      <td>Free entry in 2 a wkly comp to win FA Cup fina...</td>\n",
       "      <td>28</td>\n",
       "    </tr>\n",
       "    <tr>\n",
       "      <th>3</th>\n",
       "      <td>ham</td>\n",
       "      <td>U dun say so early hor... U c already then say...</td>\n",
       "      <td>11</td>\n",
       "    </tr>\n",
       "    <tr>\n",
       "      <th>4</th>\n",
       "      <td>ham</td>\n",
       "      <td>Nah I don't think he goes to usf, he lives aro...</td>\n",
       "      <td>13</td>\n",
       "    </tr>\n",
       "  </tbody>\n",
       "</table>\n",
       "</div>"
      ],
      "text/plain": [
       "     v1                                                 v2  len\n",
       "0   ham  Go until jurong point, crazy.. Available only ...   20\n",
       "1   ham                      Ok lar... Joking wif u oni...    6\n",
       "2  spam  Free entry in 2 a wkly comp to win FA Cup fina...   28\n",
       "3   ham  U dun say so early hor... U c already then say...   11\n",
       "4   ham  Nah I don't think he goes to usf, he lives aro...   13"
      ]
     },
     "execution_count": 21,
     "metadata": {},
     "output_type": "execute_result"
    }
   ],
   "source": [
    "data.head()"
   ]
  },
  {
   "cell_type": "code",
   "execution_count": 22,
   "metadata": {},
   "outputs": [
    {
     "data": {
      "text/plain": [
       "<matplotlib.axes._subplots.AxesSubplot at 0x7ff9c8372310>"
      ]
     },
     "execution_count": 22,
     "metadata": {},
     "output_type": "execute_result"
    },
    {
     "data": {
      "image/png": "[encoded data removed]",
      "text/plain": [
       "<Figure size 432x288 with 1 Axes>"
      ]
     },
     "metadata": {
      "needs_background": "light"
     },
     "output_type": "display_data"
    }
   ],
   "source": [
    "data['len'].value_counts().plot(kind = 'bar') "
   ]
  },
  {
   "cell_type": "code",
   "execution_count": 28,
   "metadata": {},
   "outputs": [
    {
     "name": "stdout",
     "output_type": "stream",
     "text": [
      "maximum SMS length = 171\n",
      "Median SMS length = 12.0\n",
      "Mean length = 15.455987618494873\n"
     ]
    }
   ],
   "source": [
    "print(\"maximum SMS length = \"+str(data.len.max()) )\n",
    "print(\"Median SMS length = \"+str(data.len.median()) )\n",
    "print(\"Mean length = \"+str(data.len.mean()) )"
   ]
  },
  {
   "cell_type": "code",
   "execution_count": 27,
   "metadata": {},
   "outputs": [
    {
     "data": {
      "text/plain": [
       "count   5169.0000000\n",
       "mean      15.4559876\n",
       "std       11.1638535\n",
       "min        1.0000000\n",
       "25%        7.0000000\n",
       "50%       12.0000000\n",
       "75%       22.0000000\n",
       "max      171.0000000\n",
       "Name: len, dtype: float64"
      ]
     },
     "execution_count": 27,
     "metadata": {},
     "output_type": "execute_result"
    }
   ],
   "source": [
    "data.len.describe()"
   ]
  },
  {
   "cell_type": "markdown",
   "metadata": {},
   "source": [
    "We are setting max length of each sms to 25 since it results in faster training.\n",
    "We will experiment with different values later on"
   ]
  },
  {
   "cell_type": "code",
   "execution_count": 29,
   "metadata": {
    "colab": {},
    "colab_type": "code",
    "id": "T7Ma4u3kSOD3"
   },
   "outputs": [],
   "source": [
    "max_features = 10000\n",
    "maxlen = 25\n",
    "embedding_size = 50"
   ]
  },
  {
   "cell_type": "markdown",
   "metadata": {
    "colab_type": "text",
    "id": "qph71mXtJyWM"
   },
   "source": [
    "Let us tokenize the text"
   ]
  },
  {
   "cell_type": "code",
   "execution_count": 30,
   "metadata": {
    "colab": {
     "base_uri": "https://localhost:8080/",
     "height": 51
    },
    "colab_type": "code",
    "executionInfo": {
     "elapsed": 1444,
     "status": "ok",
     "timestamp": 1600159832215,
     "user": {
      "displayName": "Mansoor Rahimat Khan",
      "photoUrl": "",
      "userId": "09687443316707549268"
     },
     "user_tz": -330
    },
    "id": "C0Q3JreiSWpl",
    "outputId": "cfe787b5-e20d-45dd-eb17-ace51fdffe53"
   },
   "outputs": [
    {
     "name": "stdout",
     "output_type": "stream",
     "text": [
      "Number of Samples: 5169\n",
      "[47, 433, 4013, 780, 705, 662, 64, 8, 1202, 94, 121, 434, 1203, 142, 2712, 1204, 68, 57, 4014, 137]\n"
     ]
    }
   ],
   "source": [
    "from tensorflow.keras.preprocessing.text import Tokenizer\n",
    "\n",
    "tokenizer = Tokenizer(num_words=max_features)\n",
    "tokenizer.fit_on_texts(list(data['v2']))\n",
    "X = tokenizer.texts_to_sequences(data['v2'])\n",
    "\n",
    "print(\"Number of Samples:\", len(X))       \n",
    "print(X[0]) "
   ]
  },
  {
   "cell_type": "code",
   "execution_count": 33,
   "metadata": {},
   "outputs": [
    {
     "data": {
      "text/plain": [
       "111"
      ]
     },
     "execution_count": 33,
     "metadata": {},
     "output_type": "execute_result"
    }
   ],
   "source": [
    "len(data['v2'][0])"
   ]
  },
  {
   "cell_type": "markdown",
   "metadata": {
    "colab_type": "text",
    "id": "HXy2gZrkJ0f_"
   },
   "source": [
    "Let us pad all the reviews"
   ]
  },
  {
   "cell_type": "code",
   "execution_count": 34,
   "metadata": {
    "colab": {
     "base_uri": "https://localhost:8080/",
     "height": 51
    },
    "colab_type": "code",
    "executionInfo": {
     "elapsed": 1041,
     "status": "ok",
     "timestamp": 1600159832216,
     "user": {
      "displayName": "Mansoor Rahimat Khan",
      "photoUrl": "",
      "userId": "09687443316707549268"
     },
     "user_tz": -330
    },
    "id": "-NQLgtVCSf19",
    "outputId": "a765e125-2b38-4a5f-871d-28d9c5336967"
   },
   "outputs": [],
   "source": [
    "from tensorflow.keras.preprocessing.sequence import pad_sequences\n",
    "import numpy as np\n",
    "\n",
    "X = pad_sequences(X, maxlen = maxlen)     \n"
   ]
  },
  {
   "cell_type": "markdown",
   "metadata": {},
   "source": [
    "Output Class label"
   ]
  },
  {
   "cell_type": "code",
   "execution_count": 35,
   "metadata": {},
   "outputs": [
    {
     "name": "stdout",
     "output_type": "stream",
     "text": [
      "Number of Labels:  5169\n",
      "ham\n"
     ]
    }
   ],
   "source": [
    "y = np.asarray(data['v1'])\n",
    "\n",
    "print(\"Number of Labels: \", len(y))     \n",
    "print(y[0])"
   ]
  },
  {
   "cell_type": "code",
   "execution_count": 36,
   "metadata": {
    "colab": {
     "base_uri": "https://localhost:8080/",
     "height": 1000
    },
    "colab_type": "code",
    "executionInfo": {
     "elapsed": 939,
     "status": "ok",
     "timestamp": 1600159834836,
     "user": {
      "displayName": "Mansoor Rahimat Khan",
      "photoUrl": "",
      "userId": "09687443316707549268"
     },
     "user_tz": -330
    },
    "id": "sCxT4akRSq88",
    "outputId": "97390936-2cfd-4292-fd5b-c13baa8311b2"
   },
   "outputs": [
    {
     "data": {
      "text/plain": [
       "{'i': 1,\n",
       " 'to': 2,\n",
       " 'you': 3,\n",
       " 'a': 4,\n",
       " 'the': 5,\n",
       " 'u': 6,\n",
       " 'and': 7,\n",
       " 'in': 8,\n",
       " 'is': 9,\n",
       " 'me': 10,\n",
       " 'my': 11,\n",
       " 'for': 12,\n",
       " 'your': 13,\n",
       " 'it': 14,\n",
       " 'of': 15,\n",
       " 'have': 16,\n",
       " 'call': 17,\n",
       " 'that': 18,\n",
       " 'on': 19,\n",
       " '2': 20,\n",
       " 'are': 21,\n",
       " 'now': 22,\n",
       " 'so': 23,\n",
       " 'but': 24,\n",
       " 'not': 25,\n",
       " 'can': 26,\n",
       " 'at': 27,\n",
       " 'or': 28,\n",
       " \"i'm\": 29,\n",
       " 'do': 30,\n",
       " 'be': 31,\n",
       " 'get': 32,\n",
       " 'will': 33,\n",
       " 'just': 34,\n",
       " 'if': 35,\n",
       " 'with': 36,\n",
       " 'we': 37,\n",
       " 'no': 38,\n",
       " 'this': 39,\n",
       " 'ur': 40,\n",
       " 'up': 41,\n",
       " 'gt': 42,\n",
       " 'lt': 43,\n",
       " '4': 44,\n",
       " 'how': 45,\n",
       " 'when': 46,\n",
       " 'go': 47,\n",
       " 'from': 48,\n",
       " 'ok': 49,\n",
       " 'out': 50,\n",
       " 'all': 51,\n",
       " 'what': 52,\n",
       " 'free': 53,\n",
       " 'know': 54,\n",
       " 'like': 55,\n",
       " 'then': 56,\n",
       " 'got': 57,\n",
       " 'good': 58,\n",
       " 'come': 59,\n",
       " 'am': 60,\n",
       " 'was': 61,\n",
       " 'time': 62,\n",
       " 'its': 63,\n",
       " 'only': 64,\n",
       " 'day': 65,\n",
       " 'want': 66,\n",
       " 'love': 67,\n",
       " 'there': 68,\n",
       " 'he': 69,\n",
       " 'text': 70,\n",
       " 'send': 71,\n",
       " 'going': 72,\n",
       " 'one': 73,\n",
       " 'need': 74,\n",
       " 'by': 75,\n",
       " 'lor': 76,\n",
       " 'home': 77,\n",
       " 'as': 78,\n",
       " 'about': 79,\n",
       " 'still': 80,\n",
       " 'see': 81,\n",
       " 'txt': 82,\n",
       " 'back': 83,\n",
       " 'r': 84,\n",
       " 'stop': 85,\n",
       " 'da': 86,\n",
       " 'k': 87,\n",
       " 'today': 88,\n",
       " 'our': 89,\n",
       " \"i'll\": 90,\n",
       " 'dont': 91,\n",
       " 'reply': 92,\n",
       " 'take': 93,\n",
       " 'n': 94,\n",
       " 'hi': 95,\n",
       " 'think': 96,\n",
       " \"don't\": 97,\n",
       " 'tell': 98,\n",
       " 'any': 99,\n",
       " 'sorry': 100,\n",
       " 'new': 101,\n",
       " 'please': 102,\n",
       " 'mobile': 103,\n",
       " 'she': 104,\n",
       " 'here': 105,\n",
       " 'ì': 106,\n",
       " 'her': 107,\n",
       " 'been': 108,\n",
       " 'they': 109,\n",
       " 'some': 110,\n",
       " 'did': 111,\n",
       " 'well': 112,\n",
       " 'hey': 113,\n",
       " 'much': 114,\n",
       " 'phone': 115,\n",
       " 'oh': 116,\n",
       " 'hope': 117,\n",
       " 'night': 118,\n",
       " 'too': 119,\n",
       " 'him': 120,\n",
       " 'great': 121,\n",
       " 'week': 122,\n",
       " 'where': 123,\n",
       " 'an': 124,\n",
       " 'has': 125,\n",
       " 'more': 126,\n",
       " 'dear': 127,\n",
       " 'later': 128,\n",
       " 'pls': 129,\n",
       " '1': 130,\n",
       " 'make': 131,\n",
       " 'msg': 132,\n",
       " 'give': 133,\n",
       " 'claim': 134,\n",
       " 'way': 135,\n",
       " 'happy': 136,\n",
       " 'wat': 137,\n",
       " 'c': 138,\n",
       " 'had': 139,\n",
       " 'should': 140,\n",
       " \"it's\": 141,\n",
       " 'e': 142,\n",
       " 'yes': 143,\n",
       " 'who': 144,\n",
       " 'already': 145,\n",
       " 'number': 146,\n",
       " 'ask': 147,\n",
       " 'work': 148,\n",
       " 'yeah': 149,\n",
       " 'www': 150,\n",
       " 'really': 151,\n",
       " 'say': 152,\n",
       " 'after': 153,\n",
       " 'prize': 154,\n",
       " 'doing': 155,\n",
       " 'tomorrow': 156,\n",
       " 'im': 157,\n",
       " 'right': 158,\n",
       " 'meet': 159,\n",
       " 'babe': 160,\n",
       " 'why': 161,\n",
       " 'cash': 162,\n",
       " 'thanks': 163,\n",
       " 'message': 164,\n",
       " 'said': 165,\n",
       " 'cos': 166,\n",
       " 'find': 167,\n",
       " '3': 168,\n",
       " 'lol': 169,\n",
       " 'them': 170,\n",
       " 'would': 171,\n",
       " 'last': 172,\n",
       " 'b': 173,\n",
       " 'very': 174,\n",
       " 'miss': 175,\n",
       " 'life': 176,\n",
       " 'also': 177,\n",
       " 'let': 178,\n",
       " 'sure': 179,\n",
       " 'anything': 180,\n",
       " 'morning': 181,\n",
       " 'something': 182,\n",
       " 'd': 183,\n",
       " 'keep': 184,\n",
       " 't': 185,\n",
       " \"i've\": 186,\n",
       " 'every': 187,\n",
       " '150p': 188,\n",
       " 'again': 189,\n",
       " 'before': 190,\n",
       " 'urgent': 191,\n",
       " 'wait': 192,\n",
       " 'care': 193,\n",
       " 'next': 194,\n",
       " 'over': 195,\n",
       " 'us': 196,\n",
       " 'buy': 197,\n",
       " 'around': 198,\n",
       " 'first': 199,\n",
       " 'contact': 200,\n",
       " 'min': 201,\n",
       " 'sent': 202,\n",
       " 'thing': 203,\n",
       " 'were': 204,\n",
       " 'pick': 205,\n",
       " 'money': 206,\n",
       " 'off': 207,\n",
       " 's': 208,\n",
       " 'tonight': 209,\n",
       " 'won': 210,\n",
       " 'com': 211,\n",
       " 'could': 212,\n",
       " 'gonna': 213,\n",
       " 'soon': 214,\n",
       " 'his': 215,\n",
       " 'feel': 216,\n",
       " 'amp': 217,\n",
       " 'nokia': 218,\n",
       " \"can't\": 219,\n",
       " 'win': 220,\n",
       " 'even': 221,\n",
       " 'ya': 222,\n",
       " 'which': 223,\n",
       " 'late': 224,\n",
       " 'sleep': 225,\n",
       " 'dun': 226,\n",
       " 'down': 227,\n",
       " \"that's\": 228,\n",
       " 'uk': 229,\n",
       " 'someone': 230,\n",
       " 'leave': 231,\n",
       " 'wan': 232,\n",
       " 'many': 233,\n",
       " 'v': 234,\n",
       " 'always': 235,\n",
       " 'place': 236,\n",
       " 'service': 237,\n",
       " 'ìï': 238,\n",
       " 'cant': 239,\n",
       " 'other': 240,\n",
       " \"you're\": 241,\n",
       " 'things': 242,\n",
       " 'haha': 243,\n",
       " '5': 244,\n",
       " 'chat': 245,\n",
       " 'told': 246,\n",
       " 'per': 247,\n",
       " 'getting': 248,\n",
       " 'x': 249,\n",
       " 'nice': 250,\n",
       " 'waiting': 251,\n",
       " 'same': 252,\n",
       " 'yet': 253,\n",
       " 'thk': 254,\n",
       " 'coming': 255,\n",
       " 'help': 256,\n",
       " 'went': 257,\n",
       " '50': 258,\n",
       " 'customer': 259,\n",
       " 'done': 260,\n",
       " 'hello': 261,\n",
       " 'thought': 262,\n",
       " 'friend': 263,\n",
       " 'fine': 264,\n",
       " 'try': 265,\n",
       " 'sms': 266,\n",
       " 'may': 267,\n",
       " 'stuff': 268,\n",
       " 'class': 269,\n",
       " 'year': 270,\n",
       " 'mins': 271,\n",
       " 'wish': 272,\n",
       " 'tone': 273,\n",
       " 'co': 274,\n",
       " 'talk': 275,\n",
       " 'use': 276,\n",
       " \"didn't\": 277,\n",
       " 'gud': 278,\n",
       " '18': 279,\n",
       " 'y': 280,\n",
       " 'better': 281,\n",
       " 'friends': 282,\n",
       " 'name': 283,\n",
       " 'finish': 284,\n",
       " 'trying': 285,\n",
       " 'bit': 286,\n",
       " 'best': 287,\n",
       " 'cool': 288,\n",
       " 'guaranteed': 289,\n",
       " 'long': 290,\n",
       " 'ill': 291,\n",
       " 'yup': 292,\n",
       " '6': 293,\n",
       " 'people': 294,\n",
       " '16': 295,\n",
       " 'being': 296,\n",
       " 'never': 297,\n",
       " 'ready': 298,\n",
       " 'few': 299,\n",
       " 'lunch': 300,\n",
       " 'car': 301,\n",
       " 'end': 302,\n",
       " 'yo': 303,\n",
       " 'draw': 304,\n",
       " 'enjoy': 305,\n",
       " 'lar': 306,\n",
       " 'eat': 307,\n",
       " 'meeting': 308,\n",
       " 'wanna': 309,\n",
       " 'thats': 310,\n",
       " 'job': 311,\n",
       " 'nothing': 312,\n",
       " 'holiday': 313,\n",
       " 'house': 314,\n",
       " 'than': 315,\n",
       " 'line': 316,\n",
       " 'having': 317,\n",
       " 'live': 318,\n",
       " 'check': 319,\n",
       " 'guess': 320,\n",
       " 'liao': 321,\n",
       " 'cs': 322,\n",
       " 'days': 323,\n",
       " 'dinner': 324,\n",
       " 'man': 325,\n",
       " 'half': 326,\n",
       " 'wk': 327,\n",
       " 'because': 328,\n",
       " 'shit': 329,\n",
       " 'problem': 330,\n",
       " '7': 331,\n",
       " 'month': 332,\n",
       " 'special': 333,\n",
       " 'ah': 334,\n",
       " 'real': 335,\n",
       " 'another': 336,\n",
       " 'account': 337,\n",
       " 'jus': 338,\n",
       " 'big': 339,\n",
       " 'might': 340,\n",
       " 'quite': 341,\n",
       " 'mind': 342,\n",
       " 'smile': 343,\n",
       " 'lot': 344,\n",
       " 'shows': 345,\n",
       " 'dat': 346,\n",
       " 'early': 347,\n",
       " 'word': 348,\n",
       " 'å£1': 349,\n",
       " 'room': 350,\n",
       " 'once': 351,\n",
       " 'aight': 352,\n",
       " 'sir': 353,\n",
       " 'guys': 354,\n",
       " 'person': 355,\n",
       " 'video': 356,\n",
       " 'heart': 357,\n",
       " 'probably': 358,\n",
       " 'receive': 359,\n",
       " 'xxx': 360,\n",
       " 'latest': 361,\n",
       " 'wont': 362,\n",
       " 'remember': 363,\n",
       " 'maybe': 364,\n",
       " 'bed': 365,\n",
       " 'll': 366,\n",
       " 'start': 367,\n",
       " 'into': 368,\n",
       " 'watch': 369,\n",
       " 'chance': 370,\n",
       " 'den': 371,\n",
       " 'watching': 372,\n",
       " 'pay': 373,\n",
       " 'left': 374,\n",
       " 'does': 375,\n",
       " 'weekend': 376,\n",
       " 'play': 377,\n",
       " 'awarded': 378,\n",
       " 'hear': 379,\n",
       " 'offer': 380,\n",
       " 'thanx': 381,\n",
       " 'baby': 382,\n",
       " 'box': 383,\n",
       " 'dunno': 384,\n",
       " 'ever': 385,\n",
       " 'sat': 386,\n",
       " 'actually': 387,\n",
       " 'bad': 388,\n",
       " 'princess': 389,\n",
       " 'kiss': 390,\n",
       " 'fun': 391,\n",
       " 'speak': 392,\n",
       " 'cost': 393,\n",
       " 'look': 394,\n",
       " \"he's\": 395,\n",
       " 'landline': 396,\n",
       " 'little': 397,\n",
       " 'luv': 398,\n",
       " 'leh': 399,\n",
       " 'reach': 400,\n",
       " 'face': 401,\n",
       " 'shopping': 402,\n",
       " 'shall': 403,\n",
       " 'minutes': 404,\n",
       " 'code': 405,\n",
       " 'thank': 406,\n",
       " \"how's\": 407,\n",
       " '10': 408,\n",
       " 'pa': 409,\n",
       " 'forgot': 410,\n",
       " '150ppm': 411,\n",
       " 'anyway': 412,\n",
       " 'm': 413,\n",
       " 'called': 414,\n",
       " 'two': 415,\n",
       " 'camera': 416,\n",
       " 'bus': 417,\n",
       " 'sweet': 418,\n",
       " 'å£1000': 419,\n",
       " 'girl': 420,\n",
       " 'tv': 421,\n",
       " 'working': 422,\n",
       " 'tmr': 423,\n",
       " 'everything': 424,\n",
       " 'didnt': 425,\n",
       " 'plan': 426,\n",
       " 'hour': 427,\n",
       " 'texts': 428,\n",
       " 'god': 429,\n",
       " '1st': 430,\n",
       " 'fuck': 431,\n",
       " 'dad': 432,\n",
       " 'until': 433,\n",
       " 'world': 434,\n",
       " 'wif': 435,\n",
       " 'rate': 436,\n",
       " 'apply': 437,\n",
       " 'though': 438,\n",
       " 'enough': 439,\n",
       " \"there's\": 440,\n",
       " 'since': 441,\n",
       " 'looking': 442,\n",
       " 'okay': 443,\n",
       " 'join': 444,\n",
       " 'those': 445,\n",
       " 'boy': 446,\n",
       " 'po': 447,\n",
       " 'orange': 448,\n",
       " 'office': 449,\n",
       " 'put': 450,\n",
       " 'while': 451,\n",
       " 'town': 452,\n",
       " 'goes': 453,\n",
       " 'network': 454,\n",
       " 'ringtone': 455,\n",
       " '2nd': 456,\n",
       " 'wanted': 457,\n",
       " 'abt': 458,\n",
       " 'says': 459,\n",
       " 'birthday': 460,\n",
       " 'must': 461,\n",
       " 'bt': 462,\n",
       " 'mail': 463,\n",
       " 'able': 464,\n",
       " 'collect': 465,\n",
       " 'wot': 466,\n",
       " 'bring': 467,\n",
       " '9': 468,\n",
       " '000': 469,\n",
       " 'times': 470,\n",
       " 'most': 471,\n",
       " 'part': 472,\n",
       " 'dis': 473,\n",
       " 'afternoon': 474,\n",
       " 'show': 475,\n",
       " 'juz': 476,\n",
       " 'school': 477,\n",
       " 'award': 478,\n",
       " 'evening': 479,\n",
       " 'easy': 480,\n",
       " 'important': 481,\n",
       " 'g': 482,\n",
       " 'asked': 483,\n",
       " 'wake': 484,\n",
       " 'tones': 485,\n",
       " 'made': 486,\n",
       " 'details': 487,\n",
       " 'plus': 488,\n",
       " 'selected': 489,\n",
       " 'alright': 490,\n",
       " 're': 491,\n",
       " 'saw': 492,\n",
       " 'hair': 493,\n",
       " 'came': 494,\n",
       " 'havent': 495,\n",
       " 'else': 496,\n",
       " 'worry': 497,\n",
       " 'away': 498,\n",
       " 'guy': 499,\n",
       " 'missed': 500,\n",
       " 'yesterday': 501,\n",
       " 'pain': 502,\n",
       " 'price': 503,\n",
       " 'making': 504,\n",
       " 'haf': 505,\n",
       " 'sexy': 506,\n",
       " 'without': 507,\n",
       " 'years': 508,\n",
       " 'til': 509,\n",
       " 'xmas': 510,\n",
       " 'oso': 511,\n",
       " 'book': 512,\n",
       " 'dude': 513,\n",
       " 'stay': 514,\n",
       " '8': 515,\n",
       " 'attempt': 516,\n",
       " 'online': 517,\n",
       " 'gift': 518,\n",
       " 'collection': 519,\n",
       " 'lei': 520,\n",
       " 'valid': 521,\n",
       " 'ard': 522,\n",
       " \"we're\": 523,\n",
       " 'messages': 524,\n",
       " \"haven't\": 525,\n",
       " 'driving': 526,\n",
       " 'food': 527,\n",
       " 'missing': 528,\n",
       " 'hav': 529,\n",
       " \"what's\": 530,\n",
       " 'nite': 531,\n",
       " '10p': 532,\n",
       " 'true': 533,\n",
       " 'bored': 534,\n",
       " 'sch': 535,\n",
       " 'goin': 536,\n",
       " 'entry': 537,\n",
       " 'update': 538,\n",
       " 'net': 539,\n",
       " 'till': 540,\n",
       " \"won't\": 541,\n",
       " 'tried': 542,\n",
       " 'calls': 543,\n",
       " 'means': 544,\n",
       " 'between': 545,\n",
       " 'movie': 546,\n",
       " 'run': 547,\n",
       " 'test': 548,\n",
       " 'address': 549,\n",
       " 'busy': 550,\n",
       " 'order': 551,\n",
       " 'change': 552,\n",
       " 'tot': 553,\n",
       " 'feeling': 554,\n",
       " 'together': 555,\n",
       " 'de': 556,\n",
       " 'wants': 557,\n",
       " 'makes': 558,\n",
       " 'words': 559,\n",
       " 'http': 560,\n",
       " 'yourself': 561,\n",
       " 'mob': 562,\n",
       " 'trip': 563,\n",
       " 'mean': 564,\n",
       " 'old': 565,\n",
       " 'believe': 566,\n",
       " 'decimal': 567,\n",
       " 'id': 568,\n",
       " 'both': 569,\n",
       " 'noe': 570,\n",
       " 'happen': 571,\n",
       " '500': 572,\n",
       " 'ring': 573,\n",
       " 'hot': 574,\n",
       " 'club': 575,\n",
       " 'full': 576,\n",
       " 'hurt': 577,\n",
       " 'weekly': 578,\n",
       " \"we'll\": 579,\n",
       " 'chikku': 580,\n",
       " 'huh': 581,\n",
       " 'these': 582,\n",
       " 'family': 583,\n",
       " 'drive': 584,\n",
       " 'colour': 585,\n",
       " 'å£100': 586,\n",
       " 'date': 587,\n",
       " 'national': 588,\n",
       " 'aft': 589,\n",
       " 'tomo': 590,\n",
       " 'delivery': 591,\n",
       " 'yours': 592,\n",
       " 'finished': 593,\n",
       " 'wen': 594,\n",
       " 'points': 595,\n",
       " 'top': 596,\n",
       " 'awesome': 597,\n",
       " 'shop': 598,\n",
       " 'beautiful': 599,\n",
       " 'thinking': 600,\n",
       " 'saying': 601,\n",
       " 'rite': 602,\n",
       " '8007': 603,\n",
       " 'question': 604,\n",
       " 'hours': 605,\n",
       " 'tho': 606,\n",
       " 'second': 607,\n",
       " 'double': 608,\n",
       " 'comes': 609,\n",
       " 'started': 610,\n",
       " 'cause': 611,\n",
       " 'å£2000': 612,\n",
       " 'taking': 613,\n",
       " 'leaving': 614,\n",
       " 'walk': 615,\n",
       " 'charge': 616,\n",
       " 'lets': 617,\n",
       " 'plz': 618,\n",
       " 'calling': 619,\n",
       " 'drink': 620,\n",
       " 'head': 621,\n",
       " 'eve': 622,\n",
       " 'gd': 623,\n",
       " 'sae': 624,\n",
       " 'either': 625,\n",
       " 'neva': 626,\n",
       " 'game': 627,\n",
       " 'pub': 628,\n",
       " \"she's\": 629,\n",
       " 'sad': 630,\n",
       " 'brother': 631,\n",
       " 'set': 632,\n",
       " 'lesson': 633,\n",
       " 'took': 634,\n",
       " 'bonus': 635,\n",
       " 'lucky': 636,\n",
       " 'xx': 637,\n",
       " 'private': 638,\n",
       " 'todays': 639,\n",
       " 'services': 640,\n",
       " 'open': 641,\n",
       " 'lots': 642,\n",
       " 'smoke': 643,\n",
       " 'gr8': 644,\n",
       " 'sis': 645,\n",
       " 'break': 646,\n",
       " 'sounds': 647,\n",
       " 'wil': 648,\n",
       " 'music': 649,\n",
       " '750': 650,\n",
       " 'w': 651,\n",
       " 'poly': 652,\n",
       " 'pics': 653,\n",
       " 'whatever': 654,\n",
       " 'wife': 655,\n",
       " 'email': 656,\n",
       " 'await': 657,\n",
       " 'loving': 658,\n",
       " 'pic': 659,\n",
       " 'alone': 660,\n",
       " 'auction': 661,\n",
       " 'available': 662,\n",
       " 'treat': 663,\n",
       " 'pounds': 664,\n",
       " 'news': 665,\n",
       " 'ha': 666,\n",
       " 'smth': 667,\n",
       " 'forget': 668,\n",
       " '08000930705': 669,\n",
       " 'girls': 670,\n",
       " 'gone': 671,\n",
       " '12hrs': 672,\n",
       " 'happened': 673,\n",
       " 'statement': 674,\n",
       " 'expires': 675,\n",
       " 'answer': 676,\n",
       " 'nt': 677,\n",
       " 'coz': 678,\n",
       " 'everyone': 679,\n",
       " 'needs': 680,\n",
       " 'carlos': 681,\n",
       " 'boytoy': 682,\n",
       " 'minute': 683,\n",
       " 'touch': 684,\n",
       " 'college': 685,\n",
       " 'sleeping': 686,\n",
       " 'company': 687,\n",
       " 'anytime': 688,\n",
       " 'unsubscribe': 689,\n",
       " 'choose': 690,\n",
       " 'far': 691,\n",
       " 'card': 692,\n",
       " 'games': 693,\n",
       " 'row': 694,\n",
       " 'pm': 695,\n",
       " 'dating': 696,\n",
       " 'land': 697,\n",
       " 'å£500': 698,\n",
       " 'kind': 699,\n",
       " 'mine': 700,\n",
       " 'mum': 701,\n",
       " 'voucher': 702,\n",
       " 'sun': 703,\n",
       " 'drop': 704,\n",
       " 'crazy': 705,\n",
       " 'final': 706,\n",
       " \"c's\": 707,\n",
       " '11': 708,\n",
       " 'wonderful': 709,\n",
       " \"doesn't\": 710,\n",
       " 'decided': 711,\n",
       " 'camcorder': 712,\n",
       " 'used': 713,\n",
       " 'close': 714,\n",
       " 'smiling': 715,\n",
       " 'identifier': 716,\n",
       " 'msgs': 717,\n",
       " 'each': 718,\n",
       " 'content': 719,\n",
       " 'wit': 720,\n",
       " 'found': 721,\n",
       " 'darlin': 722,\n",
       " 'oredi': 723,\n",
       " 'sister': 724,\n",
       " 'bout': 725,\n",
       " 'fucking': 726,\n",
       " 'nope': 727,\n",
       " 'outside': 728,\n",
       " 'fri': 729,\n",
       " 'pretty': 730,\n",
       " 'fast': 731,\n",
       " 'weeks': 732,\n",
       " '‰û': 733,\n",
       " 'anyone': 734,\n",
       " 'don': 735,\n",
       " 'hows': 736,\n",
       " '30': 737,\n",
       " 'freemsg': 738,\n",
       " '100': 739,\n",
       " 'credit': 740,\n",
       " 'hungry': 741,\n",
       " 'telling': 742,\n",
       " 'whole': 743,\n",
       " 'congrats': 744,\n",
       " 'å£5000': 745,\n",
       " 'prob': 746,\n",
       " 'search': 747,\n",
       " 'hit': 748,\n",
       " 'friday': 749,\n",
       " 'hmm': 750,\n",
       " 'mu': 751,\n",
       " \"you'll\": 752,\n",
       " 'yr': 753,\n",
       " 'ltd': 754,\n",
       " 'hard': 755,\n",
       " 'frnd': 756,\n",
       " 'fancy': 757,\n",
       " 'bank': 758,\n",
       " 'finally': 759,\n",
       " 'goodmorning': 760,\n",
       " 'tel': 761,\n",
       " 'meant': 762,\n",
       " 'vouchers': 763,\n",
       " 'takes': 764,\n",
       " 'unlimited': 765,\n",
       " '86688': 766,\n",
       " 'okie': 767,\n",
       " 'friendship': 768,\n",
       " 'post': 769,\n",
       " 'simple': 770,\n",
       " 'sea': 771,\n",
       " 'listen': 772,\n",
       " 'o': 773,\n",
       " 'snow': 774,\n",
       " 'mate': 775,\n",
       " 'earlier': 776,\n",
       " 'party': 777,\n",
       " 'chennai': 778,\n",
       " 'dreams': 779,\n",
       " 'point': 780,\n",
       " 'winner': 781,\n",
       " 'info': 782,\n",
       " 'saturday': 783,\n",
       " 'almost': 784,\n",
       " 'cut': 785,\n",
       " 'hee': 786,\n",
       " 'download': 787,\n",
       " 'mah': 788,\n",
       " 'caller': 789,\n",
       " '03': 790,\n",
       " 'player': 791,\n",
       " 'age': 792,\n",
       " 'type': 793,\n",
       " 'whats': 794,\n",
       " 'hmmm': 795,\n",
       " \"you've\": 796,\n",
       " 'log': 797,\n",
       " 'course': 798,\n",
       " 'side': 799,\n",
       " 'fr': 800,\n",
       " 'congratulations': 801,\n",
       " 'fone': 802,\n",
       " 'lost': 803,\n",
       " 'christmas': 804,\n",
       " 'read': 805,\n",
       " 'ago': 806,\n",
       " 'mobileupd8': 807,\n",
       " 'talking': 808,\n",
       " 'project': 809,\n",
       " 'couple': 810,\n",
       " 'india': 811,\n",
       " 'å£250': 812,\n",
       " 'opt': 813,\n",
       " 'visit': 814,\n",
       " 'park': 815,\n",
       " 'å£2': 816,\n",
       " '2003': 817,\n",
       " '800': 818,\n",
       " 'un': 819,\n",
       " 'yar': 820,\n",
       " 'area': 821,\n",
       " 'knw': 822,\n",
       " 'b4': 823,\n",
       " 'mayb': 824,\n",
       " 'least': 825,\n",
       " 'luck': 826,\n",
       " 'gas': 827,\n",
       " \"i'd\": 828,\n",
       " 'eh': 829,\n",
       " 'charged': 830,\n",
       " 'seeing': 831,\n",
       " 'wow': 832,\n",
       " 'etc': 833,\n",
       " 'gotta': 834,\n",
       " 'computer': 835,\n",
       " 'mom': 836,\n",
       " 'uncle': 837,\n",
       " 'numbers': 838,\n",
       " 'sending': 839,\n",
       " 'direct': 840,\n",
       " 'tired': 841,\n",
       " 'their': 842,\n",
       " 'mr': 843,\n",
       " 'worth': 844,\n",
       " 'balance': 845,\n",
       " 'rs': 846,\n",
       " 'march': 847,\n",
       " 'case': 848,\n",
       " 'hold': 849,\n",
       " 'wid': 850,\n",
       " 'swing': 851,\n",
       " 'light': 852,\n",
       " 'currently': 853,\n",
       " 'suite342': 854,\n",
       " '2lands': 855,\n",
       " '08000839402': 856,\n",
       " 'seen': 857,\n",
       " 'reason': 858,\n",
       " 'ass': 859,\n",
       " 'supposed': 860,\n",
       " 'welcome': 861,\n",
       " 'cum': 862,\n",
       " 'lose': 863,\n",
       " 'redeemed': 864,\n",
       " '04': 865,\n",
       " 'through': 866,\n",
       " 'gym': 867,\n",
       " 'darren': 868,\n",
       " 'sex': 869,\n",
       " 'lovely': 870,\n",
       " 'ugh': 871,\n",
       " 'wrong': 872,\n",
       " 'support': 873,\n",
       " 'grins': 874,\n",
       " 'difficult': 875,\n",
       " \"wasn't\": 876,\n",
       " 'usf': 877,\n",
       " '20': 878,\n",
       " 'pobox': 879,\n",
       " 'eg': 880,\n",
       " 'comin': 881,\n",
       " 'confirm': 882,\n",
       " 'abiola': 883,\n",
       " 'crave': 884,\n",
       " 'gets': 885,\n",
       " 'ac': 886,\n",
       " 'pass': 887,\n",
       " 'complimentary': 888,\n",
       " 'loads': 889,\n",
       " 'shower': 890,\n",
       " 'operator': 891,\n",
       " 'match': 892,\n",
       " 'quiz': 893,\n",
       " 'dogging': 894,\n",
       " 'ni8': 895,\n",
       " 'safe': 896,\n",
       " 'muz': 897,\n",
       " 'bath': 898,\n",
       " 'story': 899,\n",
       " 'orchard': 900,\n",
       " 'kate': 901,\n",
       " 'exam': 902,\n",
       " 'secret': 903,\n",
       " 'thinks': 904,\n",
       " 'laptop': 905,\n",
       " 'angry': 906,\n",
       " 'own': 907,\n",
       " 'wana': 908,\n",
       " 'die': 909,\n",
       " 'somebody': 910,\n",
       " 'rest': 911,\n",
       " 'txts': 912,\n",
       " 'jay': 913,\n",
       " 'ex': 914,\n",
       " 'st': 915,\n",
       " 'motorola': 916,\n",
       " 'slow': 917,\n",
       " 'rental': 918,\n",
       " 'asking': 919,\n",
       " 'monday': 920,\n",
       " 'frm': 921,\n",
       " 'å£3': 922,\n",
       " 'sound': 923,\n",
       " 'wonder': 924,\n",
       " 'extra': 925,\n",
       " 'understand': 926,\n",
       " 'whenever': 927,\n",
       " 'sort': 928,\n",
       " 'asap': 929,\n",
       " 'heard': 930,\n",
       " 'na': 931,\n",
       " 'information': 932,\n",
       " 'enter': 933,\n",
       " 'comp': 934,\n",
       " 'nah': 935,\n",
       " 'reward': 936,\n",
       " '12': 937,\n",
       " 'sunday': 938,\n",
       " 'wap': 939,\n",
       " 'link': 940,\n",
       " 'myself': 941,\n",
       " 'worried': 942,\n",
       " 'oops': 943,\n",
       " 'red': 944,\n",
       " 'correct': 945,\n",
       " 'move': 946,\n",
       " 'song': 947,\n",
       " 'frnds': 948,\n",
       " 'save': 949,\n",
       " 'tickets': 950,\n",
       " 'il': 951,\n",
       " 'gave': 952,\n",
       " \"isn't\": 953,\n",
       " 'felt': 954,\n",
       " 'pray': 955,\n",
       " 'wine': 956,\n",
       " 'dream': 957,\n",
       " 'parents': 958,\n",
       " 'spend': 959,\n",
       " 'bathe': 960,\n",
       " 'bill': 961,\n",
       " 'semester': 962,\n",
       " 'study': 963,\n",
       " 'tc': 964,\n",
       " '87066': 965,\n",
       " 'blue': 966,\n",
       " 'tonite': 967,\n",
       " 'stupid': 968,\n",
       " 'ends': 969,\n",
       " 'normal': 970,\n",
       " 'pete': 971,\n",
       " 'plans': 972,\n",
       " 'via': 973,\n",
       " 'small': 974,\n",
       " 'figure': 975,\n",
       " 'met': 976,\n",
       " 'rakhesh': 977,\n",
       " 'moment': 978,\n",
       " 'call2optout': 979,\n",
       " 'woke': 980,\n",
       " 'phones': 981,\n",
       " 'mm': 982,\n",
       " 'yep': 983,\n",
       " 'voice': 984,\n",
       " 'booked': 985,\n",
       " 'th': 986,\n",
       " 'ten': 987,\n",
       " 'different': 988,\n",
       " 'water': 989,\n",
       " 'ipod': 990,\n",
       " 'offers': 991,\n",
       " 'hoping': 992,\n",
       " 'across': 993,\n",
       " 'warm': 994,\n",
       " 'em': 995,\n",
       " 'happiness': 996,\n",
       " 'å£350': 997,\n",
       " 'drugs': 998,\n",
       " 'laugh': 999,\n",
       " 'ans': 1000,\n",
       " ...}"
      ]
     },
     "execution_count": 36,
     "metadata": {},
     "output_type": "execute_result"
    }
   ],
   "source": [
    "tokenizer.word_index"
   ]
  },
  {
   "cell_type": "markdown",
   "metadata": {
    "colab_type": "text",
    "id": "A5GlWwKnJ7ie"
   },
   "source": [
    "Let us see the total number of words in the dictionary"
   ]
  },
  {
   "cell_type": "code",
   "execution_count": 37,
   "metadata": {
    "colab": {
     "base_uri": "https://localhost:8080/",
     "height": 34
    },
    "colab_type": "code",
    "executionInfo": {
     "elapsed": 785,
     "status": "ok",
     "timestamp": 1600159836151,
     "user": {
      "displayName": "Mansoor Rahimat Khan",
      "photoUrl": "",
      "userId": "09687443316707549268"
     },
     "user_tz": -330
    },
    "id": "cAxTVIAASxTD",
    "outputId": "ea46efff-bd7c-435f-cb2a-d371905f549c"
   },
   "outputs": [
    {
     "name": "stdout",
     "output_type": "stream",
     "text": [
      "8921\n"
     ]
    }
   ],
   "source": [
    "num_words = len(tokenizer.word_index) + 1\n",
    "print(num_words)"
   ]
  },
  {
   "cell_type": "markdown",
   "metadata": {
    "colab_type": "text",
    "id": "RKa3eYLDJ_yO"
   },
   "source": [
    "Let us compute the glove embeddings"
   ]
  },
  {
   "cell_type": "code",
   "execution_count": 40,
   "metadata": {
    "colab": {},
    "colab_type": "code",
    "id": "VTr5rgjhS5oq"
   },
   "outputs": [],
   "source": [
    "#EMBEDDING_FILE = '/content/drive/My Drive/glove.6B.50d.txt'\n",
    "EMBEDDING_FILE = '/home/gopalag/Project/NLP/Week2-WordEmbedding/glove.6B.50d.txt'\n",
    "embeddings = {}\n",
    "for o in open(EMBEDDING_FILE):\n",
    "    word = o.split(\" \")[0]\n",
    "    # print(word)\n",
    "    embd = o.split(\" \")[1:]\n",
    "    embd = np.asarray(embd, dtype='float32')\n",
    "    # print(embd)\n",
    "    embeddings[word] = embd\n",
    "\n",
    "# create a weight matrix for words in training docs\n",
    "embedding_matrix = np.zeros((num_words, 50))\n",
    "\n",
    "for word, i in tokenizer.word_index.items():\n",
    "\tembedding_vector = embeddings.get(word)\n",
    "\tif embedding_vector is not None:\n",
    "\t\tembedding_matrix[i] = embedding_vector"
   ]
  },
  {
   "cell_type": "code",
   "execution_count": 41,
   "metadata": {
    "colab": {
     "base_uri": "https://localhost:8080/",
     "height": 34
    },
    "colab_type": "code",
    "executionInfo": {
     "elapsed": 7305,
     "status": "ok",
     "timestamp": 1600159845232,
     "user": {
      "displayName": "Mansoor Rahimat Khan",
      "photoUrl": "",
      "userId": "09687443316707549268"
     },
     "user_tz": -330
    },
    "id": "3cYgstglTqHq",
    "outputId": "d393610f-a679-4efe-f68a-696d25728d7a"
   },
   "outputs": [
    {
     "data": {
      "text/plain": [
       "400000"
      ]
     },
     "execution_count": 41,
     "metadata": {},
     "output_type": "execute_result"
    }
   ],
   "source": [
    "len(embeddings.values())"
   ]
  },
  {
   "cell_type": "code",
   "execution_count": 53,
   "metadata": {},
   "outputs": [
    {
     "data": {
      "text/plain": [
       "(8921, 50)"
      ]
     },
     "execution_count": 53,
     "metadata": {},
     "output_type": "execute_result"
    }
   ],
   "source": [
    "embedding_matrix.shape"
   ]
  },
  {
   "cell_type": "code",
   "execution_count": 42,
   "metadata": {
    "colab": {
     "base_uri": "https://localhost:8080/",
     "height": 34
    },
    "colab_type": "code",
    "executionInfo": {
     "elapsed": 6729,
     "status": "ok",
     "timestamp": 1600159845232,
     "user": {
      "displayName": "Mansoor Rahimat Khan",
      "photoUrl": "",
      "userId": "09687443316707549268"
     },
     "user_tz": -330
    },
    "id": "C2z09rgpT1FF",
    "outputId": "db9be5d1-313d-4cc8-f743-8b31eea27f72"
   },
   "outputs": [
    {
     "data": {
      "text/plain": [
       "8921"
      ]
     },
     "execution_count": 42,
     "metadata": {},
     "output_type": "execute_result"
    }
   ],
   "source": [
    "num_words"
   ]
  },
  {
   "cell_type": "markdown",
   "metadata": {
    "colab_type": "text",
    "id": "xVPf3X5MKGpm"
   },
   "source": [
    "Let us one hot encode the target variables"
   ]
  },
  {
   "cell_type": "code",
   "execution_count": 43,
   "metadata": {
    "colab": {},
    "colab_type": "code",
    "id": "NI64wTG_j6Hd"
   },
   "outputs": [],
   "source": [
    "from sklearn.preprocessing import OneHotEncoder\n",
    "enc = OneHotEncoder()\n",
    "y = enc.fit_transform(y.reshape(-1,1))"
   ]
  },
  {
   "cell_type": "markdown",
   "metadata": {
    "colab_type": "text",
    "id": "MULYRprxKJc4"
   },
   "source": [
    "Convert sparse scipy matrix to nd array"
   ]
  },
  {
   "cell_type": "code",
   "execution_count": 44,
   "metadata": {
    "colab": {},
    "colab_type": "code",
    "id": "o8XIlRgBqnjg"
   },
   "outputs": [],
   "source": [
    "y = y.todense()"
   ]
  },
  {
   "cell_type": "code",
   "execution_count": 55,
   "metadata": {},
   "outputs": [
    {
     "data": {
      "text/plain": [
       "matrix([[1., 0.]])"
      ]
     },
     "execution_count": 55,
     "metadata": {},
     "output_type": "execute_result"
    }
   ],
   "source": [
    "y[0]"
   ]
  },
  {
   "cell_type": "markdown",
   "metadata": {
    "colab_type": "text",
    "id": "5dqPXETLKN0h"
   },
   "source": [
    "Train Test Split"
   ]
  },
  {
   "cell_type": "code",
   "execution_count": 45,
   "metadata": {
    "colab": {},
    "colab_type": "code",
    "id": "xQwdt_NnU2SS"
   },
   "outputs": [],
   "source": [
    "from sklearn.model_selection import train_test_split\n",
    "X_train, X_test, y_train, y_test = train_test_split(X, y, random_state = 50, stratify=y, test_size=0.3)"
   ]
  },
  {
   "cell_type": "code",
   "execution_count": 58,
   "metadata": {},
   "outputs": [
    {
     "name": "stdout",
     "output_type": "stream",
     "text": [
      "(3618, 25)\n",
      "(1551, 25)\n"
     ]
    }
   ],
   "source": [
    "print(X_train.shape)\n",
    "print(X_test.shape)"
   ]
  },
  {
   "cell_type": "code",
   "execution_count": 60,
   "metadata": {},
   "outputs": [
    {
     "name": "stdout",
     "output_type": "stream",
     "text": [
      "(3618, 2)\n",
      "(1551, 2)\n"
     ]
    }
   ],
   "source": [
    "print(y_train.shape)\n",
    "print(y_test.shape)"
   ]
  },
  {
   "cell_type": "markdown",
   "metadata": {
    "colab_type": "text",
    "id": "rhD1a-beKvE7"
   },
   "source": [
    "## 6. Model building"
   ]
  },
  {
   "cell_type": "markdown",
   "metadata": {
    "colab_type": "text",
    "id": "bRmxklYnKvxk"
   },
   "source": [
    "Let us construct a neural network architecture for building our rating predictions model"
   ]
  },
  {
   "cell_type": "code",
   "execution_count": 61,
   "metadata": {
    "colab": {},
    "colab_type": "code",
    "id": "_hVTTzpDT21b"
   },
   "outputs": [],
   "source": [
    "import tensorflow as tf\n",
    "from tensorflow.keras.models import Sequential\n",
    "from tensorflow.keras.layers import Embedding, Bidirectional, LSTM, Dense, Dropout, Flatten\n",
    "from functools import partial\n",
    "\n",
    "model = Sequential()\n",
    "model.add(Embedding(num_words, embedding_size, weights = [embedding_matrix], input_length=maxlen))\n",
    "model.add(Bidirectional(LSTM(128, return_sequences = True)))\n",
    "model.add(Flatten())\n",
    "model.add(Dense(512, activation='relu'))\n",
    "model.add(Dense(256, activation = 'relu'))\n",
    "model.add(Dense(128, activation = 'relu'))\n",
    "model.add(Dense(64, activation= 'relu'))\n",
    "model.add(Dropout(0.5))\n",
    "model.add(Dense(2, activation=\"softmax\"))"
   ]
  },
  {
   "cell_type": "code",
   "execution_count": 62,
   "metadata": {
    "colab": {},
    "colab_type": "code",
    "id": "pQl8wr1GUkGx"
   },
   "outputs": [],
   "source": [
    "model.compile(loss='categorical_crossentropy', optimizer='adam', metrics=['accuracy'])"
   ]
  },
  {
   "cell_type": "code",
   "execution_count": 63,
   "metadata": {
    "colab": {
     "base_uri": "https://localhost:8080/",
     "height": 459
    },
    "colab_type": "code",
    "executionInfo": {
     "elapsed": 1165,
     "status": "ok",
     "timestamp": 1600159855157,
     "user": {
      "displayName": "Mansoor Rahimat Khan",
      "photoUrl": "",
      "userId": "09687443316707549268"
     },
     "user_tz": -330
    },
    "id": "7XYFAsyyUne_",
    "outputId": "02146cbe-31f3-4ab0-f17e-1cd11e0ead23"
   },
   "outputs": [
    {
     "name": "stdout",
     "output_type": "stream",
     "text": [
      "Model: \"sequential_1\"\n",
      "_________________________________________________________________\n",
      "Layer (type)                 Output Shape              Param #   \n",
      "=================================================================\n",
      "embedding_1 (Embedding)      (None, 25, 50)            446050    \n",
      "_________________________________________________________________\n",
      "bidirectional_1 (Bidirection (None, 25, 256)           183296    \n",
      "_________________________________________________________________\n",
      "flatten_1 (Flatten)          (None, 6400)              0         \n",
      "_________________________________________________________________\n",
      "dense_5 (Dense)              (None, 512)               3277312   \n",
      "_________________________________________________________________\n",
      "dense_6 (Dense)              (None, 256)               131328    \n",
      "_________________________________________________________________\n",
      "dense_7 (Dense)              (None, 128)               32896     \n",
      "_________________________________________________________________\n",
      "dense_8 (Dense)              (None, 64)                8256      \n",
      "_________________________________________________________________\n",
      "dropout_1 (Dropout)          (None, 64)                0         \n",
      "_________________________________________________________________\n",
      "dense_9 (Dense)              (None, 2)                 130       \n",
      "=================================================================\n",
      "Total params: 4,079,268\n",
      "Trainable params: 4,079,268\n",
      "Non-trainable params: 0\n",
      "_________________________________________________________________\n"
     ]
    }
   ],
   "source": [
    "model.summary()"
   ]
  },
  {
   "cell_type": "code",
   "execution_count": 64,
   "metadata": {
    "colab": {
     "base_uri": "https://localhost:8080/",
     "height": 697
    },
    "colab_type": "code",
    "executionInfo": {
     "elapsed": 70548,
     "status": "ok",
     "timestamp": 1600159936382,
     "user": {
      "displayName": "Mansoor Rahimat Khan",
      "photoUrl": "",
      "userId": "09687443316707549268"
     },
     "user_tz": -330
    },
    "id": "4w5zqJ0dUpWe",
    "outputId": "81ad87b6-812b-40b5-928f-4220bb0f8d3b"
   },
   "outputs": [
    {
     "name": "stdout",
     "output_type": "stream",
     "text": [
      "Epoch 1/20\n",
      "37/37 [==============================] - 3s 84ms/step - loss: 0.1980 - accuracy: 0.9370 - val_loss: 0.0916 - val_accuracy: 0.9729\n",
      "Epoch 2/20\n",
      "37/37 [==============================] - 3s 73ms/step - loss: 0.0719 - accuracy: 0.9798 - val_loss: 0.0791 - val_accuracy: 0.9768\n",
      "Epoch 3/20\n",
      "37/37 [==============================] - 3s 72ms/step - loss: 0.0457 - accuracy: 0.9889 - val_loss: 0.1026 - val_accuracy: 0.9761\n",
      "Epoch 4/20\n",
      "37/37 [==============================] - 3s 83ms/step - loss: 0.0296 - accuracy: 0.9920 - val_loss: 0.0947 - val_accuracy: 0.9774\n",
      "Epoch 5/20\n",
      "37/37 [==============================] - 3s 74ms/step - loss: 0.0181 - accuracy: 0.9947 - val_loss: 0.1174 - val_accuracy: 0.9768\n",
      "Epoch 6/20\n",
      "37/37 [==============================] - 3s 75ms/step - loss: 0.0200 - accuracy: 0.9945 - val_loss: 0.0812 - val_accuracy: 0.9794\n",
      "Epoch 7/20\n",
      "37/37 [==============================] - 3s 76ms/step - loss: 0.0126 - accuracy: 0.9953 - val_loss: 0.1378 - val_accuracy: 0.9742\n",
      "Epoch 8/20\n",
      "37/37 [==============================] - 3s 75ms/step - loss: 0.0132 - accuracy: 0.9981 - val_loss: 0.1371 - val_accuracy: 0.9761\n",
      "Epoch 9/20\n",
      "37/37 [==============================] - 3s 77ms/step - loss: 0.0077 - accuracy: 0.9981 - val_loss: 0.1516 - val_accuracy: 0.9774\n",
      "Epoch 10/20\n",
      "37/37 [==============================] - 3s 77ms/step - loss: 0.0055 - accuracy: 0.9983 - val_loss: 0.1503 - val_accuracy: 0.9794\n",
      "Epoch 11/20\n",
      "37/37 [==============================] - 3s 78ms/step - loss: 0.0203 - accuracy: 0.9942 - val_loss: 0.1109 - val_accuracy: 0.9774\n",
      "Epoch 12/20\n",
      "37/37 [==============================] - 3s 81ms/step - loss: 0.0017 - accuracy: 0.9997 - val_loss: 0.1846 - val_accuracy: 0.9768\n",
      "Epoch 13/20\n",
      "37/37 [==============================] - 3s 84ms/step - loss: 8.3646e-05 - accuracy: 1.0000 - val_loss: 0.2190 - val_accuracy: 0.9787\n",
      "Epoch 14/20\n",
      "37/37 [==============================] - 3s 79ms/step - loss: 2.6617e-05 - accuracy: 1.0000 - val_loss: 0.2313 - val_accuracy: 0.9787\n",
      "Epoch 15/20\n",
      "37/37 [==============================] - 3s 86ms/step - loss: 4.7434e-05 - accuracy: 1.0000 - val_loss: 0.2422 - val_accuracy: 0.9787\n",
      "Epoch 16/20\n",
      "37/37 [==============================] - 3s 80ms/step - loss: 1.7445e-05 - accuracy: 1.0000 - val_loss: 0.2518 - val_accuracy: 0.9787\n",
      "Epoch 17/20\n",
      "37/37 [==============================] - 3s 82ms/step - loss: 1.9665e-05 - accuracy: 1.0000 - val_loss: 0.2602 - val_accuracy: 0.9787\n",
      "Epoch 18/20\n",
      "37/37 [==============================] - 3s 81ms/step - loss: 7.8065e-06 - accuracy: 1.0000 - val_loss: 0.2673 - val_accuracy: 0.9787\n",
      "Epoch 19/20\n",
      "37/37 [==============================] - 3s 82ms/step - loss: 1.2665e-04 - accuracy: 1.0000 - val_loss: 0.2766 - val_accuracy: 0.9781\n",
      "Epoch 20/20\n",
      "37/37 [==============================] - 3s 90ms/step - loss: 2.1576e-05 - accuracy: 1.0000 - val_loss: 0.2880 - val_accuracy: 0.9768\n"
     ]
    }
   ],
   "source": [
    "batch_size = 100\n",
    "epochs = 20\n",
    "\n",
    "training_history = model.fit(X_train, y_train, batch_size=batch_size, epochs=epochs, validation_data=(X_test, y_test))"
   ]
  },
  {
   "cell_type": "code",
   "execution_count": 65,
   "metadata": {
    "colab": {},
    "colab_type": "code",
    "id": "JSxXx_jM_SQk"
   },
   "outputs": [],
   "source": [
    "predictions = model.predict(X_test.reshape(len(X_test),25))"
   ]
  },
  {
   "cell_type": "code",
   "execution_count": 66,
   "metadata": {
    "colab": {},
    "colab_type": "code",
    "id": "XWiHxR7XrQlw"
   },
   "outputs": [],
   "source": [
    "y_test_inv = enc.inverse_transform(y_test)"
   ]
  },
  {
   "cell_type": "code",
   "execution_count": 67,
   "metadata": {
    "colab": {},
    "colab_type": "code",
    "id": "iBQbyTwArfzh"
   },
   "outputs": [],
   "source": [
    "y_pred_inv = enc.inverse_transform(np.around(predictions))"
   ]
  },
  {
   "cell_type": "code",
   "execution_count": 68,
   "metadata": {
    "colab": {
     "base_uri": "https://localhost:8080/",
     "height": 34
    },
    "colab_type": "code",
    "executionInfo": {
     "elapsed": 3525,
     "status": "ok",
     "timestamp": 1600160891487,
     "user": {
      "displayName": "Mansoor Rahimat Khan",
      "photoUrl": "",
      "userId": "09687443316707549268"
     },
     "user_tz": -330
    },
    "id": "9ylE3kExrqMx",
    "outputId": "c761d985-45bc-4a52-a6b2-da9056eaba6b"
   },
   "outputs": [
    {
     "data": {
      "text/plain": [
       "(1551, 1)"
      ]
     },
     "execution_count": 68,
     "metadata": {},
     "output_type": "execute_result"
    }
   ],
   "source": [
    "y_test_inv.shape"
   ]
  },
  {
   "cell_type": "code",
   "execution_count": 69,
   "metadata": {
    "colab": {
     "base_uri": "https://localhost:8080/",
     "height": 34
    },
    "colab_type": "code",
    "executionInfo": {
     "elapsed": 3813,
     "status": "ok",
     "timestamp": 1600160891995,
     "user": {
      "displayName": "Mansoor Rahimat Khan",
      "photoUrl": "",
      "userId": "09687443316707549268"
     },
     "user_tz": -330
    },
    "id": "KfMUl4WzrqPR",
    "outputId": "e2aab7e8-7fa7-4844-e4f1-df341f2639c2"
   },
   "outputs": [
    {
     "data": {
      "text/plain": [
       "(1551, 1)"
      ]
     },
     "execution_count": 69,
     "metadata": {},
     "output_type": "execute_result"
    }
   ],
   "source": [
    "y_pred_inv.shape"
   ]
  },
  {
   "cell_type": "code",
   "execution_count": 70,
   "metadata": {
    "colab": {
     "base_uri": "https://localhost:8080/",
     "height": 102
    },
    "colab_type": "code",
    "executionInfo": {
     "elapsed": 3245,
     "status": "ok",
     "timestamp": 1600160901272,
     "user": {
      "displayName": "Mansoor Rahimat Khan",
      "photoUrl": "",
      "userId": "09687443316707549268"
     },
     "user_tz": -330
    },
    "id": "fLRwNvRjrqYS",
    "outputId": "e6f4bf62-e60e-40b2-c465-bfb0e22a6d93"
   },
   "outputs": [
    {
     "data": {
      "text/plain": [
       "array([[1332,   23],\n",
       "       [  13,  183]])"
      ]
     },
     "execution_count": 70,
     "metadata": {},
     "output_type": "execute_result"
    }
   ],
   "source": [
    "from sklearn.metrics import confusion_matrix\n",
    "confusion_matrix(y_test_inv, y_pred_inv)"
   ]
  },
  {
   "cell_type": "code",
   "execution_count": 71,
   "metadata": {
    "colab": {
     "base_uri": "https://localhost:8080/",
     "height": 34
    },
    "colab_type": "code",
    "executionInfo": {
     "elapsed": 1051,
     "status": "ok",
     "timestamp": 1600160911461,
     "user": {
      "displayName": "Mansoor Rahimat Khan",
      "photoUrl": "",
      "userId": "09687443316707549268"
     },
     "user_tz": -330
    },
    "id": "LPH5KqJXrqVi",
    "outputId": "5791bb45-b245-49bb-cd5b-cd98fc72ead7"
   },
   "outputs": [
    {
     "data": {
      "text/plain": [
       "0.97678916827853"
      ]
     },
     "execution_count": 71,
     "metadata": {},
     "output_type": "execute_result"
    }
   ],
   "source": [
    "from sklearn.metrics import accuracy_score\n",
    "accuracy_score(y_test_inv, y_pred_inv)"
   ]
  },
  {
   "cell_type": "code",
   "execution_count": 72,
   "metadata": {
    "colab": {
     "base_uri": "https://localhost:8080/",
     "height": 221
    },
    "colab_type": "code",
    "executionInfo": {
     "elapsed": 1436,
     "status": "ok",
     "timestamp": 1600160914729,
     "user": {
      "displayName": "Mansoor Rahimat Khan",
      "photoUrl": "",
      "userId": "09687443316707549268"
     },
     "user_tz": -330
    },
    "id": "WDwpiJ9crqTf",
    "outputId": "bf55d334-1332-4fc9-8726-21648afe89b8"
   },
   "outputs": [
    {
     "name": "stdout",
     "output_type": "stream",
     "text": [
      "              precision    recall  f1-score   support\n",
      "\n",
      "         ham       0.99      0.98      0.99      1355\n",
      "        spam       0.89      0.93      0.91       196\n",
      "\n",
      "    accuracy                           0.98      1551\n",
      "   macro avg       0.94      0.96      0.95      1551\n",
      "weighted avg       0.98      0.98      0.98      1551\n",
      "\n"
     ]
    }
   ],
   "source": [
    "from sklearn.metrics import classification_report\n",
    "print(classification_report(y_test_inv, y_pred_inv))"
   ]
  },
  {
   "cell_type": "code",
   "execution_count": 73,
   "metadata": {
    "colab": {
     "base_uri": "https://localhost:8080/",
     "height": 562
    },
    "colab_type": "code",
    "executionInfo": {
     "elapsed": 1449,
     "status": "ok",
     "timestamp": 1600160922779,
     "user": {
      "displayName": "Mansoor Rahimat Khan",
      "photoUrl": "",
      "userId": "09687443316707549268"
     },
     "user_tz": -330
    },
    "id": "OzTvLPzvWKnI",
    "outputId": "b709209e-8661-493f-ff12-9fcb9f669695"
   },
   "outputs": [
    {
     "data": {
      "text/plain": [
       "Text(0.5, 1.0, 'Training and validation loss')"
      ]
     },
     "execution_count": 73,
     "metadata": {},
     "output_type": "execute_result"
    },
    {
     "data": {
      "image/png": "[encoded data removed]",
      "text/plain": [
       "<Figure size 432x288 with 1 Axes>"
      ]
     },
     "metadata": {
      "needs_background": "light"
     },
     "output_type": "display_data"
    },
    {
     "data": {
      "image/png": "[encoded data removed]",
      "text/plain": [
       "<Figure size 432x288 with 1 Axes>"
      ]
     },
     "metadata": {
      "needs_background": "light"
     },
     "output_type": "display_data"
    }
   ],
   "source": [
    "import matplotlib.pyplot as plt\n",
    "accuracy      = training_history.history['accuracy']\n",
    "val_accuracy  = training_history.history['val_accuracy']\n",
    "loss     = training_history.history['loss']\n",
    "val_loss = training_history.history['val_loss']\n",
    "\n",
    "epochs   = range(len(accuracy)) # Get number of epochs\n",
    "\n",
    "plt.plot  ( epochs, accuracy, label = 'training accuracy' )\n",
    "plt.plot  ( epochs, val_accuracy, label = 'validation accuracy' )\n",
    "plt.title ('Training and validation accuracy')\n",
    "plt.legend(loc = 'lower right')\n",
    "plt.figure()\n",
    "\n",
    "plt.plot  ( epochs, loss, label = 'training loss' )\n",
    "plt.plot  ( epochs, val_loss, label = 'validation loss' )\n",
    "plt.legend(loc = 'upper right')\n",
    "plt.title ('Training and validation loss'   )"
   ]
  },
  {
   "cell_type": "markdown",
   "metadata": {
    "colab_type": "text",
    "id": "Ey7an7ukLxWB"
   },
   "source": [
    "### 6. Conclusion and Interpretation\n",
    "\n",
    "1.) We get an overall accuracy of 78% in our model however, this is completely biased towards one class.\n",
    "\n",
    "2.) Our mean precision value weighted average is 75%. However, class wise precision is still poor which resulted in a mean precision value of 43%, this is attributed to the highly imbalanced dataset."
   ]
  },
  {
   "cell_type": "markdown",
   "metadata": {
    "colab_type": "text",
    "id": "9nwOCcvqxVCH"
   },
   "source": [
    "Food for thought:\n",
    "\n",
    "1.) Change activation function (try leaky_relu or tanh) and see if it helps in improving model performance with the dataset that is highly imbalanced\n",
    "\n",
    "2.) Try with only the overall review feature and see if it leads to improvement in model performace\n",
    "\n",
    "3.) Change the hyperparameters of the model and compare the results "
   ]
  },
  {
   "cell_type": "code",
   "execution_count": null,
   "metadata": {},
   "outputs": [],
   "source": []
  }
 ],
 "metadata": {
  "colab": {
   "authorship_tag": "ABX9TyM6XoLZZ5BEPXIwii0vjgm8",
   "collapsed_sections": [],
   "name": "sample_solution.ipynb",
   "provenance": []
  },
  "kernelspec": {
   "display_name": "nlp",
   "language": "python",
   "name": "nlp"
  },
  "language_info": {
   "codemirror_mode": {
    "name": "ipython",
    "version": 3
   },
   "file_extension": ".py",
   "mimetype": "text/x-python",
   "name": "python",
   "nbconvert_exporter": "python",
   "pygments_lexer": "ipython3",
   "version": "3.8.5"
  }
 },
 "nbformat": 4,
 "nbformat_minor": 1
}
